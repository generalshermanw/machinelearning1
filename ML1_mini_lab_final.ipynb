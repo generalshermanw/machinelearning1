{
 "cells": [
  {
   "cell_type": "markdown",
   "metadata": {
    "id": "btvRe3bnBZ6H"
   },
   "source": [
    "# **Machine Learning 1**\n",
    "\n",
    "## **Mini-Lab: SVM & LR Classification**\n",
    "\n",
    "Randy Kim, Kati Schuerger, Will Sherman"
   ]
  },
  {
   "cell_type": "markdown",
   "metadata": {
    "id": "LCeCXLykCPba"
   },
   "source": [
    "The PlayerUnknown’s Battleground (also known as PUBG) Finish Placement Prediction Kaggle competition was posted to \"create a model which predicts players' finishing placement based on their final stats, on a scale from 1 (first place) to 0 (last place).\" We are continuing our analysis from **Lab One: \"Visualization and Data Preprocessing.\"** However, we will focus on response transformation to evaluate classification accuracy on quartiles of *winPlacePerc*, which we will evaluate in combination with 10-fold cross-validation\n",
    "\n",
    "*Note*: We are not performing all of the CRISP-DM outline, only the portions relevant to the grading rubric will be covered."
   ]
  },
  {
   "cell_type": "markdown",
   "metadata": {
    "id": "XzcfxtNApiJJ"
   },
   "source": [
    "#### Library & Data Import Methods ####"
   ]
  },
  {
   "cell_type": "code",
   "execution_count": 1,
   "metadata": {
    "id": "lDesQrGZGJt5"
   },
   "outputs": [],
   "source": [
    "# load libraries\n",
    "import csv\n",
    "import numpy as np\n",
    "import pandas as pd\n",
    "import seaborn as sns\n",
    "import matplotlib.pyplot as plt\n",
    "from sklearn.discriminant_analysis import LinearDiscriminantAnalysis as LDA\n",
    "from sklearn import model_selection\n",
    "from sklearn.model_selection import train_test_split, cross_val_score, RandomizedSearchCV\n",
    "from sklearn.linear_model import LogisticRegression\n",
    "from sklearn import metrics as mt\n",
    "from sklearn.pipeline import Pipeline\n",
    "from sklearn.preprocessing import StandardScaler\n",
    "from sklearn.tree import DecisionTreeClassifier\n",
    "from sklearn.ensemble import RandomForestClassifier\n",
    "from sklearn.model_selection import GridSearchCV\n",
    "from sklearn.decomposition import PCA\n",
    "import statistics\n",
    "import time\n",
    "\n",
    "# import libraries to clean up CopyWarning\n",
    "import warnings\n",
    "from pandas.core.common import SettingWithCopyWarning\n",
    "warnings.simplefilter(action=\"ignore\", category=SettingWithCopyWarning)"
   ]
  },
  {
   "cell_type": "code",
   "execution_count": 2,
   "metadata": {
    "colab": {
     "background_save": true,
     "base_uri": "https://localhost:8080/",
     "height": 38,
     "resources": {
      "http://localhost:8080/nbextensions/google.colab/files.js": {
       "data": "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",
       "headers": [
        [
         "content-type",
         "application/javascript"
        ]
       ],
       "ok": true,
       "status": 200,
       "status_text": ""
      }
     }
    },
    "id": "L7ThIIIyMucD",
    "outputId": "4032e048-1a6d-4454-ca96-b0ce9ef8e6ef"
   },
   "outputs": [],
   "source": [
    "# load in the data\n",
    "pubg_raw = pd.read_csv(\"train_V2.csv\")"
   ]
  },
  {
   "cell_type": "code",
   "execution_count": 3,
   "metadata": {
    "id": "IXHfhYnmNbhs"
   },
   "outputs": [],
   "source": [
    "# this logic iterates through the DF to reduce memory usage\n",
    "# code adapted from https://www.kaggle.com/yansun1996/gbr-ipynb\n",
    "# additional reference: https://www.kaggle.com/gemartin/load-data-reduce-memory-usage\n",
    "\n",
    "def reduce_mem_usage(df):\n",
    "    '''\n",
    "    iterate through all the columns of a dataframe and modify the data type\n",
    "    to reduce memory usage.        \n",
    "    '''\n",
    "    start_mem = df.memory_usage().sum() / 1024**2\n",
    "    print('Memory usage of dataframe is {:.2f} MB'.format(start_mem))\n",
    "    for col in df.columns:\n",
    "        col_type = df[col].dtype\n",
    "        if col_type != object:\n",
    "            c_min = df[col].min()\n",
    "            c_max = df[col].max()\n",
    "            if str(col_type)[:3] == 'int':\n",
    "                if c_min > np.iinfo(np.int8).min and c_max < np.iinfo(np.int8).max:\n",
    "                    df[col] = df[col].astype(np.int8)\n",
    "                elif c_min > np.iinfo(np.int16).min and c_max < np.iinfo(np.int16).max:\n",
    "                    df[col] = df[col].astype(np.int16)\n",
    "                elif c_min > np.iinfo(np.int32).min and c_max < np.iinfo(np.int32).max:\n",
    "                    df[col] = df[col].astype(np.int32)\n",
    "                elif c_min > np.iinfo(np.int64).min and c_max < np.iinfo(np.int64).max:\n",
    "                    df[col] = df[col].astype(np.int64)  \n",
    "            else:\n",
    "                if c_min > np.finfo(np.float16).min and c_max < np.finfo(np.float16).max:\n",
    "                    df[col] = df[col].astype(np.float16)\n",
    "                elif c_min > np.finfo(np.float32).min and c_max < np.finfo(np.float32).max:\n",
    "                    df[col] = df[col].astype(np.float32)\n",
    "                else:\n",
    "                    df[col] = df[col].astype(np.float64)\n",
    "    end_mem = df.memory_usage().sum() / 1024**2\n",
    "    print('Memory usage after optimization is: {:.2f} MB'.format(end_mem))\n",
    "    print('Decreased by {:.1f}%'.format(100 * (start_mem - end_mem) / start_mem))\n",
    "    return df"
   ]
  },
  {
   "cell_type": "code",
   "execution_count": 4,
   "metadata": {},
   "outputs": [
    {
     "name": "stdout",
     "output_type": "stream",
     "text": [
      "Memory usage of dataframe is 983.90 MB\n",
      "Memory usage after optimization is: 288.39 MB\n",
      "Decreased by 70.7%\n"
     ]
    }
   ],
   "source": [
    "pubg_raw = reduce_mem_usage(pubg_raw)"
   ]
  },
  {
   "cell_type": "markdown",
   "metadata": {},
   "source": [
    "### Data Evaluation & Transformation Prior to Modeling ###"
   ]
  },
  {
   "cell_type": "code",
   "execution_count": 5,
   "metadata": {
    "colab": {
     "base_uri": "https://localhost:8080/",
     "height": 270
    },
    "id": "ImZ24bdKU7J9",
    "outputId": "5170f763-254d-4141-bc78-b03a40849e7e"
   },
   "outputs": [
    {
     "data": {
      "text/html": [
       "<div>\n",
       "<style scoped>\n",
       "    .dataframe tbody tr th:only-of-type {\n",
       "        vertical-align: middle;\n",
       "    }\n",
       "\n",
       "    .dataframe tbody tr th {\n",
       "        vertical-align: top;\n",
       "    }\n",
       "\n",
       "    .dataframe thead th {\n",
       "        text-align: right;\n",
       "    }\n",
       "</style>\n",
       "<table border=\"1\" class=\"dataframe\">\n",
       "  <thead>\n",
       "    <tr style=\"text-align: right;\">\n",
       "      <th></th>\n",
       "      <th>Id</th>\n",
       "      <th>groupId</th>\n",
       "      <th>matchId</th>\n",
       "      <th>assists</th>\n",
       "      <th>boosts</th>\n",
       "      <th>damageDealt</th>\n",
       "      <th>DBNOs</th>\n",
       "      <th>headshotKills</th>\n",
       "      <th>heals</th>\n",
       "      <th>killPlace</th>\n",
       "      <th>...</th>\n",
       "      <th>revives</th>\n",
       "      <th>rideDistance</th>\n",
       "      <th>roadKills</th>\n",
       "      <th>swimDistance</th>\n",
       "      <th>teamKills</th>\n",
       "      <th>vehicleDestroys</th>\n",
       "      <th>walkDistance</th>\n",
       "      <th>weaponsAcquired</th>\n",
       "      <th>winPoints</th>\n",
       "      <th>winPlacePerc</th>\n",
       "    </tr>\n",
       "  </thead>\n",
       "  <tbody>\n",
       "    <tr>\n",
       "      <th>0</th>\n",
       "      <td>7f96b2f878858a</td>\n",
       "      <td>4d4b580de459be</td>\n",
       "      <td>a10357fd1a4a91</td>\n",
       "      <td>0</td>\n",
       "      <td>0</td>\n",
       "      <td>0.00000</td>\n",
       "      <td>0</td>\n",
       "      <td>0</td>\n",
       "      <td>0</td>\n",
       "      <td>60</td>\n",
       "      <td>...</td>\n",
       "      <td>0</td>\n",
       "      <td>0.000000</td>\n",
       "      <td>0</td>\n",
       "      <td>0.000000</td>\n",
       "      <td>0</td>\n",
       "      <td>0</td>\n",
       "      <td>244.75</td>\n",
       "      <td>1</td>\n",
       "      <td>1466</td>\n",
       "      <td>0.444336</td>\n",
       "    </tr>\n",
       "    <tr>\n",
       "      <th>1</th>\n",
       "      <td>eef90569b9d03c</td>\n",
       "      <td>684d5656442f9e</td>\n",
       "      <td>aeb375fc57110c</td>\n",
       "      <td>0</td>\n",
       "      <td>0</td>\n",
       "      <td>91.50000</td>\n",
       "      <td>0</td>\n",
       "      <td>0</td>\n",
       "      <td>0</td>\n",
       "      <td>57</td>\n",
       "      <td>...</td>\n",
       "      <td>0</td>\n",
       "      <td>0.004501</td>\n",
       "      <td>0</td>\n",
       "      <td>11.039062</td>\n",
       "      <td>0</td>\n",
       "      <td>0</td>\n",
       "      <td>1434.00</td>\n",
       "      <td>5</td>\n",
       "      <td>0</td>\n",
       "      <td>0.640137</td>\n",
       "    </tr>\n",
       "    <tr>\n",
       "      <th>2</th>\n",
       "      <td>1eaf90ac73de72</td>\n",
       "      <td>6a4a42c3245a74</td>\n",
       "      <td>110163d8bb94ae</td>\n",
       "      <td>1</td>\n",
       "      <td>0</td>\n",
       "      <td>68.00000</td>\n",
       "      <td>0</td>\n",
       "      <td>0</td>\n",
       "      <td>0</td>\n",
       "      <td>47</td>\n",
       "      <td>...</td>\n",
       "      <td>0</td>\n",
       "      <td>0.000000</td>\n",
       "      <td>0</td>\n",
       "      <td>0.000000</td>\n",
       "      <td>0</td>\n",
       "      <td>0</td>\n",
       "      <td>161.75</td>\n",
       "      <td>2</td>\n",
       "      <td>0</td>\n",
       "      <td>0.775391</td>\n",
       "    </tr>\n",
       "    <tr>\n",
       "      <th>3</th>\n",
       "      <td>4616d365dd2853</td>\n",
       "      <td>a930a9c79cd721</td>\n",
       "      <td>f1f1f4ef412d7e</td>\n",
       "      <td>0</td>\n",
       "      <td>0</td>\n",
       "      <td>32.90625</td>\n",
       "      <td>0</td>\n",
       "      <td>0</td>\n",
       "      <td>0</td>\n",
       "      <td>75</td>\n",
       "      <td>...</td>\n",
       "      <td>0</td>\n",
       "      <td>0.000000</td>\n",
       "      <td>0</td>\n",
       "      <td>0.000000</td>\n",
       "      <td>0</td>\n",
       "      <td>0</td>\n",
       "      <td>202.75</td>\n",
       "      <td>3</td>\n",
       "      <td>0</td>\n",
       "      <td>0.166748</td>\n",
       "    </tr>\n",
       "    <tr>\n",
       "      <th>4</th>\n",
       "      <td>315c96c26c9aac</td>\n",
       "      <td>de04010b3458dd</td>\n",
       "      <td>6dc8ff871e21e6</td>\n",
       "      <td>0</td>\n",
       "      <td>0</td>\n",
       "      <td>100.00000</td>\n",
       "      <td>0</td>\n",
       "      <td>0</td>\n",
       "      <td>0</td>\n",
       "      <td>45</td>\n",
       "      <td>...</td>\n",
       "      <td>0</td>\n",
       "      <td>0.000000</td>\n",
       "      <td>0</td>\n",
       "      <td>0.000000</td>\n",
       "      <td>0</td>\n",
       "      <td>0</td>\n",
       "      <td>49.75</td>\n",
       "      <td>2</td>\n",
       "      <td>0</td>\n",
       "      <td>0.187500</td>\n",
       "    </tr>\n",
       "  </tbody>\n",
       "</table>\n",
       "<p>5 rows × 29 columns</p>\n",
       "</div>"
      ],
      "text/plain": [
       "               Id         groupId         matchId  assists  boosts  \\\n",
       "0  7f96b2f878858a  4d4b580de459be  a10357fd1a4a91        0       0   \n",
       "1  eef90569b9d03c  684d5656442f9e  aeb375fc57110c        0       0   \n",
       "2  1eaf90ac73de72  6a4a42c3245a74  110163d8bb94ae        1       0   \n",
       "3  4616d365dd2853  a930a9c79cd721  f1f1f4ef412d7e        0       0   \n",
       "4  315c96c26c9aac  de04010b3458dd  6dc8ff871e21e6        0       0   \n",
       "\n",
       "   damageDealt  DBNOs  headshotKills  heals  killPlace  ...  revives  \\\n",
       "0      0.00000      0              0      0         60  ...        0   \n",
       "1     91.50000      0              0      0         57  ...        0   \n",
       "2     68.00000      0              0      0         47  ...        0   \n",
       "3     32.90625      0              0      0         75  ...        0   \n",
       "4    100.00000      0              0      0         45  ...        0   \n",
       "\n",
       "   rideDistance  roadKills  swimDistance  teamKills vehicleDestroys  \\\n",
       "0      0.000000          0      0.000000          0               0   \n",
       "1      0.004501          0     11.039062          0               0   \n",
       "2      0.000000          0      0.000000          0               0   \n",
       "3      0.000000          0      0.000000          0               0   \n",
       "4      0.000000          0      0.000000          0               0   \n",
       "\n",
       "   walkDistance  weaponsAcquired  winPoints  winPlacePerc  \n",
       "0        244.75                1       1466      0.444336  \n",
       "1       1434.00                5          0      0.640137  \n",
       "2        161.75                2          0      0.775391  \n",
       "3        202.75                3          0      0.166748  \n",
       "4         49.75                2          0      0.187500  \n",
       "\n",
       "[5 rows x 29 columns]"
      ]
     },
     "execution_count": 5,
     "metadata": {},
     "output_type": "execute_result"
    }
   ],
   "source": [
    "pubg_raw.head()"
   ]
  },
  {
   "cell_type": "code",
   "execution_count": 6,
   "metadata": {},
   "outputs": [
    {
     "data": {
      "image/png": "[encoded data removed]",
      "text/plain": [
       "<Figure size 1080x720 with 2 Axes>"
      ]
     },
     "metadata": {
      "needs_background": "light"
     },
     "output_type": "display_data"
    }
   ],
   "source": [
    "cmap = sns.diverging_palette(220, 10, as_cmap=True)\n",
    "fig, ax = plt.subplots(figsize = (15, 10))\n",
    "corrMatrix = pubg_raw.corr()\n",
    "heatPlot = sns.heatmap(corrMatrix, ax=ax, annot=True, fmt=\".1f\", cmap=cmap,\n",
    "                       mask=np.tril(np.ones_like(corrMatrix, dtype=bool)))\n",
    "plt.show()"
   ]
  },
  {
   "cell_type": "markdown",
   "metadata": {},
   "source": [
    "We utilized the analysis from **Lab 1** to inform our approach in dropping NA values as opposed to imputing them. For reference, there was only a single NA value."
   ]
  },
  {
   "cell_type": "code",
   "execution_count": 7,
   "metadata": {
    "colab": {
     "base_uri": "https://localhost:8080/"
    },
    "id": "XEe4ufHfRNsr",
    "outputId": "cc7cce27-ed40-4674-e169-461ab5043eda"
   },
   "outputs": [
    {
     "data": {
      "text/plain": [
       "False"
      ]
     },
     "execution_count": 7,
     "metadata": {},
     "output_type": "execute_result"
    }
   ],
   "source": [
    "# CREATE PUBG_DF TO INCLUDE OUR UPDATES\n",
    "# drop records with missing values (there is only one)\n",
    "pubg_df_stg = pubg_raw.dropna()\n",
    "pubg_df_stg.isnull().values.any()"
   ]
  },
  {
   "cell_type": "markdown",
   "metadata": {},
   "source": [
    "However, we identified that in the numeric column for *rankPoints* there were a subset of values that were \"unranked\", yet these were given a value of -1. We believe this was negatively impacting our modeling (specifically modeling time). For the purposes of this study, we will proceed without the unranked matches."
   ]
  },
  {
   "cell_type": "code",
   "execution_count": 8,
   "metadata": {},
   "outputs": [
    {
     "name": "stdout",
     "output_type": "stream",
     "text": [
      "1701810\n",
      "0\n",
      "0\n",
      "2745155\n"
     ]
    }
   ],
   "source": [
    "# we have some records with -1 values = take the place of NULL\n",
    "\n",
    "x = pubg_df_stg['rankPoints']\n",
    "y = pubg_df_stg['winPoints']\n",
    "z = pubg_df_stg['killPoints']\n",
    "\n",
    "print(x[x==-1].count())\n",
    "print(y[y==-1].count())\n",
    "print(z[z==-1].count())\n",
    "print(pubg_df_stg.shape[0]-x[x==-1].count())"
   ]
  },
  {
   "cell_type": "code",
   "execution_count": 9,
   "metadata": {},
   "outputs": [
    {
     "data": {
      "text/html": [
       "<div>\n",
       "<style scoped>\n",
       "    .dataframe tbody tr th:only-of-type {\n",
       "        vertical-align: middle;\n",
       "    }\n",
       "\n",
       "    .dataframe tbody tr th {\n",
       "        vertical-align: top;\n",
       "    }\n",
       "\n",
       "    .dataframe thead th {\n",
       "        text-align: right;\n",
       "    }\n",
       "</style>\n",
       "<table border=\"1\" class=\"dataframe\">\n",
       "  <thead>\n",
       "    <tr style=\"text-align: right;\">\n",
       "      <th></th>\n",
       "      <th>Id</th>\n",
       "      <th>groupId</th>\n",
       "      <th>matchId</th>\n",
       "      <th>assists</th>\n",
       "      <th>boosts</th>\n",
       "      <th>damageDealt</th>\n",
       "      <th>DBNOs</th>\n",
       "      <th>headshotKills</th>\n",
       "      <th>heals</th>\n",
       "      <th>killPlace</th>\n",
       "      <th>...</th>\n",
       "      <th>revives</th>\n",
       "      <th>rideDistance</th>\n",
       "      <th>roadKills</th>\n",
       "      <th>swimDistance</th>\n",
       "      <th>teamKills</th>\n",
       "      <th>vehicleDestroys</th>\n",
       "      <th>walkDistance</th>\n",
       "      <th>weaponsAcquired</th>\n",
       "      <th>winPoints</th>\n",
       "      <th>winPlacePerc</th>\n",
       "    </tr>\n",
       "  </thead>\n",
       "  <tbody>\n",
       "    <tr>\n",
       "      <th>1</th>\n",
       "      <td>eef90569b9d03c</td>\n",
       "      <td>684d5656442f9e</td>\n",
       "      <td>aeb375fc57110c</td>\n",
       "      <td>0</td>\n",
       "      <td>0</td>\n",
       "      <td>91.50000</td>\n",
       "      <td>0</td>\n",
       "      <td>0</td>\n",
       "      <td>0</td>\n",
       "      <td>57</td>\n",
       "      <td>...</td>\n",
       "      <td>0</td>\n",
       "      <td>0.004501</td>\n",
       "      <td>0</td>\n",
       "      <td>11.039062</td>\n",
       "      <td>0</td>\n",
       "      <td>0</td>\n",
       "      <td>1434.0000</td>\n",
       "      <td>5</td>\n",
       "      <td>0</td>\n",
       "      <td>0.640137</td>\n",
       "    </tr>\n",
       "    <tr>\n",
       "      <th>2</th>\n",
       "      <td>1eaf90ac73de72</td>\n",
       "      <td>6a4a42c3245a74</td>\n",
       "      <td>110163d8bb94ae</td>\n",
       "      <td>1</td>\n",
       "      <td>0</td>\n",
       "      <td>68.00000</td>\n",
       "      <td>0</td>\n",
       "      <td>0</td>\n",
       "      <td>0</td>\n",
       "      <td>47</td>\n",
       "      <td>...</td>\n",
       "      <td>0</td>\n",
       "      <td>0.000000</td>\n",
       "      <td>0</td>\n",
       "      <td>0.000000</td>\n",
       "      <td>0</td>\n",
       "      <td>0</td>\n",
       "      <td>161.7500</td>\n",
       "      <td>2</td>\n",
       "      <td>0</td>\n",
       "      <td>0.775391</td>\n",
       "    </tr>\n",
       "    <tr>\n",
       "      <th>3</th>\n",
       "      <td>4616d365dd2853</td>\n",
       "      <td>a930a9c79cd721</td>\n",
       "      <td>f1f1f4ef412d7e</td>\n",
       "      <td>0</td>\n",
       "      <td>0</td>\n",
       "      <td>32.90625</td>\n",
       "      <td>0</td>\n",
       "      <td>0</td>\n",
       "      <td>0</td>\n",
       "      <td>75</td>\n",
       "      <td>...</td>\n",
       "      <td>0</td>\n",
       "      <td>0.000000</td>\n",
       "      <td>0</td>\n",
       "      <td>0.000000</td>\n",
       "      <td>0</td>\n",
       "      <td>0</td>\n",
       "      <td>202.7500</td>\n",
       "      <td>3</td>\n",
       "      <td>0</td>\n",
       "      <td>0.166748</td>\n",
       "    </tr>\n",
       "    <tr>\n",
       "      <th>4</th>\n",
       "      <td>315c96c26c9aac</td>\n",
       "      <td>de04010b3458dd</td>\n",
       "      <td>6dc8ff871e21e6</td>\n",
       "      <td>0</td>\n",
       "      <td>0</td>\n",
       "      <td>100.00000</td>\n",
       "      <td>0</td>\n",
       "      <td>0</td>\n",
       "      <td>0</td>\n",
       "      <td>45</td>\n",
       "      <td>...</td>\n",
       "      <td>0</td>\n",
       "      <td>0.000000</td>\n",
       "      <td>0</td>\n",
       "      <td>0.000000</td>\n",
       "      <td>0</td>\n",
       "      <td>0</td>\n",
       "      <td>49.7500</td>\n",
       "      <td>2</td>\n",
       "      <td>0</td>\n",
       "      <td>0.187500</td>\n",
       "    </tr>\n",
       "    <tr>\n",
       "      <th>5</th>\n",
       "      <td>ff79c12f326506</td>\n",
       "      <td>289a6836a88d27</td>\n",
       "      <td>bac52627a12114</td>\n",
       "      <td>0</td>\n",
       "      <td>0</td>\n",
       "      <td>100.00000</td>\n",
       "      <td>1</td>\n",
       "      <td>1</td>\n",
       "      <td>0</td>\n",
       "      <td>44</td>\n",
       "      <td>...</td>\n",
       "      <td>0</td>\n",
       "      <td>0.000000</td>\n",
       "      <td>0</td>\n",
       "      <td>0.000000</td>\n",
       "      <td>0</td>\n",
       "      <td>0</td>\n",
       "      <td>34.6875</td>\n",
       "      <td>1</td>\n",
       "      <td>0</td>\n",
       "      <td>0.036987</td>\n",
       "    </tr>\n",
       "  </tbody>\n",
       "</table>\n",
       "<p>5 rows × 29 columns</p>\n",
       "</div>"
      ],
      "text/plain": [
       "               Id         groupId         matchId  assists  boosts  \\\n",
       "1  eef90569b9d03c  684d5656442f9e  aeb375fc57110c        0       0   \n",
       "2  1eaf90ac73de72  6a4a42c3245a74  110163d8bb94ae        1       0   \n",
       "3  4616d365dd2853  a930a9c79cd721  f1f1f4ef412d7e        0       0   \n",
       "4  315c96c26c9aac  de04010b3458dd  6dc8ff871e21e6        0       0   \n",
       "5  ff79c12f326506  289a6836a88d27  bac52627a12114        0       0   \n",
       "\n",
       "   damageDealt  DBNOs  headshotKills  heals  killPlace  ...  revives  \\\n",
       "1     91.50000      0              0      0         57  ...        0   \n",
       "2     68.00000      0              0      0         47  ...        0   \n",
       "3     32.90625      0              0      0         75  ...        0   \n",
       "4    100.00000      0              0      0         45  ...        0   \n",
       "5    100.00000      1              1      0         44  ...        0   \n",
       "\n",
       "   rideDistance  roadKills  swimDistance  teamKills vehicleDestroys  \\\n",
       "1      0.004501          0     11.039062          0               0   \n",
       "2      0.000000          0      0.000000          0               0   \n",
       "3      0.000000          0      0.000000          0               0   \n",
       "4      0.000000          0      0.000000          0               0   \n",
       "5      0.000000          0      0.000000          0               0   \n",
       "\n",
       "   walkDistance  weaponsAcquired  winPoints  winPlacePerc  \n",
       "1     1434.0000                5          0      0.640137  \n",
       "2      161.7500                2          0      0.775391  \n",
       "3      202.7500                3          0      0.166748  \n",
       "4       49.7500                2          0      0.187500  \n",
       "5       34.6875                1          0      0.036987  \n",
       "\n",
       "[5 rows x 29 columns]"
      ]
     },
     "execution_count": 9,
     "metadata": {},
     "output_type": "execute_result"
    }
   ],
   "source": [
    "# SUBSET OUR DATA TO ONLY RETAIN RANKED MATCHES\n",
    "# we have some records with -1 values = take the place of NULL\n",
    "## dropping these to subset our dataset & because they represent non-ranked matches\n",
    "\n",
    "pubg_df = pubg_df_stg[(pubg_df_stg.iloc[:,:] != -1).all(axis=1)]\n",
    "pubg_df.head()"
   ]
  },
  {
   "cell_type": "code",
   "execution_count": 10,
   "metadata": {
    "colab": {
     "base_uri": "https://localhost:8080/",
     "height": 282
    },
    "id": "8Z70upXUG2cS",
    "outputId": "f8066163-9dcf-4036-93e7-7430cb1f1bf3"
   },
   "outputs": [
    {
     "data": {
      "text/plain": [
       "<AxesSubplot:>"
      ]
     },
     "execution_count": 10,
     "metadata": {},
     "output_type": "execute_result"
    },
    {
     "data": {
      "image/png": "[encoded data removed]",
      "text/plain": [
       "<Figure size 432x288 with 1 Axes>"
      ]
     },
     "metadata": {
      "needs_background": "light"
     },
     "output_type": "display_data"
    }
   ],
   "source": [
    "# boxplot of our target variable \n",
    "# data looks pretty well-distributed, possibly a little right-skewed\n",
    "# makes sense = would expect to have fewer records as the quartile increases \n",
    "pubg_df.loc[:, 'winPlacePerc'].plot(kind='box')"
   ]
  },
  {
   "cell_type": "markdown",
   "metadata": {
    "id": "ySZOyb1uqWdd"
   },
   "source": [
    "Our initial approach was to subdivide the players into quartiles and use a classification algorithm to sort players into these quartiles. However, to answer our question of interest, we really only need to predict players in the top (winning) quartile. We changed our methodology to reflect this classification task, and built the models as binary classifiers.\n",
    "\n",
    "*Given we may pursue incorporating a multiclass prediction model down the line, we have not removed the code to create the other 2 variables that we are not using for this exercise (quartlie and quart_int). Additionally, these were part of our learning process in changing course to build binary classification models.*"
   ]
  },
  {
   "cell_type": "code",
   "execution_count": 11,
   "metadata": {
    "colab": {
     "base_uri": "https://localhost:8080/",
     "height": 548
    },
    "id": "TJava5yyJBLT",
    "outputId": "33701f4b-f637-4328-d366-5e46d618816f"
   },
   "outputs": [
    {
     "name": "stdout",
     "output_type": "stream",
     "text": [
      "Quartile 1 threshold: 0.20\n",
      "Quartile 2 threshold: 0.46\n",
      "Quartile 3 threshold: 0.74\n"
     ]
    }
   ],
   "source": [
    "# GATHER THRESHOLDS FOR US TO SET OUR QARTILES \n",
    "# pull out the winPlacePerc column\n",
    "winPlace = pubg_df.loc[:,'winPlacePerc']\n",
    "\n",
    "# get quartile thresholds for equal allocation |\n",
    "print('Quartile 1 threshold: {:.2f}'.format(winPlace.quantile(0.25)))\n",
    "print('Quartile 2 threshold: {:.2f}'.format(winPlace.quantile(0.5)))\n",
    "print('Quartile 3 threshold: {:.2f}'.format(winPlace.quantile(0.75)))"
   ]
  },
  {
   "cell_type": "markdown",
   "metadata": {
    "id": "tM7wJSODddpf"
   },
   "source": [
    "This tells us that the thresholds between quartiles in our data are a little different from the \"basic\" quartiles split (0.25, 0.5, 0.75).\n",
    "\n",
    "We will adjust our thresholds in the 'quartile' column, to reflect the revised thresholds (derived from the actual data)."
   ]
  },
  {
   "cell_type": "code",
   "execution_count": 12,
   "metadata": {
    "colab": {
     "base_uri": "https://localhost:8080/",
     "height": 583
    },
    "id": "l8JsXzTtjrhv",
    "outputId": "25a277c7-e16a-4666-e41c-5d46b2e3b9ba"
   },
   "outputs": [
    {
     "data": {
      "text/html": [
       "<div>\n",
       "<style scoped>\n",
       "    .dataframe tbody tr th:only-of-type {\n",
       "        vertical-align: middle;\n",
       "    }\n",
       "\n",
       "    .dataframe tbody tr th {\n",
       "        vertical-align: top;\n",
       "    }\n",
       "\n",
       "    .dataframe thead th {\n",
       "        text-align: right;\n",
       "    }\n",
       "</style>\n",
       "<table border=\"1\" class=\"dataframe\">\n",
       "  <thead>\n",
       "    <tr style=\"text-align: right;\">\n",
       "      <th></th>\n",
       "      <th>Id</th>\n",
       "      <th>groupId</th>\n",
       "      <th>matchId</th>\n",
       "      <th>assists</th>\n",
       "      <th>boosts</th>\n",
       "      <th>damageDealt</th>\n",
       "      <th>DBNOs</th>\n",
       "      <th>headshotKills</th>\n",
       "      <th>heals</th>\n",
       "      <th>killPlace</th>\n",
       "      <th>...</th>\n",
       "      <th>swimDistance</th>\n",
       "      <th>teamKills</th>\n",
       "      <th>vehicleDestroys</th>\n",
       "      <th>walkDistance</th>\n",
       "      <th>weaponsAcquired</th>\n",
       "      <th>winPoints</th>\n",
       "      <th>winPlacePerc</th>\n",
       "      <th>quartile</th>\n",
       "      <th>quart_int</th>\n",
       "      <th>quart_binary</th>\n",
       "    </tr>\n",
       "  </thead>\n",
       "  <tbody>\n",
       "    <tr>\n",
       "      <th>1</th>\n",
       "      <td>eef90569b9d03c</td>\n",
       "      <td>684d5656442f9e</td>\n",
       "      <td>aeb375fc57110c</td>\n",
       "      <td>0</td>\n",
       "      <td>0</td>\n",
       "      <td>91.50000</td>\n",
       "      <td>0</td>\n",
       "      <td>0</td>\n",
       "      <td>0</td>\n",
       "      <td>57</td>\n",
       "      <td>...</td>\n",
       "      <td>11.039062</td>\n",
       "      <td>0</td>\n",
       "      <td>0</td>\n",
       "      <td>1434.0000</td>\n",
       "      <td>5</td>\n",
       "      <td>0</td>\n",
       "      <td>0.640137</td>\n",
       "      <td>q3</td>\n",
       "      <td>3</td>\n",
       "      <td>0</td>\n",
       "    </tr>\n",
       "    <tr>\n",
       "      <th>2</th>\n",
       "      <td>1eaf90ac73de72</td>\n",
       "      <td>6a4a42c3245a74</td>\n",
       "      <td>110163d8bb94ae</td>\n",
       "      <td>1</td>\n",
       "      <td>0</td>\n",
       "      <td>68.00000</td>\n",
       "      <td>0</td>\n",
       "      <td>0</td>\n",
       "      <td>0</td>\n",
       "      <td>47</td>\n",
       "      <td>...</td>\n",
       "      <td>0.000000</td>\n",
       "      <td>0</td>\n",
       "      <td>0</td>\n",
       "      <td>161.7500</td>\n",
       "      <td>2</td>\n",
       "      <td>0</td>\n",
       "      <td>0.775391</td>\n",
       "      <td>q4</td>\n",
       "      <td>4</td>\n",
       "      <td>1</td>\n",
       "    </tr>\n",
       "    <tr>\n",
       "      <th>3</th>\n",
       "      <td>4616d365dd2853</td>\n",
       "      <td>a930a9c79cd721</td>\n",
       "      <td>f1f1f4ef412d7e</td>\n",
       "      <td>0</td>\n",
       "      <td>0</td>\n",
       "      <td>32.90625</td>\n",
       "      <td>0</td>\n",
       "      <td>0</td>\n",
       "      <td>0</td>\n",
       "      <td>75</td>\n",
       "      <td>...</td>\n",
       "      <td>0.000000</td>\n",
       "      <td>0</td>\n",
       "      <td>0</td>\n",
       "      <td>202.7500</td>\n",
       "      <td>3</td>\n",
       "      <td>0</td>\n",
       "      <td>0.166748</td>\n",
       "      <td>q1</td>\n",
       "      <td>1</td>\n",
       "      <td>0</td>\n",
       "    </tr>\n",
       "    <tr>\n",
       "      <th>4</th>\n",
       "      <td>315c96c26c9aac</td>\n",
       "      <td>de04010b3458dd</td>\n",
       "      <td>6dc8ff871e21e6</td>\n",
       "      <td>0</td>\n",
       "      <td>0</td>\n",
       "      <td>100.00000</td>\n",
       "      <td>0</td>\n",
       "      <td>0</td>\n",
       "      <td>0</td>\n",
       "      <td>45</td>\n",
       "      <td>...</td>\n",
       "      <td>0.000000</td>\n",
       "      <td>0</td>\n",
       "      <td>0</td>\n",
       "      <td>49.7500</td>\n",
       "      <td>2</td>\n",
       "      <td>0</td>\n",
       "      <td>0.187500</td>\n",
       "      <td>q1</td>\n",
       "      <td>1</td>\n",
       "      <td>0</td>\n",
       "    </tr>\n",
       "    <tr>\n",
       "      <th>5</th>\n",
       "      <td>ff79c12f326506</td>\n",
       "      <td>289a6836a88d27</td>\n",
       "      <td>bac52627a12114</td>\n",
       "      <td>0</td>\n",
       "      <td>0</td>\n",
       "      <td>100.00000</td>\n",
       "      <td>1</td>\n",
       "      <td>1</td>\n",
       "      <td>0</td>\n",
       "      <td>44</td>\n",
       "      <td>...</td>\n",
       "      <td>0.000000</td>\n",
       "      <td>0</td>\n",
       "      <td>0</td>\n",
       "      <td>34.6875</td>\n",
       "      <td>1</td>\n",
       "      <td>0</td>\n",
       "      <td>0.036987</td>\n",
       "      <td>q1</td>\n",
       "      <td>1</td>\n",
       "      <td>0</td>\n",
       "    </tr>\n",
       "  </tbody>\n",
       "</table>\n",
       "<p>5 rows × 32 columns</p>\n",
       "</div>"
      ],
      "text/plain": [
       "               Id         groupId         matchId  assists  boosts  \\\n",
       "1  eef90569b9d03c  684d5656442f9e  aeb375fc57110c        0       0   \n",
       "2  1eaf90ac73de72  6a4a42c3245a74  110163d8bb94ae        1       0   \n",
       "3  4616d365dd2853  a930a9c79cd721  f1f1f4ef412d7e        0       0   \n",
       "4  315c96c26c9aac  de04010b3458dd  6dc8ff871e21e6        0       0   \n",
       "5  ff79c12f326506  289a6836a88d27  bac52627a12114        0       0   \n",
       "\n",
       "   damageDealt  DBNOs  headshotKills  heals  killPlace  ...  swimDistance  \\\n",
       "1     91.50000      0              0      0         57  ...     11.039062   \n",
       "2     68.00000      0              0      0         47  ...      0.000000   \n",
       "3     32.90625      0              0      0         75  ...      0.000000   \n",
       "4    100.00000      0              0      0         45  ...      0.000000   \n",
       "5    100.00000      1              1      0         44  ...      0.000000   \n",
       "\n",
       "   teamKills  vehicleDestroys  walkDistance  weaponsAcquired winPoints  \\\n",
       "1          0                0     1434.0000                5         0   \n",
       "2          0                0      161.7500                2         0   \n",
       "3          0                0      202.7500                3         0   \n",
       "4          0                0       49.7500                2         0   \n",
       "5          0                0       34.6875                1         0   \n",
       "\n",
       "   winPlacePerc  quartile  quart_int  quart_binary  \n",
       "1      0.640137        q3          3             0  \n",
       "2      0.775391        q4          4             1  \n",
       "3      0.166748        q1          1             0  \n",
       "4      0.187500        q1          1             0  \n",
       "5      0.036987        q1          1             0  \n",
       "\n",
       "[5 rows x 32 columns]"
      ]
     },
     "execution_count": 12,
     "metadata": {},
     "output_type": "execute_result"
    }
   ],
   "source": [
    "# create new variable fields to use for our predictions (quartile, quart_int, quart_binary)\n",
    "# we will use quart_binary for our classification task in this mini-lab\n",
    "\n",
    "pubg_df['quartile'] = np.where(pubg_df.winPlacePerc < 0.20, 'q1', \n",
    "                       np.where(pubg_df.winPlacePerc < 0.46, 'q2',\n",
    "                                np.where(pubg_df.winPlacePerc < 0.74, 'q3',\n",
    "                                         np.where(pubg_df.winPlacePerc >= 0.74, 'q4',\n",
    "                                                  'other'))))\n",
    "pubg_df['quart_int'] = np.where(pubg_df.winPlacePerc < 0.20, '1', \n",
    "                       np.where(pubg_df.winPlacePerc < 0.46, '2',\n",
    "                                np.where(pubg_df.winPlacePerc < 0.74, '3',\n",
    "                                         np.where(pubg_df.winPlacePerc >= 0.74, '4',\n",
    "                                                  'other'))))\n",
    "pubg_df['quart_binary'] = np.where(pubg_df.winPlacePerc < 0.74, '0',\n",
    "                                         np.where(pubg_df.winPlacePerc >= 0.74, '1',\n",
    "                                                  'other'))\n",
    "pubg_df.head()"
   ]
  },
  {
   "cell_type": "code",
   "execution_count": 13,
   "metadata": {
    "colab": {
     "base_uri": "https://localhost:8080/"
    },
    "id": "HuP48wMug8qD",
    "outputId": "5980090e-d465-4b40-d8d4-86b4f51ff12e"
   },
   "outputs": [
    {
     "name": "stdout",
     "output_type": "stream",
     "text": [
      "Percentage of players in Quartile 1: 24.86%\n",
      "Percentage of players in Quartile 2: 25.19%\n",
      "Percentage of players in Quartile 3: 24.55%\n",
      "Percentage of players in Quartile 4: 25.41%\n",
      "Miscategorized quartile values:   0\n"
     ]
    }
   ],
   "source": [
    "# check the spread of our quartiles\n",
    "# make sure they are balanced\n",
    "\n",
    "quartiles = np.append(sorted(pubg_df.quartile.unique()), 'other')\n",
    "e = 1\n",
    "\n",
    "for i in quartiles:\n",
    "    if e < len(quartiles):\n",
    "        count = len(pubg_df[pubg_df.quartile == i])\n",
    "        print('Percentage of players in Quartile {}: {:.2f}%'.format(e, \n",
    "                                                                 (count / (len(pubg_df.quartile))*100)))\n",
    "        e += 1\n",
    "    else:\n",
    "        count = len(pubg_df[pubg_df.quartile == i])\n",
    "        print('Miscategorized quartile values:  ', count)"
   ]
  },
  {
   "cell_type": "code",
   "execution_count": 14,
   "metadata": {
    "id": "c9NmVeW_oYMu"
   },
   "outputs": [],
   "source": [
    "# remove some unuseful object-datatype variables \n",
    "del pubg_df['Id']\n",
    "del pubg_df['groupId']\n",
    "del pubg_df['matchId']\n",
    "del pubg_df['matchType']"
   ]
  },
  {
   "cell_type": "markdown",
   "metadata": {
    "id": "xpKEprbssIff"
   },
   "source": [
    "The *Id*, *groupId*, and *matchId* features are important for distinguishing distinct players, groups, and matches as part of the original kaggle competition. However, these are not good predictors for our binary classification problem—each triplet will be unique. Therefore, these three are dropped as non-essential.\n",
    "\n",
    "The *matchType* variable was previously identified as having low correlation and predictive power with respect to the original (continuous) response variable, *winPlacePerc*. As such, we opted to remove it from our predictors.\n",
    "\n",
    "*Note*: Analysis on *matchType* was provided in **Lab 1** as part of the **EXPLORE ATTRIBUTES & CLASS** section."
   ]
  },
  {
   "cell_type": "code",
   "execution_count": 15,
   "metadata": {},
   "outputs": [
    {
     "name": "stdout",
     "output_type": "stream",
     "text": [
      "['assists', 'boosts', 'damageDealt', 'DBNOs', 'headshotKills', 'heals', 'killPlace', 'killPoints', 'kills', 'killStreaks', 'longestKill', 'matchDuration', 'maxPlace', 'numGroups', 'rankPoints', 'revives', 'rideDistance', 'roadKills', 'swimDistance', 'teamKills', 'vehicleDestroys', 'walkDistance', 'weaponsAcquired', 'winPoints']\n"
     ]
    }
   ],
   "source": [
    "# FEATURE COLUMN NAMES \n",
    "# make a list of the columns in our df (to be used for models below)\n",
    "\n",
    "cols_df = pubg_df.columns.values.tolist()\n",
    "cols_df.remove('winPlacePerc') # remove target variable 1 (continuous)\n",
    "cols_df.remove('quartile') # remove target variable 2 (categorical)\n",
    "cols_df.remove('quart_int') # remove target variable 2 (numeric representation)\n",
    "cols_df.remove('quart_binary')\n",
    "print(cols_df)"
   ]
  },
  {
   "cell_type": "markdown",
   "metadata": {},
   "source": [
    "Below we re-evaluate the features we have transformed and selected. Above, the **Feature Column Names** code block lists the predictors we will utilize to create the logistic regression model and support vector machine model for the classification task."
   ]
  },
  {
   "cell_type": "code",
   "execution_count": 16,
   "metadata": {
    "id": "4r17s46kBawR"
   },
   "outputs": [
    {
     "data": {
      "text/plain": [
       "<AxesSubplot:>"
      ]
     },
     "execution_count": 16,
     "metadata": {},
     "output_type": "execute_result"
    },
    {
     "data": {
      "image/png": "[encoded data removed]",
      "text/plain": [
       "<Figure size 1080x720 with 2 Axes>"
      ]
     },
     "metadata": {
      "needs_background": "light"
     },
     "output_type": "display_data"
    }
   ],
   "source": [
    "cmap = sns.diverging_palette(220, 10, as_cmap=True)\n",
    "fig, ax = plt.subplots(figsize = (15, 10))\n",
    "corrMatrix = pubg_df.corr()\n",
    "sns.heatmap(corrMatrix, ax=ax, annot=True, fmt=\".1f\", cmap=cmap,\n",
    "            mask=np.tril(np.ones_like(corrMatrix, dtype=bool)))"
   ]
  },
  {
   "cell_type": "markdown",
   "metadata": {
    "id": "qXe2mCvyBcqC"
   },
   "source": [
    "Due to the high correlation between *winPoints*, *rankPoints*, and *killPoints*, we will need to reduce the parameters to avoid multicollinearity within the predictors.\n",
    "\n",
    "There is also a strong correlation between *maxPlace* and *numGroups*; therefore, we will keep *numGroups* which is a direct descriptor of the number of teams or individuals playing in a given match.\n"
   ]
  },
  {
   "cell_type": "code",
   "execution_count": 17,
   "metadata": {},
   "outputs": [
    {
     "name": "stdout",
     "output_type": "stream",
     "text": [
      "['assists', 'boosts', 'damageDealt', 'DBNOs', 'headshotKills', 'heals', 'killPlace', 'kills', 'killStreaks', 'longestKill', 'matchDuration', 'numGroups', 'rankPoints', 'revives', 'rideDistance', 'roadKills', 'swimDistance', 'teamKills', 'vehicleDestroys', 'walkDistance', 'weaponsAcquired']\n"
     ]
    }
   ],
   "source": [
    "# remove additional variables that are causing extra noise in our model\n",
    "# (specifically, these variables are highly correlated with other variables \n",
    "# which impacts our model's convergence perfomance)\n",
    "\n",
    "cols_df.remove('winPoints') # highly correlated with rankPoints and killPoints\n",
    "cols_df.remove('killPoints') # highly correlated with rabnkPoints and winPoints\n",
    "cols_df.remove('maxPlace') # perfectly correlated with numGroups\n",
    "print(cols_df)\n",
    "\n",
    "# We maintain the rankPoints variable since we subset on this earlier to only work with 'ranked' matches"
   ]
  },
  {
   "cell_type": "markdown",
   "metadata": {},
   "source": [
    "This next block presents the structure of the final dataset—verifying it meets minimum rows & columns in addition to identifying relevant features for analysis"
   ]
  },
  {
   "cell_type": "code",
   "execution_count": 18,
   "metadata": {},
   "outputs": [
    {
     "name": "stdout",
     "output_type": "stream",
     "text": [
      "<class 'pandas.core.frame.DataFrame'>\n",
      "Int64Index: 2745155 entries, 1 to 4446965\n",
      "Data columns (total 28 columns):\n",
      " #   Column           Dtype  \n",
      "---  ------           -----  \n",
      " 0   assists          int8   \n",
      " 1   boosts           int8   \n",
      " 2   damageDealt      float16\n",
      " 3   DBNOs            int8   \n",
      " 4   headshotKills    int8   \n",
      " 5   heals            int8   \n",
      " 6   killPlace        int8   \n",
      " 7   killPoints       int16  \n",
      " 8   kills            int8   \n",
      " 9   killStreaks      int8   \n",
      " 10  longestKill      float16\n",
      " 11  matchDuration    int16  \n",
      " 12  maxPlace         int8   \n",
      " 13  numGroups        int8   \n",
      " 14  rankPoints       int16  \n",
      " 15  revives          int8   \n",
      " 16  rideDistance     float16\n",
      " 17  roadKills        int8   \n",
      " 18  swimDistance     float16\n",
      " 19  teamKills        int8   \n",
      " 20  vehicleDestroys  int8   \n",
      " 21  walkDistance     float16\n",
      " 22  weaponsAcquired  int16  \n",
      " 23  winPoints        int16  \n",
      " 24  winPlacePerc     float16\n",
      " 25  quartile         object \n",
      " 26  quart_int        object \n",
      " 27  quart_binary     object \n",
      "dtypes: float16(6), int16(5), int8(14), object(3)\n",
      "memory usage: 178.0+ MB\n"
     ]
    }
   ],
   "source": [
    "pubg_df.info() \n",
    "\n",
    "# note: we will be calling the cols_df as predictors & quart_binary as target variable\n",
    "# we will not be utilizing these response vectors for the Mini-Lab: winPlacePerc, quartile, quart_int"
   ]
  },
  {
   "cell_type": "markdown",
   "metadata": {
    "id": "xP8PkOWXuyM9"
   },
   "source": [
    "## **CREATE MODELS** ##"
   ]
  },
  {
   "cell_type": "markdown",
   "metadata": {
    "id": "1QSGVJS6vSp4"
   },
   "source": [
    "Our initial approach (below) was to use unscaled data and fit a model we have more familiarity with: logistic regression."
   ]
  },
  {
   "cell_type": "markdown",
   "metadata": {},
   "source": [
    "### *Regression Model to Predict Binary Classification Variable*"
   ]
  },
  {
   "cell_type": "code",
   "execution_count": 19,
   "metadata": {
    "colab": {
     "base_uri": "https://localhost:8080/"
    },
    "id": "e8mP_--yOaV0",
    "outputId": "57e97938-7eb7-48db-c901-048143b3e0f9"
   },
   "outputs": [
    {
     "name": "stderr",
     "output_type": "stream",
     "text": [
      "C:\\Users\\sherm\\anaconda3\\lib\\site-packages\\sklearn\\linear_model\\_logistic.py:763: ConvergenceWarning: lbfgs failed to converge (status=1):\n",
      "STOP: TOTAL NO. of ITERATIONS REACHED LIMIT.\n",
      "\n",
      "Increase the number of iterations (max_iter) or scale the data as shown in:\n",
      "    https://scikit-learn.org/stable/modules/preprocessing.html\n",
      "Please also refer to the documentation for alternative solver options:\n",
      "    https://scikit-learn.org/stable/modules/linear_model.html#logistic-regression\n",
      "  n_iter_i = _check_optimize_result(\n"
     ]
    },
    {
     "name": "stdout",
     "output_type": "stream",
     "text": [
      "Logistic Regression Simple Score: 89.64%\n",
      "--- 11.42048692703247 seconds ---\n"
     ]
    }
   ],
   "source": [
    "# SIMPLE LOGIT MODEL \n",
    "## Create Logistic Regression Model & Score Model using train, test, split\n",
    "\n",
    "start_time = time.time()\n",
    "\n",
    "# make our TRAIN/TEST SPLIT\n",
    "feature_cols = cols_df\n",
    "X = pubg_df.loc[:, feature_cols]\n",
    "y = pubg_df.loc[:,'quart_binary']\n",
    "# y = pubg_df.loc[:, 'quartile']\n",
    "X_train, X_test, y_train, y_test = train_test_split(X, y, train_size=.2, random_state=17)\n",
    "\n",
    "logit_simple = LogisticRegression()\n",
    "logit_simple.fit(X_train, y_train)\n",
    "\n",
    "print('Logistic Regression Simple Score: {:.2f}%'.format(logit_simple.score(X_test, y_test)*100))\n",
    "print(\"--- %s seconds ---\" % (time.time() - start_time))"
   ]
  },
  {
   "cell_type": "markdown",
   "metadata": {},
   "source": [
    "For the simple logistic model (above), we encountered a ConvergenceWarning. This may be due to some remaining multicollinearity (e.g. *damageDealt* with *kills*). However, we will continue with the given feature-space—with caution.\n",
    "\n",
    "In order to potentially deal with this, we will increase the number of iterations."
   ]
  },
  {
   "cell_type": "code",
   "execution_count": 20,
   "metadata": {},
   "outputs": [
    {
     "name": "stderr",
     "output_type": "stream",
     "text": [
      "C:\\Users\\sherm\\anaconda3\\lib\\site-packages\\sklearn\\linear_model\\_logistic.py:763: ConvergenceWarning: lbfgs failed to converge (status=1):\n",
      "STOP: TOTAL NO. of ITERATIONS REACHED LIMIT.\n",
      "\n",
      "Increase the number of iterations (max_iter) or scale the data as shown in:\n",
      "    https://scikit-learn.org/stable/modules/preprocessing.html\n",
      "Please also refer to the documentation for alternative solver options:\n",
      "    https://scikit-learn.org/stable/modules/linear_model.html#logistic-regression\n",
      "  n_iter_i = _check_optimize_result(\n"
     ]
    },
    {
     "name": "stdout",
     "output_type": "stream",
     "text": [
      "Logistic Regression Simple Score: 90.28%\n",
      "--- 227.3818233013153 seconds ---\n"
     ]
    }
   ],
   "source": [
    "start_time = time.time()\n",
    "\n",
    "# repeating this step for completeness of code (do not need to run it bc we already ran above)\n",
    "# feature_cols = cols_df\n",
    "# X = pubg_df.loc[:, feature_cols]\n",
    "# y = pubg_df.loc[:, 'quart_binary']\n",
    "\n",
    "X_train, X_test, y_train, y_test = model_selection.train_test_split(X, y, train_size=.2, random_state=17)\n",
    "\n",
    "logit_simple = LogisticRegression(max_iter=4000) # increase maximum iterations\n",
    "logit_simple.fit(X_train, y_train)\n",
    "\n",
    "print('Logistic Regression Simple Score: {:.2f}%'.format(logit_simple.score(X_test, y_test)*100))\n",
    "print(\"--- %s seconds ---\" % (time.time() - start_time))"
   ]
  },
  {
   "cell_type": "markdown",
   "metadata": {},
   "source": [
    "For both classification tasks, we are seeing ConvergenceWarning(s) due to reaching the maximum number of iterations. However, we will proceed without allowing lbfgs to converge, since increasing the max_iter will invariably increase our run-time(s)."
   ]
  },
  {
   "cell_type": "markdown",
   "metadata": {},
   "source": [
    "#### *Build Pipelines* ##"
   ]
  },
  {
   "cell_type": "markdown",
   "metadata": {
    "id": "NbrQkXl5M9AF"
   },
   "source": [
    "Here we created a pipeline that scales and fit 3 different classifications, Logistic Regression, Decision Tree, and Random Forest, to compare their accuracies. Because of how large the dataset is, overfitting issues, high variance, and noise—Random Forest performed better than other classifications. Although the training time was slower than others, Random Forest improves accuracy by using its main advantages.\n",
    "\n",
    "-------------------------------------------------------------------------------\n",
    "\n",
    "**Logistic Regression Accuracy**: 0.904\n",
    "\n",
    "**Decision Tree Accuracy**: 0.892\n",
    "\n",
    "**RandomForest Accuracy**: 0.925\n"
   ]
  },
  {
   "cell_type": "code",
   "execution_count": 21,
   "metadata": {
    "colab": {
     "base_uri": "https://localhost:8080/"
    },
    "id": "hdttDOIziG_I",
    "outputId": "36a14148-0519-4237-d8b2-be5abf72edfb"
   },
   "outputs": [
    {
     "data": {
      "text/plain": [
       "[Pipeline(steps=[('scalar1', StandardScaler()),\n",
       "                 ('lr_classifier', LogisticRegression(random_state=17))]),\n",
       " Pipeline(steps=[('scalar2', StandardScaler()),\n",
       "                 ('dt_classifier', DecisionTreeClassifier(random_state=17))]),\n",
       " Pipeline(steps=[('scalar3', StandardScaler()),\n",
       "                 ('rf_classifier', RandomForestClassifier(random_state=17))])]"
      ]
     },
     "execution_count": 21,
     "metadata": {},
     "output_type": "execute_result"
    }
   ],
   "source": [
    "pipeline_lr = Pipeline([('scalar1', StandardScaler()),\n",
    "                        ('lr_classifier', LogisticRegression(random_state=17))])\n",
    "\n",
    "pipeline_dt = Pipeline([('scalar2', StandardScaler()),\n",
    "                        ('dt_classifier', DecisionTreeClassifier(random_state=17))])\n",
    "\n",
    "pipeline_randomforest = Pipeline([('scalar3', StandardScaler()),\n",
    "                                  ('rf_classifier', RandomForestClassifier(random_state=17))])\n",
    "\n",
    "pipelines = [pipeline_lr, pipeline_dt, pipeline_randomforest]\n",
    "pipelines"
   ]
  },
  {
   "cell_type": "code",
   "execution_count": 22,
   "metadata": {
    "id": "Z4afcZB6iHJ7"
   },
   "outputs": [],
   "source": [
    "best_accuracy = 0.0\n",
    "best_classifier = 0\n",
    "best_pipline = \"\"\n",
    "\n",
    "pipe_dic = {0: \"Logistic Regression\", 1: \"Decision Tree\", 2: \"RandomForest\"}"
   ]
  },
  {
   "cell_type": "code",
   "execution_count": 23,
   "metadata": {
    "id": "fnglKo__iHV8"
   },
   "outputs": [],
   "source": [
    "for pipe in pipelines:\n",
    "    pipe.fit(X_train, y_train)"
   ]
  },
  {
   "cell_type": "code",
   "execution_count": 24,
   "metadata": {
    "colab": {
     "base_uri": "https://localhost:8080/"
    },
    "id": "uzRQKBsKiPD3",
    "outputId": "ca6869c7-1f62-4e86-e7a2-9eb76cf494c0"
   },
   "outputs": [
    {
     "name": "stdout",
     "output_type": "stream",
     "text": [
      "Logistic Regression Test Accuracy: 0.9037923177379784\n",
      "--- 4.949486017227173 seconds ---\n",
      "Decision Tree Test Accuracy: 0.8924263839382476\n",
      "--- 4.994973182678223 seconds ---\n",
      "RandomForest Test Accuracy: 0.924844407692826\n",
      "--- 52.36741042137146 seconds ---\n",
      "\n",
      "Classifier with best accuracy: RandomForest with 0.924844407692826.\n"
     ]
    }
   ],
   "source": [
    "for i,model in enumerate(pipelines):\n",
    "    start_time = time.time()\n",
    "    accuracy = model.score(X_test, y_test)\n",
    "    print(\"{} Test Accuracy: {}\".format(pipe_dic[i],accuracy))\n",
    "    if accuracy > best_accuracy:\n",
    "        best_accuracy = accuracy\n",
    "        best_pipeline = model\n",
    "        best_classifier = i\n",
    "    print(\"--- %s seconds ---\" % (time.time() - start_time))\n",
    "    \n",
    "print(\"\\nClassifier with best accuracy: {} with {}.\".format(pipe_dic[best_classifier], best_accuracy))"
   ]
  },
  {
   "cell_type": "markdown",
   "metadata": {},
   "source": [
    "### **Hyperparameter Tuning for Logistic Regression**"
   ]
  },
  {
   "cell_type": "markdown",
   "metadata": {},
   "source": [
    "To help decrease the run-time for hyperparameter tuning, a subsample of 10% of the data was made. This will still represent about 270,000 records."
   ]
  },
  {
   "cell_type": "code",
   "execution_count": 25,
   "metadata": {},
   "outputs": [],
   "source": [
    "#Create subset of data to decrease hyperparameter tuning run-time\n",
    "pubg_sample = pubg_df.sample(frac=0.1)\n",
    "\n",
    "X = pubg_sample.loc[:, feature_cols]\n",
    "y = pubg_sample.loc[:,'quart_binary']\n",
    "\n",
    "X_train, X_test, y_train, y_test = model_selection.train_test_split(X, y, train_size=.2, random_state=17)"
   ]
  },
  {
   "cell_type": "code",
   "execution_count": 26,
   "metadata": {},
   "outputs": [],
   "source": [
    "pipe = Pipeline([('scalar', StandardScaler()),\n",
    "                 ('classifier', LogisticRegression(random_state = 17))])"
   ]
  },
  {
   "cell_type": "code",
   "execution_count": 27,
   "metadata": {},
   "outputs": [],
   "source": [
    "grid_param = [\n",
    "    {\"classifier\": [LogisticRegression()],\n",
    "    \"classifier__penalty\": [\"l2\"],\n",
    "    \"classifier__C\": np.logspace(-1, 4, 8),\n",
    "    \"classifier__solver\":[\"newton-cg\", \"saga\", \"sag\", \"liblinear\"],\n",
    "    \"classifier__max_iter\": [10, 100, 1000]\n",
    "    }\n",
    "]"
   ]
  },
  {
   "cell_type": "code",
   "execution_count": 28,
   "metadata": {},
   "outputs": [
    {
     "name": "stderr",
     "output_type": "stream",
     "text": [
      "C:\\Users\\sherm\\anaconda3\\lib\\site-packages\\sklearn\\linear_model\\_sag.py:328: ConvergenceWarning: The max_iter was reached which means the coef_ did not converge\n",
      "  warnings.warn(\"The max_iter was reached which means \"\n"
     ]
    },
    {
     "name": "stdout",
     "output_type": "stream",
     "text": [
      "Pipeline(steps=[('scalar', StandardScaler()),\n",
      "                ('classifier',\n",
      "                 LogisticRegression(C=0.1, max_iter=10, solver='saga'))])\n",
      "The mean accuracy of the model is: 0.9042133207050584\n",
      "--- 156.19747877120972 seconds ---\n"
     ]
    }
   ],
   "source": [
    "start_time = time.time()\n",
    "\n",
    "gridsearch = GridSearchCV(pipe, grid_param, cv = 10, verbose = 0, n_jobs = -1)\n",
    "best_model = gridsearch.fit(X_train, y_train)\n",
    "acc = best_model.score(X_test, y_test)\n",
    "\n",
    "print(best_model.best_estimator_)\n",
    "print(\"The mean accuracy of the model is:\", acc)\n",
    "print(\"--- %s seconds ---\" % (time.time() - start_time))"
   ]
  },
  {
   "cell_type": "code",
   "execution_count": 29,
   "metadata": {},
   "outputs": [
    {
     "data": {
      "text/html": [
       "<div>\n",
       "<style scoped>\n",
       "    .dataframe tbody tr th:only-of-type {\n",
       "        vertical-align: middle;\n",
       "    }\n",
       "\n",
       "    .dataframe tbody tr th {\n",
       "        vertical-align: top;\n",
       "    }\n",
       "\n",
       "    .dataframe thead th {\n",
       "        text-align: right;\n",
       "    }\n",
       "</style>\n",
       "<table border=\"1\" class=\"dataframe\">\n",
       "  <thead>\n",
       "    <tr style=\"text-align: right;\">\n",
       "      <th></th>\n",
       "      <th>mean_fit_time</th>\n",
       "      <th>std_fit_time</th>\n",
       "      <th>mean_score_time</th>\n",
       "      <th>std_score_time</th>\n",
       "      <th>param_classifier</th>\n",
       "      <th>param_classifier__C</th>\n",
       "      <th>param_classifier__max_iter</th>\n",
       "      <th>param_classifier__penalty</th>\n",
       "      <th>param_classifier__solver</th>\n",
       "      <th>params</th>\n",
       "      <th>...</th>\n",
       "      <th>split3_test_score</th>\n",
       "      <th>split4_test_score</th>\n",
       "      <th>split5_test_score</th>\n",
       "      <th>split6_test_score</th>\n",
       "      <th>split7_test_score</th>\n",
       "      <th>split8_test_score</th>\n",
       "      <th>split9_test_score</th>\n",
       "      <th>mean_test_score</th>\n",
       "      <th>std_test_score</th>\n",
       "      <th>rank_test_score</th>\n",
       "    </tr>\n",
       "  </thead>\n",
       "  <tbody>\n",
       "    <tr>\n",
       "      <th>0</th>\n",
       "      <td>0.738724</td>\n",
       "      <td>0.018770</td>\n",
       "      <td>0.024235</td>\n",
       "      <td>0.001611</td>\n",
       "      <td>LogisticRegression(C=0.1, max_iter=10, solver=...</td>\n",
       "      <td>0.1</td>\n",
       "      <td>10</td>\n",
       "      <td>l2</td>\n",
       "      <td>newton-cg</td>\n",
       "      <td>{'classifier': LogisticRegression(C=0.1, max_i...</td>\n",
       "      <td>...</td>\n",
       "      <td>0.904554</td>\n",
       "      <td>0.901093</td>\n",
       "      <td>0.907104</td>\n",
       "      <td>0.897086</td>\n",
       "      <td>0.900182</td>\n",
       "      <td>0.901275</td>\n",
       "      <td>0.898179</td>\n",
       "      <td>0.902282</td>\n",
       "      <td>0.003113</td>\n",
       "      <td>16</td>\n",
       "    </tr>\n",
       "    <tr>\n",
       "      <th>1</th>\n",
       "      <td>0.699728</td>\n",
       "      <td>0.125914</td>\n",
       "      <td>0.023936</td>\n",
       "      <td>0.009335</td>\n",
       "      <td>LogisticRegression(C=0.1, max_iter=10, solver=...</td>\n",
       "      <td>0.1</td>\n",
       "      <td>10</td>\n",
       "      <td>l2</td>\n",
       "      <td>saga</td>\n",
       "      <td>{'classifier': LogisticRegression(C=0.1, max_i...</td>\n",
       "      <td>...</td>\n",
       "      <td>0.907468</td>\n",
       "      <td>0.901457</td>\n",
       "      <td>0.908015</td>\n",
       "      <td>0.896721</td>\n",
       "      <td>0.899454</td>\n",
       "      <td>0.901639</td>\n",
       "      <td>0.900364</td>\n",
       "      <td>0.903338</td>\n",
       "      <td>0.003777</td>\n",
       "      <td>1</td>\n",
       "    </tr>\n",
       "    <tr>\n",
       "      <th>2</th>\n",
       "      <td>0.633305</td>\n",
       "      <td>0.066382</td>\n",
       "      <td>0.020944</td>\n",
       "      <td>0.002185</td>\n",
       "      <td>LogisticRegression(C=0.1, max_iter=10, solver=...</td>\n",
       "      <td>0.1</td>\n",
       "      <td>10</td>\n",
       "      <td>l2</td>\n",
       "      <td>sag</td>\n",
       "      <td>{'classifier': LogisticRegression(C=0.1, max_i...</td>\n",
       "      <td>...</td>\n",
       "      <td>0.904554</td>\n",
       "      <td>0.900911</td>\n",
       "      <td>0.907286</td>\n",
       "      <td>0.896903</td>\n",
       "      <td>0.899818</td>\n",
       "      <td>0.901457</td>\n",
       "      <td>0.897814</td>\n",
       "      <td>0.902318</td>\n",
       "      <td>0.003328</td>\n",
       "      <td>11</td>\n",
       "    </tr>\n",
       "    <tr>\n",
       "      <th>3</th>\n",
       "      <td>1.966540</td>\n",
       "      <td>0.107456</td>\n",
       "      <td>0.024934</td>\n",
       "      <td>0.002230</td>\n",
       "      <td>LogisticRegression(C=0.1, max_iter=10, solver=...</td>\n",
       "      <td>0.1</td>\n",
       "      <td>10</td>\n",
       "      <td>l2</td>\n",
       "      <td>liblinear</td>\n",
       "      <td>{'classifier': LogisticRegression(C=0.1, max_i...</td>\n",
       "      <td>...</td>\n",
       "      <td>0.904372</td>\n",
       "      <td>0.901275</td>\n",
       "      <td>0.907468</td>\n",
       "      <td>0.897268</td>\n",
       "      <td>0.900182</td>\n",
       "      <td>0.901093</td>\n",
       "      <td>0.897996</td>\n",
       "      <td>0.902282</td>\n",
       "      <td>0.003132</td>\n",
       "      <td>13</td>\n",
       "    </tr>\n",
       "    <tr>\n",
       "      <th>4</th>\n",
       "      <td>2.540904</td>\n",
       "      <td>0.714851</td>\n",
       "      <td>0.022140</td>\n",
       "      <td>0.005828</td>\n",
       "      <td>LogisticRegression(C=0.1, max_iter=10, solver=...</td>\n",
       "      <td>0.1</td>\n",
       "      <td>100</td>\n",
       "      <td>l2</td>\n",
       "      <td>newton-cg</td>\n",
       "      <td>{'classifier': LogisticRegression(C=0.1, max_i...</td>\n",
       "      <td>...</td>\n",
       "      <td>0.904189</td>\n",
       "      <td>0.901275</td>\n",
       "      <td>0.907286</td>\n",
       "      <td>0.896903</td>\n",
       "      <td>0.900182</td>\n",
       "      <td>0.900729</td>\n",
       "      <td>0.898179</td>\n",
       "      <td>0.902191</td>\n",
       "      <td>0.003142</td>\n",
       "      <td>20</td>\n",
       "    </tr>\n",
       "    <tr>\n",
       "      <th>...</th>\n",
       "      <td>...</td>\n",
       "      <td>...</td>\n",
       "      <td>...</td>\n",
       "      <td>...</td>\n",
       "      <td>...</td>\n",
       "      <td>...</td>\n",
       "      <td>...</td>\n",
       "      <td>...</td>\n",
       "      <td>...</td>\n",
       "      <td>...</td>\n",
       "      <td>...</td>\n",
       "      <td>...</td>\n",
       "      <td>...</td>\n",
       "      <td>...</td>\n",
       "      <td>...</td>\n",
       "      <td>...</td>\n",
       "      <td>...</td>\n",
       "      <td>...</td>\n",
       "      <td>...</td>\n",
       "      <td>...</td>\n",
       "      <td>...</td>\n",
       "    </tr>\n",
       "    <tr>\n",
       "      <th>91</th>\n",
       "      <td>2.536216</td>\n",
       "      <td>0.608501</td>\n",
       "      <td>0.029521</td>\n",
       "      <td>0.008547</td>\n",
       "      <td>LogisticRegression(C=0.1, max_iter=10, solver=...</td>\n",
       "      <td>10000.0</td>\n",
       "      <td>100</td>\n",
       "      <td>l2</td>\n",
       "      <td>liblinear</td>\n",
       "      <td>{'classifier': LogisticRegression(C=0.1, max_i...</td>\n",
       "      <td>...</td>\n",
       "      <td>0.904189</td>\n",
       "      <td>0.900546</td>\n",
       "      <td>0.907286</td>\n",
       "      <td>0.896721</td>\n",
       "      <td>0.899818</td>\n",
       "      <td>0.899818</td>\n",
       "      <td>0.898179</td>\n",
       "      <td>0.901863</td>\n",
       "      <td>0.003211</td>\n",
       "      <td>72</td>\n",
       "    </tr>\n",
       "    <tr>\n",
       "      <th>92</th>\n",
       "      <td>2.663974</td>\n",
       "      <td>0.821219</td>\n",
       "      <td>0.027726</td>\n",
       "      <td>0.012148</td>\n",
       "      <td>LogisticRegression(C=0.1, max_iter=10, solver=...</td>\n",
       "      <td>10000.0</td>\n",
       "      <td>1000</td>\n",
       "      <td>l2</td>\n",
       "      <td>newton-cg</td>\n",
       "      <td>{'classifier': LogisticRegression(C=0.1, max_i...</td>\n",
       "      <td>...</td>\n",
       "      <td>0.904189</td>\n",
       "      <td>0.900546</td>\n",
       "      <td>0.907286</td>\n",
       "      <td>0.896721</td>\n",
       "      <td>0.899818</td>\n",
       "      <td>0.899818</td>\n",
       "      <td>0.898179</td>\n",
       "      <td>0.901863</td>\n",
       "      <td>0.003211</td>\n",
       "      <td>72</td>\n",
       "    </tr>\n",
       "    <tr>\n",
       "      <th>93</th>\n",
       "      <td>2.340142</td>\n",
       "      <td>0.340252</td>\n",
       "      <td>0.024534</td>\n",
       "      <td>0.005610</td>\n",
       "      <td>LogisticRegression(C=0.1, max_iter=10, solver=...</td>\n",
       "      <td>10000.0</td>\n",
       "      <td>1000</td>\n",
       "      <td>l2</td>\n",
       "      <td>saga</td>\n",
       "      <td>{'classifier': LogisticRegression(C=0.1, max_i...</td>\n",
       "      <td>...</td>\n",
       "      <td>0.904007</td>\n",
       "      <td>0.901275</td>\n",
       "      <td>0.907650</td>\n",
       "      <td>0.897268</td>\n",
       "      <td>0.900000</td>\n",
       "      <td>0.900182</td>\n",
       "      <td>0.898361</td>\n",
       "      <td>0.902136</td>\n",
       "      <td>0.003131</td>\n",
       "      <td>28</td>\n",
       "    </tr>\n",
       "    <tr>\n",
       "      <th>94</th>\n",
       "      <td>1.282968</td>\n",
       "      <td>0.236001</td>\n",
       "      <td>0.029722</td>\n",
       "      <td>0.016349</td>\n",
       "      <td>LogisticRegression(C=0.1, max_iter=10, solver=...</td>\n",
       "      <td>10000.0</td>\n",
       "      <td>1000</td>\n",
       "      <td>l2</td>\n",
       "      <td>sag</td>\n",
       "      <td>{'classifier': LogisticRegression(C=0.1, max_i...</td>\n",
       "      <td>...</td>\n",
       "      <td>0.904189</td>\n",
       "      <td>0.901093</td>\n",
       "      <td>0.907468</td>\n",
       "      <td>0.896721</td>\n",
       "      <td>0.900000</td>\n",
       "      <td>0.900000</td>\n",
       "      <td>0.898361</td>\n",
       "      <td>0.902009</td>\n",
       "      <td>0.003186</td>\n",
       "      <td>50</td>\n",
       "    </tr>\n",
       "    <tr>\n",
       "      <th>95</th>\n",
       "      <td>1.960955</td>\n",
       "      <td>0.188718</td>\n",
       "      <td>0.020545</td>\n",
       "      <td>0.006999</td>\n",
       "      <td>LogisticRegression(C=0.1, max_iter=10, solver=...</td>\n",
       "      <td>10000.0</td>\n",
       "      <td>1000</td>\n",
       "      <td>l2</td>\n",
       "      <td>liblinear</td>\n",
       "      <td>{'classifier': LogisticRegression(C=0.1, max_i...</td>\n",
       "      <td>...</td>\n",
       "      <td>0.904189</td>\n",
       "      <td>0.900546</td>\n",
       "      <td>0.907286</td>\n",
       "      <td>0.896721</td>\n",
       "      <td>0.899818</td>\n",
       "      <td>0.899818</td>\n",
       "      <td>0.898179</td>\n",
       "      <td>0.901863</td>\n",
       "      <td>0.003211</td>\n",
       "      <td>72</td>\n",
       "    </tr>\n",
       "  </tbody>\n",
       "</table>\n",
       "<p>96 rows × 23 columns</p>\n",
       "</div>"
      ],
      "text/plain": [
       "    mean_fit_time  std_fit_time  mean_score_time  std_score_time  \\\n",
       "0        0.738724      0.018770         0.024235        0.001611   \n",
       "1        0.699728      0.125914         0.023936        0.009335   \n",
       "2        0.633305      0.066382         0.020944        0.002185   \n",
       "3        1.966540      0.107456         0.024934        0.002230   \n",
       "4        2.540904      0.714851         0.022140        0.005828   \n",
       "..            ...           ...              ...             ...   \n",
       "91       2.536216      0.608501         0.029521        0.008547   \n",
       "92       2.663974      0.821219         0.027726        0.012148   \n",
       "93       2.340142      0.340252         0.024534        0.005610   \n",
       "94       1.282968      0.236001         0.029722        0.016349   \n",
       "95       1.960955      0.188718         0.020545        0.006999   \n",
       "\n",
       "                                     param_classifier param_classifier__C  \\\n",
       "0   LogisticRegression(C=0.1, max_iter=10, solver=...                 0.1   \n",
       "1   LogisticRegression(C=0.1, max_iter=10, solver=...                 0.1   \n",
       "2   LogisticRegression(C=0.1, max_iter=10, solver=...                 0.1   \n",
       "3   LogisticRegression(C=0.1, max_iter=10, solver=...                 0.1   \n",
       "4   LogisticRegression(C=0.1, max_iter=10, solver=...                 0.1   \n",
       "..                                                ...                 ...   \n",
       "91  LogisticRegression(C=0.1, max_iter=10, solver=...             10000.0   \n",
       "92  LogisticRegression(C=0.1, max_iter=10, solver=...             10000.0   \n",
       "93  LogisticRegression(C=0.1, max_iter=10, solver=...             10000.0   \n",
       "94  LogisticRegression(C=0.1, max_iter=10, solver=...             10000.0   \n",
       "95  LogisticRegression(C=0.1, max_iter=10, solver=...             10000.0   \n",
       "\n",
       "   param_classifier__max_iter param_classifier__penalty  \\\n",
       "0                          10                        l2   \n",
       "1                          10                        l2   \n",
       "2                          10                        l2   \n",
       "3                          10                        l2   \n",
       "4                         100                        l2   \n",
       "..                        ...                       ...   \n",
       "91                        100                        l2   \n",
       "92                       1000                        l2   \n",
       "93                       1000                        l2   \n",
       "94                       1000                        l2   \n",
       "95                       1000                        l2   \n",
       "\n",
       "   param_classifier__solver  \\\n",
       "0                 newton-cg   \n",
       "1                      saga   \n",
       "2                       sag   \n",
       "3                 liblinear   \n",
       "4                 newton-cg   \n",
       "..                      ...   \n",
       "91                liblinear   \n",
       "92                newton-cg   \n",
       "93                     saga   \n",
       "94                      sag   \n",
       "95                liblinear   \n",
       "\n",
       "                                               params  ...  split3_test_score  \\\n",
       "0   {'classifier': LogisticRegression(C=0.1, max_i...  ...           0.904554   \n",
       "1   {'classifier': LogisticRegression(C=0.1, max_i...  ...           0.907468   \n",
       "2   {'classifier': LogisticRegression(C=0.1, max_i...  ...           0.904554   \n",
       "3   {'classifier': LogisticRegression(C=0.1, max_i...  ...           0.904372   \n",
       "4   {'classifier': LogisticRegression(C=0.1, max_i...  ...           0.904189   \n",
       "..                                                ...  ...                ...   \n",
       "91  {'classifier': LogisticRegression(C=0.1, max_i...  ...           0.904189   \n",
       "92  {'classifier': LogisticRegression(C=0.1, max_i...  ...           0.904189   \n",
       "93  {'classifier': LogisticRegression(C=0.1, max_i...  ...           0.904007   \n",
       "94  {'classifier': LogisticRegression(C=0.1, max_i...  ...           0.904189   \n",
       "95  {'classifier': LogisticRegression(C=0.1, max_i...  ...           0.904189   \n",
       "\n",
       "    split4_test_score  split5_test_score  split6_test_score  \\\n",
       "0            0.901093           0.907104           0.897086   \n",
       "1            0.901457           0.908015           0.896721   \n",
       "2            0.900911           0.907286           0.896903   \n",
       "3            0.901275           0.907468           0.897268   \n",
       "4            0.901275           0.907286           0.896903   \n",
       "..                ...                ...                ...   \n",
       "91           0.900546           0.907286           0.896721   \n",
       "92           0.900546           0.907286           0.896721   \n",
       "93           0.901275           0.907650           0.897268   \n",
       "94           0.901093           0.907468           0.896721   \n",
       "95           0.900546           0.907286           0.896721   \n",
       "\n",
       "    split7_test_score  split8_test_score  split9_test_score  mean_test_score  \\\n",
       "0            0.900182           0.901275           0.898179         0.902282   \n",
       "1            0.899454           0.901639           0.900364         0.903338   \n",
       "2            0.899818           0.901457           0.897814         0.902318   \n",
       "3            0.900182           0.901093           0.897996         0.902282   \n",
       "4            0.900182           0.900729           0.898179         0.902191   \n",
       "..                ...                ...                ...              ...   \n",
       "91           0.899818           0.899818           0.898179         0.901863   \n",
       "92           0.899818           0.899818           0.898179         0.901863   \n",
       "93           0.900000           0.900182           0.898361         0.902136   \n",
       "94           0.900000           0.900000           0.898361         0.902009   \n",
       "95           0.899818           0.899818           0.898179         0.901863   \n",
       "\n",
       "    std_test_score  rank_test_score  \n",
       "0         0.003113               16  \n",
       "1         0.003777                1  \n",
       "2         0.003328               11  \n",
       "3         0.003132               13  \n",
       "4         0.003142               20  \n",
       "..             ...              ...  \n",
       "91        0.003211               72  \n",
       "92        0.003211               72  \n",
       "93        0.003131               28  \n",
       "94        0.003186               50  \n",
       "95        0.003211               72  \n",
       "\n",
       "[96 rows x 23 columns]"
      ]
     },
     "execution_count": 29,
     "metadata": {},
     "output_type": "execute_result"
    }
   ],
   "source": [
    "df_lr = pd.DataFrame(best_model.cv_results_)\n",
    "df_lr"
   ]
  },
  {
   "cell_type": "code",
   "execution_count": 30,
   "metadata": {},
   "outputs": [
    {
     "data": {
      "text/html": [
       "<style type=\"text/css\">\n",
       "#T_4a843_row0_col0, #T_4a843_row1_col0, #T_4a843_row2_col0, #T_4a843_row3_col0, #T_4a843_row4_col0, #T_4a843_row5_col0, #T_4a843_row6_col0, #T_4a843_row7_col0, #T_4a843_row8_col0, #T_4a843_row9_col0 {\n",
       "  width: 300px;\n",
       "}\n",
       "</style>\n",
       "<table id=\"T_4a843_\">\n",
       "  <thead>\n",
       "    <tr>\n",
       "      <th class=\"blank level0\" >&nbsp;</th>\n",
       "      <th class=\"col_heading level0 col0\" >param_classifier</th>\n",
       "      <th class=\"col_heading level0 col1\" >param_classifier__solver</th>\n",
       "      <th class=\"col_heading level0 col2\" >param_classifier__C</th>\n",
       "      <th class=\"col_heading level0 col3\" >mean_test_score</th>\n",
       "    </tr>\n",
       "  </thead>\n",
       "  <tbody>\n",
       "    <tr>\n",
       "      <th id=\"T_4a843_level0_row0\" class=\"row_heading level0 row0\" >1</th>\n",
       "      <td id=\"T_4a843_row0_col0\" class=\"data row0 col0\" >LogisticRegression(C=0.1, max_iter=10, solver='saga')</td>\n",
       "      <td id=\"T_4a843_row0_col1\" class=\"data row0 col1\" >saga</td>\n",
       "      <td id=\"T_4a843_row0_col2\" class=\"data row0 col2\" >0.100000</td>\n",
       "      <td id=\"T_4a843_row0_col3\" class=\"data row0 col3\" >0.903338</td>\n",
       "    </tr>\n",
       "    <tr>\n",
       "      <th id=\"T_4a843_level0_row1\" class=\"row_heading level0 row1\" >49</th>\n",
       "      <td id=\"T_4a843_row1_col0\" class=\"data row1 col0\" >LogisticRegression(C=0.1, max_iter=10, solver='saga')</td>\n",
       "      <td id=\"T_4a843_row1_col1\" class=\"data row1 col1\" >saga</td>\n",
       "      <td id=\"T_4a843_row1_col2\" class=\"data row1 col2\" >71.968567</td>\n",
       "      <td id=\"T_4a843_row1_col3\" class=\"data row1 col3\" >0.903247</td>\n",
       "    </tr>\n",
       "    <tr>\n",
       "      <th id=\"T_4a843_level0_row2\" class=\"row_heading level0 row2\" >73</th>\n",
       "      <td id=\"T_4a843_row2_col0\" class=\"data row2 col0\" >LogisticRegression(C=0.1, max_iter=10, solver='saga')</td>\n",
       "      <td id=\"T_4a843_row2_col1\" class=\"data row2 col1\" >saga</td>\n",
       "      <td id=\"T_4a843_row2_col2\" class=\"data row2 col2\" >1930.697729</td>\n",
       "      <td id=\"T_4a843_row2_col3\" class=\"data row2 col3\" >0.903247</td>\n",
       "    </tr>\n",
       "    <tr>\n",
       "      <th id=\"T_4a843_level0_row3\" class=\"row_heading level0 row3\" >13</th>\n",
       "      <td id=\"T_4a843_row3_col0\" class=\"data row3 col0\" >LogisticRegression(C=0.1, max_iter=10, solver='saga')</td>\n",
       "      <td id=\"T_4a843_row3_col1\" class=\"data row3 col1\" >saga</td>\n",
       "      <td id=\"T_4a843_row3_col2\" class=\"data row3 col2\" >0.517947</td>\n",
       "      <td id=\"T_4a843_row3_col3\" class=\"data row3 col3\" >0.903229</td>\n",
       "    </tr>\n",
       "    <tr>\n",
       "      <th id=\"T_4a843_level0_row4\" class=\"row_heading level0 row4\" >25</th>\n",
       "      <td id=\"T_4a843_row4_col0\" class=\"data row4 col0\" >LogisticRegression(C=0.1, max_iter=10, solver='saga')</td>\n",
       "      <td id=\"T_4a843_row4_col1\" class=\"data row4 col1\" >saga</td>\n",
       "      <td id=\"T_4a843_row4_col2\" class=\"data row4 col2\" >2.682696</td>\n",
       "      <td id=\"T_4a843_row4_col3\" class=\"data row4 col3\" >0.903211</td>\n",
       "    </tr>\n",
       "    <tr>\n",
       "      <th id=\"T_4a843_level0_row5\" class=\"row_heading level0 row5\" >85</th>\n",
       "      <td id=\"T_4a843_row5_col0\" class=\"data row5 col0\" >LogisticRegression(C=0.1, max_iter=10, solver='saga')</td>\n",
       "      <td id=\"T_4a843_row5_col1\" class=\"data row5 col1\" >saga</td>\n",
       "      <td id=\"T_4a843_row5_col2\" class=\"data row5 col2\" >10000.000000</td>\n",
       "      <td id=\"T_4a843_row5_col3\" class=\"data row5 col3\" >0.903175</td>\n",
       "    </tr>\n",
       "    <tr>\n",
       "      <th id=\"T_4a843_level0_row6\" class=\"row_heading level0 row6\" >61</th>\n",
       "      <td id=\"T_4a843_row6_col0\" class=\"data row6 col0\" >LogisticRegression(C=0.1, max_iter=10, solver='saga')</td>\n",
       "      <td id=\"T_4a843_row6_col1\" class=\"data row6 col1\" >saga</td>\n",
       "      <td id=\"T_4a843_row6_col2\" class=\"data row6 col2\" >372.759372</td>\n",
       "      <td id=\"T_4a843_row6_col3\" class=\"data row6 col3\" >0.903175</td>\n",
       "    </tr>\n",
       "    <tr>\n",
       "      <th id=\"T_4a843_level0_row7\" class=\"row_heading level0 row7\" >37</th>\n",
       "      <td id=\"T_4a843_row7_col0\" class=\"data row7 col0\" >LogisticRegression(C=0.1, max_iter=10, solver='saga')</td>\n",
       "      <td id=\"T_4a843_row7_col1\" class=\"data row7 col1\" >saga</td>\n",
       "      <td id=\"T_4a843_row7_col2\" class=\"data row7 col2\" >13.894955</td>\n",
       "      <td id=\"T_4a843_row7_col3\" class=\"data row7 col3\" >0.903120</td>\n",
       "    </tr>\n",
       "    <tr>\n",
       "      <th id=\"T_4a843_level0_row8\" class=\"row_heading level0 row8\" >38</th>\n",
       "      <td id=\"T_4a843_row8_col0\" class=\"data row8 col0\" >LogisticRegression(C=0.1, max_iter=10, solver='saga')</td>\n",
       "      <td id=\"T_4a843_row8_col1\" class=\"data row8 col1\" >sag</td>\n",
       "      <td id=\"T_4a843_row8_col2\" class=\"data row8 col2\" >13.894955</td>\n",
       "      <td id=\"T_4a843_row8_col3\" class=\"data row8 col3\" >0.902337</td>\n",
       "    </tr>\n",
       "    <tr>\n",
       "      <th id=\"T_4a843_level0_row9\" class=\"row_heading level0 row9\" >74</th>\n",
       "      <td id=\"T_4a843_row9_col0\" class=\"data row9 col0\" >LogisticRegression(C=0.1, max_iter=10, solver='saga')</td>\n",
       "      <td id=\"T_4a843_row9_col1\" class=\"data row9 col1\" >sag</td>\n",
       "      <td id=\"T_4a843_row9_col2\" class=\"data row9 col2\" >1930.697729</td>\n",
       "      <td id=\"T_4a843_row9_col3\" class=\"data row9 col3\" >0.902319</td>\n",
       "    </tr>\n",
       "  </tbody>\n",
       "</table>\n"
      ],
      "text/plain": [
       "<pandas.io.formats.style.Styler at 0x18a9a21b910>"
      ]
     },
     "execution_count": 30,
     "metadata": {},
     "output_type": "execute_result"
    }
   ],
   "source": [
    "lr = df_lr[[\"param_classifier\",\"param_classifier__solver\", \"param_classifier__C\", \"mean_test_score\"]].sort_values(by=\"mean_test_score\", ascending=False).head(10)\n",
    "lr.style.set_properties(subset=['param_classifier'], **{'width': '300px'})"
   ]
  },
  {
   "cell_type": "code",
   "execution_count": 31,
   "metadata": {},
   "outputs": [
    {
     "name": "stdout",
     "output_type": "stream",
     "text": [
      "LogisticRegression(C=0.1, max_iter=10, solver='saga')\n"
     ]
    }
   ],
   "source": [
    "lr_opt = lr['param_classifier'].iloc[0]\n",
    "print(lr_opt)"
   ]
  },
  {
   "cell_type": "code",
   "execution_count": 32,
   "metadata": {},
   "outputs": [
    {
     "name": "stdout",
     "output_type": "stream",
     "text": [
      "[[154262   9633]\n",
      " [ 11403  44315]]\n"
     ]
    }
   ],
   "source": [
    "from sklearn.metrics import confusion_matrix\n",
    "\n",
    "# verifying confusion matrix for LogisticRegression(max_iter=6, solver='newton-cg', C=1):\n",
    "y_pred = best_model.best_estimator_.predict(X_test)\n",
    "print(confusion_matrix(y_test, y_pred))"
   ]
  },
  {
   "cell_type": "markdown",
   "metadata": {},
   "source": [
    "Finally, we've provided the confusion matrix (above) to identify that we aren't *obviously* overfitting directionally for our binomial classification. That is, our model isn't placing all individuals in the \"bottom 75th percentile\" in order to achieve an accuracy of 90%."
   ]
  },
  {
   "cell_type": "markdown",
   "metadata": {
    "id": "wIGxzWPzpT5l"
   },
   "source": [
    "### **Logistic Regression using Stochastic Gradient Descent**"
   ]
  },
  {
   "cell_type": "markdown",
   "metadata": {
    "id": "ERWd9CcDgabc"
   },
   "source": [
    "Whereas linear regression minimizes squared error, logistic regression minimizes log-loss (also known as cross-entropy). [This article](http://rasbt.github.io/mlxtend/user_guide/classifier/LogisticRegression/) can be referenced for a detailed explanation."
   ]
  },
  {
   "cell_type": "code",
   "execution_count": 33,
   "metadata": {
    "colab": {
     "base_uri": "https://localhost:8080/"
    },
    "id": "jgu6qQ5FpiBs",
    "outputId": "17d462b2-a249-450c-dcdf-eb1eb96eea8a"
   },
   "outputs": [
    {
     "name": "stdout",
     "output_type": "stream",
     "text": [
      "Logistic Regression using SGD: 0.8808724826102715\n"
     ]
    }
   ],
   "source": [
    "from sklearn.linear_model import SGDClassifier\n",
    "from sklearn import model_selection\n",
    "from sklearn.model_selection import train_test_split\n",
    "from sklearn.model_selection import ShuffleSplit\n",
    "import statistics\n",
    "# use some compact notation for creating a logistic regression classifier with stochastic descent\n",
    "\n",
    "regularize_const = 0.1\n",
    "iterations = 5\n",
    "acc = []\n",
    "\n",
    "# to use the cross validation object in scikit learn, we need to grab an instance\n",
    "# of the object and set it up. This object will be able to split our data into \n",
    "# training and testing splits (80/20 split)\n",
    "num_cv_iterations = 10\n",
    "num_instances = len(y)\n",
    "cv_object = ShuffleSplit(n_splits=num_cv_iterations, random_state=17,\n",
    "                         test_size=0.2)\n",
    "\n",
    "Xn = pubg_df.loc[:, feature_cols]\n",
    "yn = pubg_df.loc[:,'quart_binary']\n",
    "\n",
    "log_sgd = SGDClassifier(alpha=regularize_const,\n",
    "                        fit_intercept=True, l1_ratio=0.0, learning_rate='optimal',\n",
    "                        loss='log', n_iter_no_change=iterations, n_jobs=-1, penalty='l2')\n",
    "\n",
    "scl = StandardScaler()\n",
    "\n",
    "for train_idx, test_idx in cv_object.split(Xn,yn):\n",
    "    log_sgd.fit(scl.fit_transform(Xn.iloc[train_idx]),yn.iloc[train_idx])\n",
    "    yhat = log_sgd.predict(scl.transform(Xn.iloc[test_idx]))\n",
    "    \n",
    "    acc.append(mt.accuracy_score(yn.iloc[test_idx], yhat))\n",
    "\n",
    "print('Logistic Regression using SGD:', statistics.mean(acc))\n",
    "\n",
    "## code adapted from https://github.com/jakemdrew/DataMiningNotebooks/blob/master/04.%20Logits%20and%20SVM.ipynb\n"
   ]
  },
  {
   "cell_type": "markdown",
   "metadata": {
    "id": "w-ugw6AUkPBy"
   },
   "source": [
    "Utilizing *SGDClassifier()* allowed us to train a model in a much shorter timeframe than the previous regression models."
   ]
  },
  {
   "cell_type": "markdown",
   "metadata": {
    "id": "rqpKp5b7jv5x"
   },
   "source": [
    "We trained the *SGDClassifier()* with the hinge loss, which is equivalent to a linear SVM (reference: https://scikit-learn.org/stable/modules/sgd.html#sgd)."
   ]
  },
  {
   "cell_type": "markdown",
   "metadata": {},
   "source": [
    "### **Hyperparameter Tuning for Logistic Regression using Stochastic Gradient Descent**"
   ]
  },
  {
   "cell_type": "code",
   "execution_count": 34,
   "metadata": {},
   "outputs": [],
   "source": [
    "# SVM HYPERPARAMETER TUNING\n",
    "pipe_sgd = Pipeline([('scalar', StandardScaler()),\n",
    "                    ('classifier', SGDClassifier(random_state = 17))])\n",
    "grid_param = [\n",
    "    {\"classifier__loss\": [\"hinge\", \"log\", \"perceptron\"],\n",
    "    \"classifier__alpha\": np.logspace(-3,3,7),\n",
    "    \"classifier__penalty\": ['l2'],\n",
    "    \"classifier__learning_rate\": [\"optimal\"],\n",
    "    \"classifier__n_iter_no_change\": [10, 100, 1000]\n",
    "    }\n",
    "]"
   ]
  },
  {
   "cell_type": "code",
   "execution_count": 35,
   "metadata": {},
   "outputs": [
    {
     "name": "stdout",
     "output_type": "stream",
     "text": [
      "Pipeline(steps=[('scalar', StandardScaler()),\n",
      "                ('classifier',\n",
      "                 SGDClassifier(alpha=0.001, n_iter_no_change=100,\n",
      "                               random_state=17))])\n",
      "The mean accuracy of the model is: 0.9045457236138116\n",
      "--- 534.0082025527954 seconds ---\n"
     ]
    }
   ],
   "source": [
    "start_time = time.time()\n",
    "\n",
    "gridsearch = GridSearchCV(pipe_sgd, grid_param, cv = 10, verbose = 0, n_jobs = -1)\n",
    "best_model = gridsearch.fit(X_train, y_train)\n",
    "acc = best_model.score(X_test, y_test)\n",
    "\n",
    "print(best_model.best_estimator_)\n",
    "print(\"The mean accuracy of the model is:\", acc)\n",
    "print(\"--- %s seconds ---\" % (time.time() - start_time))"
   ]
  },
  {
   "cell_type": "code",
   "execution_count": 36,
   "metadata": {},
   "outputs": [
    {
     "data": {
      "text/html": [
       "<div>\n",
       "<style scoped>\n",
       "    .dataframe tbody tr th:only-of-type {\n",
       "        vertical-align: middle;\n",
       "    }\n",
       "\n",
       "    .dataframe tbody tr th {\n",
       "        vertical-align: top;\n",
       "    }\n",
       "\n",
       "    .dataframe thead th {\n",
       "        text-align: right;\n",
       "    }\n",
       "</style>\n",
       "<table border=\"1\" class=\"dataframe\">\n",
       "  <thead>\n",
       "    <tr style=\"text-align: right;\">\n",
       "      <th></th>\n",
       "      <th>mean_fit_time</th>\n",
       "      <th>std_fit_time</th>\n",
       "      <th>mean_score_time</th>\n",
       "      <th>std_score_time</th>\n",
       "      <th>param_classifier__alpha</th>\n",
       "      <th>param_classifier__learning_rate</th>\n",
       "      <th>param_classifier__loss</th>\n",
       "      <th>param_classifier__n_iter_no_change</th>\n",
       "      <th>param_classifier__penalty</th>\n",
       "      <th>params</th>\n",
       "      <th>...</th>\n",
       "      <th>split3_test_score</th>\n",
       "      <th>split4_test_score</th>\n",
       "      <th>split5_test_score</th>\n",
       "      <th>split6_test_score</th>\n",
       "      <th>split7_test_score</th>\n",
       "      <th>split8_test_score</th>\n",
       "      <th>split9_test_score</th>\n",
       "      <th>mean_test_score</th>\n",
       "      <th>std_test_score</th>\n",
       "      <th>rank_test_score</th>\n",
       "    </tr>\n",
       "  </thead>\n",
       "  <tbody>\n",
       "    <tr>\n",
       "      <th>0</th>\n",
       "      <td>0.639181</td>\n",
       "      <td>0.072725</td>\n",
       "      <td>0.024235</td>\n",
       "      <td>0.003863</td>\n",
       "      <td>0.001</td>\n",
       "      <td>optimal</td>\n",
       "      <td>hinge</td>\n",
       "      <td>10</td>\n",
       "      <td>l2</td>\n",
       "      <td>{'classifier__alpha': 0.001, 'classifier__lear...</td>\n",
       "      <td>...</td>\n",
       "      <td>0.905282</td>\n",
       "      <td>0.900364</td>\n",
       "      <td>0.904918</td>\n",
       "      <td>0.895264</td>\n",
       "      <td>0.898361</td>\n",
       "      <td>0.895993</td>\n",
       "      <td>0.901093</td>\n",
       "      <td>0.901790</td>\n",
       "      <td>0.004043</td>\n",
       "      <td>9</td>\n",
       "    </tr>\n",
       "    <tr>\n",
       "      <th>1</th>\n",
       "      <td>2.948996</td>\n",
       "      <td>0.243054</td>\n",
       "      <td>0.023439</td>\n",
       "      <td>0.003603</td>\n",
       "      <td>0.001</td>\n",
       "      <td>optimal</td>\n",
       "      <td>hinge</td>\n",
       "      <td>100</td>\n",
       "      <td>l2</td>\n",
       "      <td>{'classifier__alpha': 0.001, 'classifier__lear...</td>\n",
       "      <td>...</td>\n",
       "      <td>0.905282</td>\n",
       "      <td>0.902186</td>\n",
       "      <td>0.908197</td>\n",
       "      <td>0.898543</td>\n",
       "      <td>0.900729</td>\n",
       "      <td>0.901821</td>\n",
       "      <td>0.899271</td>\n",
       "      <td>0.903484</td>\n",
       "      <td>0.003315</td>\n",
       "      <td>1</td>\n",
       "    </tr>\n",
       "    <tr>\n",
       "      <th>2</th>\n",
       "      <td>24.999033</td>\n",
       "      <td>1.175294</td>\n",
       "      <td>0.023378</td>\n",
       "      <td>0.001998</td>\n",
       "      <td>0.001</td>\n",
       "      <td>optimal</td>\n",
       "      <td>hinge</td>\n",
       "      <td>1000</td>\n",
       "      <td>l2</td>\n",
       "      <td>{'classifier__alpha': 0.001, 'classifier__lear...</td>\n",
       "      <td>...</td>\n",
       "      <td>0.905647</td>\n",
       "      <td>0.901639</td>\n",
       "      <td>0.906740</td>\n",
       "      <td>0.898179</td>\n",
       "      <td>0.901275</td>\n",
       "      <td>0.901457</td>\n",
       "      <td>0.898725</td>\n",
       "      <td>0.903193</td>\n",
       "      <td>0.003343</td>\n",
       "      <td>2</td>\n",
       "    </tr>\n",
       "    <tr>\n",
       "      <th>3</th>\n",
       "      <td>0.648961</td>\n",
       "      <td>0.061356</td>\n",
       "      <td>0.022822</td>\n",
       "      <td>0.003236</td>\n",
       "      <td>0.001</td>\n",
       "      <td>optimal</td>\n",
       "      <td>log</td>\n",
       "      <td>10</td>\n",
       "      <td>l2</td>\n",
       "      <td>{'classifier__alpha': 0.001, 'classifier__lear...</td>\n",
       "      <td>...</td>\n",
       "      <td>0.905829</td>\n",
       "      <td>0.901275</td>\n",
       "      <td>0.906193</td>\n",
       "      <td>0.896175</td>\n",
       "      <td>0.900546</td>\n",
       "      <td>0.901457</td>\n",
       "      <td>0.899454</td>\n",
       "      <td>0.902428</td>\n",
       "      <td>0.003179</td>\n",
       "      <td>5</td>\n",
       "    </tr>\n",
       "    <tr>\n",
       "      <th>4</th>\n",
       "      <td>3.207146</td>\n",
       "      <td>0.042121</td>\n",
       "      <td>0.019997</td>\n",
       "      <td>0.001148</td>\n",
       "      <td>0.001</td>\n",
       "      <td>optimal</td>\n",
       "      <td>log</td>\n",
       "      <td>100</td>\n",
       "      <td>l2</td>\n",
       "      <td>{'classifier__alpha': 0.001, 'classifier__lear...</td>\n",
       "      <td>...</td>\n",
       "      <td>0.905282</td>\n",
       "      <td>0.901457</td>\n",
       "      <td>0.907286</td>\n",
       "      <td>0.895993</td>\n",
       "      <td>0.898907</td>\n",
       "      <td>0.902550</td>\n",
       "      <td>0.897632</td>\n",
       "      <td>0.902628</td>\n",
       "      <td>0.003815</td>\n",
       "      <td>4</td>\n",
       "    </tr>\n",
       "    <tr>\n",
       "      <th>...</th>\n",
       "      <td>...</td>\n",
       "      <td>...</td>\n",
       "      <td>...</td>\n",
       "      <td>...</td>\n",
       "      <td>...</td>\n",
       "      <td>...</td>\n",
       "      <td>...</td>\n",
       "      <td>...</td>\n",
       "      <td>...</td>\n",
       "      <td>...</td>\n",
       "      <td>...</td>\n",
       "      <td>...</td>\n",
       "      <td>...</td>\n",
       "      <td>...</td>\n",
       "      <td>...</td>\n",
       "      <td>...</td>\n",
       "      <td>...</td>\n",
       "      <td>...</td>\n",
       "      <td>...</td>\n",
       "      <td>...</td>\n",
       "      <td>...</td>\n",
       "    </tr>\n",
       "    <tr>\n",
       "      <th>58</th>\n",
       "      <td>3.520071</td>\n",
       "      <td>0.370221</td>\n",
       "      <td>0.023989</td>\n",
       "      <td>0.005025</td>\n",
       "      <td>1000.0</td>\n",
       "      <td>optimal</td>\n",
       "      <td>log</td>\n",
       "      <td>100</td>\n",
       "      <td>l2</td>\n",
       "      <td>{'classifier__alpha': 1000.0, 'classifier__lea...</td>\n",
       "      <td>...</td>\n",
       "      <td>0.253005</td>\n",
       "      <td>0.253005</td>\n",
       "      <td>0.253005</td>\n",
       "      <td>0.253005</td>\n",
       "      <td>0.746995</td>\n",
       "      <td>0.746995</td>\n",
       "      <td>0.746995</td>\n",
       "      <td>0.401225</td>\n",
       "      <td>0.226359</td>\n",
       "      <td>46</td>\n",
       "    </tr>\n",
       "    <tr>\n",
       "      <th>59</th>\n",
       "      <td>29.046427</td>\n",
       "      <td>2.055066</td>\n",
       "      <td>0.019727</td>\n",
       "      <td>0.001350</td>\n",
       "      <td>1000.0</td>\n",
       "      <td>optimal</td>\n",
       "      <td>log</td>\n",
       "      <td>1000</td>\n",
       "      <td>l2</td>\n",
       "      <td>{'classifier__alpha': 1000.0, 'classifier__lea...</td>\n",
       "      <td>...</td>\n",
       "      <td>0.253005</td>\n",
       "      <td>0.253005</td>\n",
       "      <td>0.253005</td>\n",
       "      <td>0.253005</td>\n",
       "      <td>0.746995</td>\n",
       "      <td>0.746995</td>\n",
       "      <td>0.746995</td>\n",
       "      <td>0.401225</td>\n",
       "      <td>0.226359</td>\n",
       "      <td>46</td>\n",
       "    </tr>\n",
       "    <tr>\n",
       "      <th>60</th>\n",
       "      <td>0.407656</td>\n",
       "      <td>0.015205</td>\n",
       "      <td>0.018193</td>\n",
       "      <td>0.002135</td>\n",
       "      <td>1000.0</td>\n",
       "      <td>optimal</td>\n",
       "      <td>perceptron</td>\n",
       "      <td>10</td>\n",
       "      <td>l2</td>\n",
       "      <td>{'classifier__alpha': 1000.0, 'classifier__lea...</td>\n",
       "      <td>...</td>\n",
       "      <td>0.253005</td>\n",
       "      <td>0.253005</td>\n",
       "      <td>0.253005</td>\n",
       "      <td>0.253005</td>\n",
       "      <td>0.746995</td>\n",
       "      <td>0.746995</td>\n",
       "      <td>0.746995</td>\n",
       "      <td>0.401225</td>\n",
       "      <td>0.226359</td>\n",
       "      <td>46</td>\n",
       "    </tr>\n",
       "    <tr>\n",
       "      <th>61</th>\n",
       "      <td>2.404710</td>\n",
       "      <td>0.192584</td>\n",
       "      <td>0.019358</td>\n",
       "      <td>0.002715</td>\n",
       "      <td>1000.0</td>\n",
       "      <td>optimal</td>\n",
       "      <td>perceptron</td>\n",
       "      <td>100</td>\n",
       "      <td>l2</td>\n",
       "      <td>{'classifier__alpha': 1000.0, 'classifier__lea...</td>\n",
       "      <td>...</td>\n",
       "      <td>0.253005</td>\n",
       "      <td>0.253005</td>\n",
       "      <td>0.253005</td>\n",
       "      <td>0.253005</td>\n",
       "      <td>0.746995</td>\n",
       "      <td>0.746995</td>\n",
       "      <td>0.746995</td>\n",
       "      <td>0.401225</td>\n",
       "      <td>0.226359</td>\n",
       "      <td>46</td>\n",
       "    </tr>\n",
       "    <tr>\n",
       "      <th>62</th>\n",
       "      <td>21.531749</td>\n",
       "      <td>1.453912</td>\n",
       "      <td>0.014636</td>\n",
       "      <td>0.004020</td>\n",
       "      <td>1000.0</td>\n",
       "      <td>optimal</td>\n",
       "      <td>perceptron</td>\n",
       "      <td>1000</td>\n",
       "      <td>l2</td>\n",
       "      <td>{'classifier__alpha': 1000.0, 'classifier__lea...</td>\n",
       "      <td>...</td>\n",
       "      <td>0.253005</td>\n",
       "      <td>0.253005</td>\n",
       "      <td>0.253005</td>\n",
       "      <td>0.253005</td>\n",
       "      <td>0.746995</td>\n",
       "      <td>0.746995</td>\n",
       "      <td>0.746995</td>\n",
       "      <td>0.401225</td>\n",
       "      <td>0.226359</td>\n",
       "      <td>46</td>\n",
       "    </tr>\n",
       "  </tbody>\n",
       "</table>\n",
       "<p>63 rows × 23 columns</p>\n",
       "</div>"
      ],
      "text/plain": [
       "    mean_fit_time  std_fit_time  mean_score_time  std_score_time  \\\n",
       "0        0.639181      0.072725         0.024235        0.003863   \n",
       "1        2.948996      0.243054         0.023439        0.003603   \n",
       "2       24.999033      1.175294         0.023378        0.001998   \n",
       "3        0.648961      0.061356         0.022822        0.003236   \n",
       "4        3.207146      0.042121         0.019997        0.001148   \n",
       "..            ...           ...              ...             ...   \n",
       "58       3.520071      0.370221         0.023989        0.005025   \n",
       "59      29.046427      2.055066         0.019727        0.001350   \n",
       "60       0.407656      0.015205         0.018193        0.002135   \n",
       "61       2.404710      0.192584         0.019358        0.002715   \n",
       "62      21.531749      1.453912         0.014636        0.004020   \n",
       "\n",
       "   param_classifier__alpha param_classifier__learning_rate  \\\n",
       "0                    0.001                         optimal   \n",
       "1                    0.001                         optimal   \n",
       "2                    0.001                         optimal   \n",
       "3                    0.001                         optimal   \n",
       "4                    0.001                         optimal   \n",
       "..                     ...                             ...   \n",
       "58                  1000.0                         optimal   \n",
       "59                  1000.0                         optimal   \n",
       "60                  1000.0                         optimal   \n",
       "61                  1000.0                         optimal   \n",
       "62                  1000.0                         optimal   \n",
       "\n",
       "   param_classifier__loss param_classifier__n_iter_no_change  \\\n",
       "0                   hinge                                 10   \n",
       "1                   hinge                                100   \n",
       "2                   hinge                               1000   \n",
       "3                     log                                 10   \n",
       "4                     log                                100   \n",
       "..                    ...                                ...   \n",
       "58                    log                                100   \n",
       "59                    log                               1000   \n",
       "60             perceptron                                 10   \n",
       "61             perceptron                                100   \n",
       "62             perceptron                               1000   \n",
       "\n",
       "   param_classifier__penalty  \\\n",
       "0                         l2   \n",
       "1                         l2   \n",
       "2                         l2   \n",
       "3                         l2   \n",
       "4                         l2   \n",
       "..                       ...   \n",
       "58                        l2   \n",
       "59                        l2   \n",
       "60                        l2   \n",
       "61                        l2   \n",
       "62                        l2   \n",
       "\n",
       "                                               params  ...  split3_test_score  \\\n",
       "0   {'classifier__alpha': 0.001, 'classifier__lear...  ...           0.905282   \n",
       "1   {'classifier__alpha': 0.001, 'classifier__lear...  ...           0.905282   \n",
       "2   {'classifier__alpha': 0.001, 'classifier__lear...  ...           0.905647   \n",
       "3   {'classifier__alpha': 0.001, 'classifier__lear...  ...           0.905829   \n",
       "4   {'classifier__alpha': 0.001, 'classifier__lear...  ...           0.905282   \n",
       "..                                                ...  ...                ...   \n",
       "58  {'classifier__alpha': 1000.0, 'classifier__lea...  ...           0.253005   \n",
       "59  {'classifier__alpha': 1000.0, 'classifier__lea...  ...           0.253005   \n",
       "60  {'classifier__alpha': 1000.0, 'classifier__lea...  ...           0.253005   \n",
       "61  {'classifier__alpha': 1000.0, 'classifier__lea...  ...           0.253005   \n",
       "62  {'classifier__alpha': 1000.0, 'classifier__lea...  ...           0.253005   \n",
       "\n",
       "    split4_test_score  split5_test_score  split6_test_score  \\\n",
       "0            0.900364           0.904918           0.895264   \n",
       "1            0.902186           0.908197           0.898543   \n",
       "2            0.901639           0.906740           0.898179   \n",
       "3            0.901275           0.906193           0.896175   \n",
       "4            0.901457           0.907286           0.895993   \n",
       "..                ...                ...                ...   \n",
       "58           0.253005           0.253005           0.253005   \n",
       "59           0.253005           0.253005           0.253005   \n",
       "60           0.253005           0.253005           0.253005   \n",
       "61           0.253005           0.253005           0.253005   \n",
       "62           0.253005           0.253005           0.253005   \n",
       "\n",
       "    split7_test_score  split8_test_score  split9_test_score  mean_test_score  \\\n",
       "0            0.898361           0.895993           0.901093         0.901790   \n",
       "1            0.900729           0.901821           0.899271         0.903484   \n",
       "2            0.901275           0.901457           0.898725         0.903193   \n",
       "3            0.900546           0.901457           0.899454         0.902428   \n",
       "4            0.898907           0.902550           0.897632         0.902628   \n",
       "..                ...                ...                ...              ...   \n",
       "58           0.746995           0.746995           0.746995         0.401225   \n",
       "59           0.746995           0.746995           0.746995         0.401225   \n",
       "60           0.746995           0.746995           0.746995         0.401225   \n",
       "61           0.746995           0.746995           0.746995         0.401225   \n",
       "62           0.746995           0.746995           0.746995         0.401225   \n",
       "\n",
       "    std_test_score  rank_test_score  \n",
       "0         0.004043                9  \n",
       "1         0.003315                1  \n",
       "2         0.003343                2  \n",
       "3         0.003179                5  \n",
       "4         0.003815                4  \n",
       "..             ...              ...  \n",
       "58        0.226359               46  \n",
       "59        0.226359               46  \n",
       "60        0.226359               46  \n",
       "61        0.226359               46  \n",
       "62        0.226359               46  \n",
       "\n",
       "[63 rows x 23 columns]"
      ]
     },
     "execution_count": 36,
     "metadata": {},
     "output_type": "execute_result"
    }
   ],
   "source": [
    "df_sg = pd.DataFrame(best_model.cv_results_)\n",
    "df_sg"
   ]
  },
  {
   "cell_type": "code",
   "execution_count": 37,
   "metadata": {},
   "outputs": [
    {
     "data": {
      "text/html": [
       "<style type=\"text/css\">\n",
       "#T_6028d_row0_col0, #T_6028d_row1_col0, #T_6028d_row2_col0, #T_6028d_row3_col0, #T_6028d_row4_col0, #T_6028d_row5_col0, #T_6028d_row6_col0, #T_6028d_row7_col0, #T_6028d_row8_col0, #T_6028d_row9_col0 {\n",
       "  width: 300px;\n",
       "}\n",
       "</style>\n",
       "<table id=\"T_6028d_\">\n",
       "  <thead>\n",
       "    <tr>\n",
       "      <th class=\"blank level0\" >&nbsp;</th>\n",
       "      <th class=\"col_heading level0 col0\" >params</th>\n",
       "      <th class=\"col_heading level0 col1\" >param_classifier__loss</th>\n",
       "      <th class=\"col_heading level0 col2\" >param_classifier__alpha</th>\n",
       "      <th class=\"col_heading level0 col3\" >mean_test_score</th>\n",
       "    </tr>\n",
       "  </thead>\n",
       "  <tbody>\n",
       "    <tr>\n",
       "      <th id=\"T_6028d_level0_row0\" class=\"row_heading level0 row0\" >1</th>\n",
       "      <td id=\"T_6028d_row0_col0\" class=\"data row0 col0\" >{'classifier__alpha': 0.001, 'classifier__learning_rate': 'optimal', 'classifier__loss': 'hinge', 'classifier__n_iter_no_change': 100, 'classifier__penalty': 'l2'}</td>\n",
       "      <td id=\"T_6028d_row0_col1\" class=\"data row0 col1\" >hinge</td>\n",
       "      <td id=\"T_6028d_row0_col2\" class=\"data row0 col2\" >0.001000</td>\n",
       "      <td id=\"T_6028d_row0_col3\" class=\"data row0 col3\" >0.903484</td>\n",
       "    </tr>\n",
       "    <tr>\n",
       "      <th id=\"T_6028d_level0_row1\" class=\"row_heading level0 row1\" >2</th>\n",
       "      <td id=\"T_6028d_row1_col0\" class=\"data row1 col0\" >{'classifier__alpha': 0.001, 'classifier__learning_rate': 'optimal', 'classifier__loss': 'hinge', 'classifier__n_iter_no_change': 1000, 'classifier__penalty': 'l2'}</td>\n",
       "      <td id=\"T_6028d_row1_col1\" class=\"data row1 col1\" >hinge</td>\n",
       "      <td id=\"T_6028d_row1_col2\" class=\"data row1 col2\" >0.001000</td>\n",
       "      <td id=\"T_6028d_row1_col3\" class=\"data row1 col3\" >0.903193</td>\n",
       "    </tr>\n",
       "    <tr>\n",
       "      <th id=\"T_6028d_level0_row2\" class=\"row_heading level0 row2\" >5</th>\n",
       "      <td id=\"T_6028d_row2_col0\" class=\"data row2 col0\" >{'classifier__alpha': 0.001, 'classifier__learning_rate': 'optimal', 'classifier__loss': 'log', 'classifier__n_iter_no_change': 1000, 'classifier__penalty': 'l2'}</td>\n",
       "      <td id=\"T_6028d_row2_col1\" class=\"data row2 col1\" >log</td>\n",
       "      <td id=\"T_6028d_row2_col2\" class=\"data row2 col2\" >0.001000</td>\n",
       "      <td id=\"T_6028d_row2_col3\" class=\"data row2 col3\" >0.903011</td>\n",
       "    </tr>\n",
       "    <tr>\n",
       "      <th id=\"T_6028d_level0_row3\" class=\"row_heading level0 row3\" >4</th>\n",
       "      <td id=\"T_6028d_row3_col0\" class=\"data row3 col0\" >{'classifier__alpha': 0.001, 'classifier__learning_rate': 'optimal', 'classifier__loss': 'log', 'classifier__n_iter_no_change': 100, 'classifier__penalty': 'l2'}</td>\n",
       "      <td id=\"T_6028d_row3_col1\" class=\"data row3 col1\" >log</td>\n",
       "      <td id=\"T_6028d_row3_col2\" class=\"data row3 col2\" >0.001000</td>\n",
       "      <td id=\"T_6028d_row3_col3\" class=\"data row3 col3\" >0.902628</td>\n",
       "    </tr>\n",
       "    <tr>\n",
       "      <th id=\"T_6028d_level0_row4\" class=\"row_heading level0 row4\" >3</th>\n",
       "      <td id=\"T_6028d_row4_col0\" class=\"data row4 col0\" >{'classifier__alpha': 0.001, 'classifier__learning_rate': 'optimal', 'classifier__loss': 'log', 'classifier__n_iter_no_change': 10, 'classifier__penalty': 'l2'}</td>\n",
       "      <td id=\"T_6028d_row4_col1\" class=\"data row4 col1\" >log</td>\n",
       "      <td id=\"T_6028d_row4_col2\" class=\"data row4 col2\" >0.001000</td>\n",
       "      <td id=\"T_6028d_row4_col3\" class=\"data row4 col3\" >0.902428</td>\n",
       "    </tr>\n",
       "    <tr>\n",
       "      <th id=\"T_6028d_level0_row5\" class=\"row_heading level0 row5\" >11</th>\n",
       "      <td id=\"T_6028d_row5_col0\" class=\"data row5 col0\" >{'classifier__alpha': 0.01, 'classifier__learning_rate': 'optimal', 'classifier__loss': 'hinge', 'classifier__n_iter_no_change': 1000, 'classifier__penalty': 'l2'}</td>\n",
       "      <td id=\"T_6028d_row5_col1\" class=\"data row5 col1\" >hinge</td>\n",
       "      <td id=\"T_6028d_row5_col2\" class=\"data row5 col2\" >0.010000</td>\n",
       "      <td id=\"T_6028d_row5_col3\" class=\"data row5 col3\" >0.902027</td>\n",
       "    </tr>\n",
       "    <tr>\n",
       "      <th id=\"T_6028d_level0_row6\" class=\"row_heading level0 row6\" >9</th>\n",
       "      <td id=\"T_6028d_row6_col0\" class=\"data row6 col0\" >{'classifier__alpha': 0.01, 'classifier__learning_rate': 'optimal', 'classifier__loss': 'hinge', 'classifier__n_iter_no_change': 10, 'classifier__penalty': 'l2'}</td>\n",
       "      <td id=\"T_6028d_row6_col1\" class=\"data row6 col1\" >hinge</td>\n",
       "      <td id=\"T_6028d_row6_col2\" class=\"data row6 col2\" >0.010000</td>\n",
       "      <td id=\"T_6028d_row6_col3\" class=\"data row6 col3\" >0.901991</td>\n",
       "    </tr>\n",
       "    <tr>\n",
       "      <th id=\"T_6028d_level0_row7\" class=\"row_heading level0 row7\" >10</th>\n",
       "      <td id=\"T_6028d_row7_col0\" class=\"data row7 col0\" >{'classifier__alpha': 0.01, 'classifier__learning_rate': 'optimal', 'classifier__loss': 'hinge', 'classifier__n_iter_no_change': 100, 'classifier__penalty': 'l2'}</td>\n",
       "      <td id=\"T_6028d_row7_col1\" class=\"data row7 col1\" >hinge</td>\n",
       "      <td id=\"T_6028d_row7_col2\" class=\"data row7 col2\" >0.010000</td>\n",
       "      <td id=\"T_6028d_row7_col3\" class=\"data row7 col3\" >0.901881</td>\n",
       "    </tr>\n",
       "    <tr>\n",
       "      <th id=\"T_6028d_level0_row8\" class=\"row_heading level0 row8\" >0</th>\n",
       "      <td id=\"T_6028d_row8_col0\" class=\"data row8 col0\" >{'classifier__alpha': 0.001, 'classifier__learning_rate': 'optimal', 'classifier__loss': 'hinge', 'classifier__n_iter_no_change': 10, 'classifier__penalty': 'l2'}</td>\n",
       "      <td id=\"T_6028d_row8_col1\" class=\"data row8 col1\" >hinge</td>\n",
       "      <td id=\"T_6028d_row8_col2\" class=\"data row8 col2\" >0.001000</td>\n",
       "      <td id=\"T_6028d_row8_col3\" class=\"data row8 col3\" >0.901790</td>\n",
       "    </tr>\n",
       "    <tr>\n",
       "      <th id=\"T_6028d_level0_row9\" class=\"row_heading level0 row9\" >14</th>\n",
       "      <td id=\"T_6028d_row9_col0\" class=\"data row9 col0\" >{'classifier__alpha': 0.01, 'classifier__learning_rate': 'optimal', 'classifier__loss': 'log', 'classifier__n_iter_no_change': 1000, 'classifier__penalty': 'l2'}</td>\n",
       "      <td id=\"T_6028d_row9_col1\" class=\"data row9 col1\" >log</td>\n",
       "      <td id=\"T_6028d_row9_col2\" class=\"data row9 col2\" >0.010000</td>\n",
       "      <td id=\"T_6028d_row9_col3\" class=\"data row9 col3\" >0.900315</td>\n",
       "    </tr>\n",
       "  </tbody>\n",
       "</table>\n"
      ],
      "text/plain": [
       "<pandas.io.formats.style.Styler at 0x18b4056b670>"
      ]
     },
     "execution_count": 37,
     "metadata": {},
     "output_type": "execute_result"
    }
   ],
   "source": [
    "sg = df_sg[[\"params\",\"param_classifier__loss\", \"param_classifier__alpha\",\"mean_test_score\"]].sort_values(by=\"mean_test_score\", ascending=False).head(10)\n",
    "sg.style.set_properties(subset=['params'], **{'width': '300px'})"
   ]
  },
  {
   "cell_type": "markdown",
   "metadata": {
    "id": "CCSXL1b1f0Ue"
   },
   "source": [
    "## **MODEL ADVANTAGES**"
   ]
  },
  {
   "cell_type": "markdown",
   "metadata": {
    "id": "jSVF1CyAxVX-"
   },
   "source": [
    "The logistic model using stochastic gradient descent (SGD) runs much faster than the previous models. The 10-fold cross-validation of the simple logistic regression model took about 5 minutes when running high iterations (and was still unable to converge). The SGD approach takes around 3 minutes to run a 10-fold cross-validation.\n",
    "\n",
    "The trade off is that we see a slightly lower average accuracy score (we pay for our improved computing speed with about 1 to 2% accuracy = it drops from around 90% to around 88%).\n",
    "\n",
    "But, 88% accuracy is still pretty solid. Additionally, the variance of the scores doesn't seem to suffer drastically. As for next steps, we could explore methods to reduce the  dimensionality of our data, to see if we can bring our accuracy score up without a substantal increase in processing time.\n",
    "\n",
    "The *SGDClassifier* did not show marked improvement over the DecisionTree and RandomForest approaches, both in terms of accuracy scores and in terms of time-to-completion. **This is distinct** compared to our original approach from the first submission of the mini-lab. It appears that removing the *unranked* matches from the original dataset positively affected the non-parametric models. Also of note is the increase in accuracy that hyperparameter tuning gave but that the run-time increased with increased iterations.\n",
    "\n",
    "Lastly, between the logistic regression using stochastic gradient descent and the support vector machine, it appears that the SVM model has a slight advantage both in terms of run-time and accuracy."
   ]
  },
  {
   "cell_type": "markdown",
   "metadata": {
    "id": "goxVJSaNkpN_"
   },
   "source": [
    "## **INTERPRETING FEATURE IMPORTANCE**  *edited*"
   ]
  },
  {
   "cell_type": "code",
   "execution_count": 38,
   "metadata": {
    "colab": {
     "base_uri": "https://localhost:8080/"
    },
    "id": "ImUikPSipisz",
    "outputId": "139d6abb-44a1-4e8f-f11d-88dcb0ccf5be"
   },
   "outputs": [
    {
     "name": "stdout",
     "output_type": "stream",
     "text": [
      "assists has weight of 0.13189417\n",
      "boosts has weight of 0.4116481\n",
      "damageDealt has weight of 0.11767393\n",
      "DBNOs has weight of 0.11140397\n",
      "headshotKills has weight of 0.0091954535\n",
      "heals has weight of 0.031161811\n",
      "killPlace has weight of 2.0898056\n",
      "kills has weight of 0.23139851\n",
      "killStreaks has weight of 0.78190374\n",
      "longestKill has weight of 0.011036668\n",
      "matchDuration has weight of 0.64714456\n",
      "numGroups has weight of 0.29484427\n",
      "rankPoints has weight of 0.04612249\n",
      "revives has weight of 0.03408298\n",
      "rideDistance has weight of 0.37010667\n",
      "roadKills has weight of 0.005191717\n",
      "swimDistance has weight of 0.11732215\n",
      "teamKills has weight of 0.03988501\n",
      "vehicleDestroys has weight of 0.0051422305\n",
      "walkDistance has weight of 1.6390047\n",
      "weaponsAcquired has weight of 0.14307411\n"
     ]
    },
    {
     "name": "stderr",
     "output_type": "stream",
     "text": [
      "C:\\Users\\sherm\\anaconda3\\lib\\site-packages\\sklearn\\linear_model\\_sag.py:328: ConvergenceWarning: The max_iter was reached which means the coef_ did not converge\n",
      "  warnings.warn(\"The max_iter was reached which means \"\n"
     ]
    }
   ],
   "source": [
    "# INTERPRETTING WEIGHTS\n",
    "\n",
    "pipe = Pipeline([('scalar', StandardScaler()),\n",
    "                 ('classifier', lr_opt)])\n",
    "# iterate over the coefficients\n",
    "lr_best = pipe.fit(X_train, y_train)\n",
    "weights = abs(lr_best.named_steps['classifier'].coef_[0])\n",
    "\n",
    "variable_names = cols_df\n",
    "for coef, name in zip(weights, variable_names):\n",
    "    print(name, 'has weight of', coef)"
   ]
  },
  {
   "cell_type": "code",
   "execution_count": 39,
   "metadata": {
    "colab": {
     "base_uri": "https://localhost:8080/",
     "height": 361
    },
    "id": "YWGoK6EkxV13",
    "outputId": "4637ed2e-3c6c-45f5-dab9-0f36d620804a"
   },
   "outputs": [
    {
     "data": {
      "image/png": "[encoded data removed]",
      "text/plain": [
       "<Figure size 576x288 with 1 Axes>"
      ]
     },
     "metadata": {},
     "output_type": "display_data"
    }
   ],
   "source": [
    "%matplotlib inline\n",
    "plt.style.use('ggplot')\n",
    "\n",
    "weights_graph = pd.Series(weights.flatten(), index=variable_names)\n",
    "plt.figure(figsize=(8, 4))\n",
    "plt.ylim(ymin=0,ymax=2.5)\n",
    "wg = weights_graph.plot(kind='bar')\n",
    "wg.axhline(y=0.5, linestyle='--', linewidth=0.8)\n",
    "\n",
    "plt.title('Feature weights for logistic regression')\n",
    "plt.show()"
   ]
  },
  {
   "cell_type": "markdown",
   "metadata": {
    "id": "sbp138w024s0"
   },
   "source": [
    "We can see from the graph above that *killPlace* is the feature with the most importance in our model, followed by *walkDistance*, *killStreaks*, and then *matchDuration*. Here are a few comments about each of these.\n",
    "\n",
    "1. killPlace: This variable represents a ranking in a given match, based on the number of enemy players killed. More enemy players killed means a better placement—which means a lower. It makes sense that this would be influential for our target variable, destroying a greater number of the other players means that there are fewer players to place higher than you. Additional research into analysis performed by others suggests that very few players adopt a 'passive' strategy (one in which they do not go on the offensive, attacking other players), and that even fewer manage to place highly in a given match when they have a minimal enemy kill count.\n",
    "\n",
    "2. walkDistance: This variable represents the total distance walked by a player during the match. It makes sense that the walk distance would be an imporant factor for influencing the target variable (*quart_binary*); a player that places higher would be alive longer, and travel a greater distance, as compared to players that place lower (aka die early).\n",
    "\n",
    "3. killStreaks: This represents the number of enemy players killed in a short amount of time. This represents a player that may get a higher killPlace (so there may be some multicollinearity here). Additionally, gettin gmore killStreaks will likely place that individual higher in rankings.\n",
    "\n",
    "4. matchDuration: This feature is the only one that doesn't necessarily make sense. Since this is the length of time a match goes on—and not how long a player survives—we would expect this feature to have lower importance.\n",
    "\n",
    "All other vectors have weights less than 0.4."
   ]
  },
  {
   "cell_type": "markdown",
   "metadata": {},
   "source": [
    "### *Feature Importance for Random Forest Model* #new section"
   ]
  },
  {
   "cell_type": "code",
   "execution_count": 40,
   "metadata": {},
   "outputs": [
    {
     "data": {
      "text/plain": [
       "('rf_classifier', RandomForestClassifier(random_state=17))"
      ]
     },
     "execution_count": 40,
     "metadata": {},
     "output_type": "execute_result"
    }
   ],
   "source": [
    "pipeline_randomforest.steps[1]"
   ]
  },
  {
   "cell_type": "code",
   "execution_count": 41,
   "metadata": {},
   "outputs": [
    {
     "data": {
      "text/plain": [
       "array([0.0085096 , 0.10517832, 0.0462004 , 0.01085611, 0.00663614,\n",
       "       0.05041564, 0.16985099, 0.02223203, 0.01486909, 0.05423425,\n",
       "       0.04664964, 0.03690244, 0.03563346, 0.00559869, 0.03304155,\n",
       "       0.00045464, 0.01053425, 0.00192719, 0.00091185, 0.29357673,\n",
       "       0.04578698])"
      ]
     },
     "execution_count": 41,
     "metadata": {},
     "output_type": "execute_result"
    }
   ],
   "source": [
    "pipeline_randomforest.steps[1][1].feature_importances_"
   ]
  },
  {
   "cell_type": "code",
   "execution_count": 42,
   "metadata": {},
   "outputs": [
    {
     "name": "stdout",
     "output_type": "stream",
     "text": [
      "Feature: assists          Score: 0.00851\n",
      "Feature: boosts           Score: 0.10518\n",
      "Feature: damageDealt      Score: 0.04620\n",
      "Feature: DBNOs            Score: 0.01086\n",
      "Feature: headshotKills    Score: 0.00664\n",
      "Feature: heals            Score: 0.05042\n",
      "Feature: killPlace        Score: 0.16985\n",
      "Feature: kills            Score: 0.02223\n",
      "Feature: killStreaks      Score: 0.01487\n",
      "Feature: longestKill      Score: 0.05423\n",
      "Feature: matchDuration    Score: 0.04665\n",
      "Feature: numGroups        Score: 0.03690\n",
      "Feature: rankPoints       Score: 0.03563\n",
      "Feature: revives          Score: 0.00560\n",
      "Feature: rideDistance     Score: 0.03304\n",
      "Feature: roadKills        Score: 0.00045\n",
      "Feature: swimDistance     Score: 0.01053\n",
      "Feature: teamKills        Score: 0.00193\n",
      "Feature: vehicleDestroys  Score: 0.00091\n",
      "Feature: walkDistance     Score: 0.29358\n",
      "Feature: weaponsAcquired  Score: 0.04579\n"
     ]
    },
    {
     "data": {
      "image/png": "[encoded data removed]",
      "text/plain": [
       "<Figure size 432x288 with 1 Axes>"
      ]
     },
     "metadata": {},
     "output_type": "display_data"
    }
   ],
   "source": [
    "# code adapted from: https://machinelearningmastery.com/calculate-feature-importance-with-python/\n",
    "\n",
    "# get importance\n",
    "importance = pipeline_randomforest.steps[1][1].feature_importances_\n",
    "forest_importance = pd.Series(importance, cols_df[0:23])\n",
    "\n",
    "# summarize feature importance\n",
    "for name, v in forest_importance.items():\n",
    "    print('Feature: {} Score: {:.5f}'.format(name.ljust(16), v))\n",
    "\n",
    "# plot feature importance\n",
    "forest_importance.plot.bar()\n",
    "plt.show()"
   ]
  },
  {
   "cell_type": "markdown",
   "metadata": {},
   "source": [
    "We can see from the graph above that walkDistance is the feature with the most importance in our model, followed by killPlace, boosts, and damageDealt. Here are a few comments about each of these.\n",
    "\n",
    "1. walkDistance: This variable represents the total distance walked by a player during the match. It makes sense that the walk distance would be an imporant factor for influencing the target variable (quart_binary); a player that places higher would be alive longer, and travel a greater distance, as compared to players that place lower (aka die early).\n",
    "\n",
    "2. killPlace: This variable represents a ranking in a given match, based on the number of enemy players killed. More enemy players killed means a better placement. It makes sense that this would be influential for our target variable, destroying a greater number of the other players means that there are fewer players to place higher than you. Additional research into analysis performed by others suggests that very few players adopt a 'passive' strategy (one in which they do not go on the offensive, attacking other players), and that even fewer manage to place highly in a given match when they have a minimal enemy kill count.\n",
    "\n",
    "3. boosts: Boosts are items that give players extra \"boosts\" of life; so if a player's health is diminished, they can use boost items to replenish their health, which in turn allows them to continue to play longer, which increases the chances that they will place higher.\n",
    "\n",
    "4. damageDealt: This variable represents the amount of damage that the player inflicts (ex: wounding or killing other players). The same thought process as killPlace applies to this variable; the more damage a player causes on enemy players, the greater the opportunity for that player to last longer in the game, and place higher. "
   ]
  },
  {
   "cell_type": "markdown",
   "metadata": {},
   "source": [
    "#### Comparison: Logistic Regression v. Random Forest\n",
    "\n",
    "For two of our models (SGDClassifier with hinge-loss was not included), the weights included *killPlace* and *walkDistance* when predicting for the response, *quart_binary*. There was some disagreement between the LogisticRegression and RandomForest models with respect to the third most important variable. However, both models are producing accuracies greater than 90%; therefore, much of the prediction power could be attributed to these two features."
   ]
  },
  {
   "cell_type": "markdown",
   "metadata": {
    "id": "AaM6ISmekwtE"
   },
   "source": [
    "## **INTERPRETING SUPPORT VECTORS**"
   ]
  },
  {
   "cell_type": "markdown",
   "metadata": {
    "id": "tt0LcEN3S3w0"
   },
   "source": [
    "*Below code adapted from: https://scikit-learn.org/stable/auto_examples/svm/plot_linearsvc_support_vectors.html*"
   ]
  },
  {
   "cell_type": "code",
   "execution_count": 43,
   "metadata": {
    "colab": {
     "base_uri": "https://localhost:8080/",
     "height": 369
    },
    "id": "whNwUqHNSw9B",
    "outputId": "87fd4310-77d0-48f1-815a-0ddb024aa9ee"
   },
   "outputs": [
    {
     "data": {
      "image/png": "[encoded data removed]",
      "text/plain": [
       "<Figure size 720x360 with 2 Axes>"
      ]
     },
     "metadata": {},
     "output_type": "display_data"
    }
   ],
   "source": [
    "# graph the support vectors\n",
    "\n",
    "import numpy as np\n",
    "import matplotlib.pyplot as plt\n",
    "from sklearn.datasets import make_blobs\n",
    "from sklearn.svm import LinearSVC\n",
    "\n",
    "X, y = make_blobs(n_samples=40, centers=2, random_state=17)\n",
    "\n",
    "plt.figure(figsize=(10, 5))\n",
    "for i, C in enumerate([1, 100]):\n",
    "    # \"hinge\" is the standard SVM loss\n",
    "    clf = LinearSVC(C=C, loss=\"hinge\", random_state=17).fit(X, y)\n",
    "    # obtain the support vectors through the decision function\n",
    "    decision_function = clf.decision_function(X)\n",
    "    # we can also calculate the decision function manually\n",
    "    # decision_function = np.dot(X, clf.coef_[0]) + clf.intercept_[0]\n",
    "    # The support vectors are the samples that lie within the margin\n",
    "    # boundaries, whose size is conventionally constrained to 1\n",
    "    support_vector_indices = np.where(np.abs(decision_function) <= 1 + 1e-15)[0]\n",
    "    support_vectors = X[support_vector_indices]\n",
    "\n",
    "    plt.subplot(1, 2, i + 1)\n",
    "    plt.scatter(X[:, 0], X[:, 1], c=y, s=30, cmap=plt.cm.Paired)\n",
    "    ax = plt.gca()\n",
    "    xlim = ax.get_xlim()\n",
    "    ylim = ax.get_ylim()\n",
    "    xx, yy = np.meshgrid(\n",
    "        np.linspace(xlim[0], xlim[1], 50), np.linspace(ylim[0], ylim[1], 50)\n",
    "    )\n",
    "    Z = clf.decision_function(np.c_[xx.ravel(), yy.ravel()])\n",
    "    Z = Z.reshape(xx.shape)\n",
    "    plt.contour(\n",
    "        xx,\n",
    "        yy,\n",
    "        Z,\n",
    "        colors=\"k\",\n",
    "        levels=[-1, 0, 1],\n",
    "        alpha=0.5,\n",
    "        linestyles=[\"--\", \"-\", \"--\"],\n",
    "    )\n",
    "    plt.scatter(\n",
    "        support_vectors[:, 0],\n",
    "        support_vectors[:, 1],\n",
    "        s=100,\n",
    "        linewidth=1,\n",
    "        facecolors=\"none\",\n",
    "        edgecolors=\"k\",\n",
    "    )\n",
    "    plt.title(\"C=\" + str(C))\n",
    "plt.tight_layout()\n",
    "plt.show()"
   ]
  },
  {
   "cell_type": "markdown",
   "metadata": {
    "id": "krb-10VP9Mmx"
   },
   "source": [
    "The above code gives a representation of the support vectors for our classification QOI. The support vectors  are the instances that lie *on* the hyperplane boundary separating our classifications. These represent maximized margins between our binary classes; but because we are running our model against multi-variate data, the support vectors exist on hyperplanes separating our data as optimally as possible.\n",
    "\n",
    "As we increase the regularization parameter (*i.e.* C), we decrease the strength of regularization: \"The strength of the regularization is inversely proportional to C.\" ([reference](https://scikit-learn.org/stable/modules/generated/sklearn.svm.LinearSVC.html?highlight=linearsvc#sklearn.svm.LinearSVC)). In other words, a larger C overfits on our training data—as seen above."
   ]
  },
  {
   "cell_type": "code",
   "execution_count": 44,
   "metadata": {
    "colab": {
     "base_uri": "https://localhost:8080/"
    },
    "id": "Pv0QGVGpSUhY",
    "outputId": "24a231c9-a51e-4afc-95e1-921dd5c08e5a"
   },
   "outputs": [
    {
     "name": "stdout",
     "output_type": "stream",
     "text": [
      "w =  [[-0.08343166 -0.33020906]]\n",
      "b =  [-1.91016132]\n",
      "Indices of support vectors =  [22 30]\n",
      "Support vectors =  [[-5.27207303 -1.42425968]\n",
      " [-6.71056416 -7.11757559]]\n",
      "Number of support vectors for each class =  [1 1]\n",
      "Coefficients of the support vector in the decision function =  [[0.05799943 0.05799943]]\n"
     ]
    }
   ],
   "source": [
    "# code adapted from: https://stats.stackexchange.com/questions/39243/how-does-one-interpret-svm-feature-weights\n",
    "\n",
    "from sklearn.svm import SVC\n",
    "clf = SVC(C = 1e2, kernel = 'linear')\n",
    "clf.fit(X, y) \n",
    "print('w = ',clf.coef_)\n",
    "print('b = ',clf.intercept_)\n",
    "print('Indices of support vectors = ', clf.support_)\n",
    "print('Support vectors = ', clf.support_vectors_)\n",
    "print('Number of support vectors for each class = ', clf.n_support_)\n",
    "print('Coefficients of the support vector in the decision function = ', np.abs(clf.dual_coef_))"
   ]
  },
  {
   "cell_type": "markdown",
   "metadata": {},
   "source": [
    "We increased our value for C, which increases the penalty for mis-classifications in our model predictions. "
   ]
  },
  {
   "cell_type": "code",
   "execution_count": null,
   "metadata": {
    "id": "0fhB7vXkXJvK"
   },
   "outputs": [],
   "source": [
    "# https://datascience.stackexchange.com/questions/4943/intuition-for-the-regularization-parameter-in-svm"
   ]
  }
 ],
 "metadata": {
  "colab": {
   "collapsed_sections": [],
   "name": "ML1_mini_lab.ipynb",
   "provenance": [],
   "toc_visible": true
  },
  "kernelspec": {
   "display_name": "Python 3 (ipykernel)",
   "language": "python",
   "name": "python3"
  },
  "language_info": {
   "codemirror_mode": {
    "name": "ipython",
    "version": 3
   },
   "file_extension": ".py",
   "mimetype": "text/x-python",
   "name": "python",
   "nbconvert_exporter": "python",
   "pygments_lexer": "ipython3",
   "version": "3.9.7"
  }
 },
 "nbformat": 4,
 "nbformat_minor": 1
}
