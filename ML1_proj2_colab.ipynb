{
 "cells": [
  {
   "cell_type": "markdown",
   "metadata": {
    "id": "0MNqCTzunnXd"
   },
   "source": [
    "## **ML1 PROJECT 2** ##\n",
    "Randy Kim, Kati Schuerger, Will Sherman \n"
   ]
  },
  {
   "cell_type": "markdown",
   "metadata": {
    "id": "miqskT5Vf6uX"
   },
   "source": [
    "## **INTRODUCTION** ##"
   ]
  },
  {
   "cell_type": "markdown",
   "metadata": {
    "id": "l9FCPFQSdEd1"
   },
   "source": [
    "**Identify two tasks from our dataset to predict:**\n",
    "\n",
    "1. Classification task = predict quart_binary (0/1). This variable is equal to 1 when the player's score is in the 4th quantile.\n",
    "\n",
    "\n",
    "2. Regression task = predict winPlacePerc. This variable will require a regression model analyzing the mean absolute error (MAE). Consequently, this was the same metric for the kaggle competition's QOI. (Alternative wording: Our second task will be regressing what the player's win place percent will be, given their performance on other metrics gathered during the game.) "
   ]
  },
  {
   "cell_type": "markdown",
   "metadata": {
    "id": "Ui0x_GD5oXND"
   },
   "source": [
    "**Try to use as much testing data as possible in a realistic manner.**\n",
    "\n",
    "For hyperparameter tuning, we used a subset of our training data, because we ran into very lengthy run-time when attempting to perform tuning on the full training set. To help decrease the run-time, a subsample of 10% of the train data was made. This will still represent about 270,000 records, which is sufficient for our analysis and modeling. \n",
    "\n",
    "As long as the sample size is greater than 30, we can leverage the CLT, which allows us to make inferences about our population by using a sampling of the data.\n"
   ]
  },
  {
   "cell_type": "markdown",
   "metadata": {
    "id": "H-FEdlYQh0Ph"
   },
   "source": [
    "# **BUSINESS UNDERSTANDING** #"
   ]
  },
  {
   "cell_type": "markdown",
   "metadata": {
    "id": "EmYbwpJKoOEu"
   },
   "source": [
    "*Context for our classification and regression tasks.*"
   ]
  },
  {
   "cell_type": "markdown",
   "metadata": {
    "id": "xF52Ysn0tH2w"
   },
   "source": [
    "The **PlayerUnknown’s Battleground** (also known as PUBG) **Finish Placement Prediction** Kaggle competition was posted to \"create a model which predicts players' finishing placement based on their final stats, on a scale from 1 (first place) to 0 (last place).\" This competition utilized publicly available official game data from PUBG through the PUBG Developer API. The questions of interest (QOI) were about the best strategy to win in PUBG, the best skillset, and to be able to model ranking in-game. The dataset provided was a breakdown of post-game metrics and percentile winning placement: with 4446966 records and 29 total features.\n",
    "\n",
    "https://www.kaggle.com/c/pubg-finish-placement-prediction/data\n",
    "\n",
    "We want to predict the two following things: winPlacePerc (continuous variable), and winPlaceQuartile (categorical variable). winPlacePerc is a ranking of a “players' finishing placement based on their final stats, on a scale from 1 (first place) to 0 (last place).\" winPlaceQuartile is a new categorical variable we are adding to the dataset. This variable will have four categories, one for each quartile.\n",
    "\n",
    "For the first response (classification task), winPlaceQuartile, we will measure accuracy in combination with 10-fold cross-validation.\n",
    "\n",
    "The second response (regression task), winPlacePerc, will require a regression model analyzing the mean absolute error (MAE) in combination with 10-fold cross-validation. Consequently, this was the same metric for the kaggle competition's QOI.\n",
    "\n",
    "Creating forecasting algorithms for online sports is not new. Therefore, the combination of the two measures could be related to optimizing a sports betting algorithms. You could also use these models for building and managing an effective team for tournaments. For example, the PUBG Global Championship 2021 Grand Finals had combined prize value of over 2 million USD."
   ]
  },
  {
   "cell_type": "markdown",
   "metadata": {
    "id": "3x7rN9vzfhGw"
   },
   "source": [
    "# **DATA PREPARATION**"
   ]
  },
  {
   "cell_type": "markdown",
   "metadata": {
    "id": "8SySUHNMqDQQ"
   },
   "source": [
    "## Set up environment"
   ]
  },
  {
   "cell_type": "code",
   "execution_count": 1,
   "metadata": {
    "id": "Ljahm4hOq5xm"
   },
   "outputs": [],
   "source": [
    "# load libraries\n",
    "import csv\n",
    "import numpy as np\n",
    "import pandas as pd\n",
    "import seaborn as sns\n",
    "import matplotlib.pyplot as plt\n",
    "from sklearn.discriminant_analysis import LinearDiscriminantAnalysis as LDA\n",
    "from sklearn import model_selection\n",
    "from sklearn.model_selection import train_test_split, cross_val_score, RandomizedSearchCV\n",
    "from sklearn.linear_model import LogisticRegression, Lasso\n",
    "from sklearn import metrics as mt\n",
    "from sklearn.pipeline import Pipeline\n",
    "from sklearn.preprocessing import StandardScaler\n",
    "from sklearn.ensemble import RandomForestClassifier\n",
    "from sklearn.svm import SVC\n",
    "from sklearn.linear_model import LinearRegression\n",
    "from sklearn.neighbors import KNeighborsRegressor\n",
    "from sklearn.tree import DecisionTreeRegressor\n",
    "from sklearn.model_selection import GridSearchCV\n",
    "from sklearn.decomposition import PCA\n",
    "import statistics\n",
    "import time\n",
    "\n",
    "# import libraries to clean up CopyWarning\n",
    "import warnings\n",
    "from pandas.core.common import SettingWithCopyWarning\n",
    "warnings.simplefilter(action=\"ignore\", category=SettingWithCopyWarning)"
   ]
  },
  {
   "cell_type": "code",
   "execution_count": 2,
   "metadata": {
    "id": "6tfsVa8crHlZ"
   },
   "outputs": [],
   "source": [
    "# load in the data\n",
    "pubg_raw = pd.read_csv(\"train_V2.csv\")\n",
    "\n",
    "# for kati local run\n",
    "# pubg_raw = pd.read_csv(r\"C:\\Users\\kschue200\\OneDrive - Comcast\\Documents\\00 SMU\\00 machine learning1\\mini lab\\train_V2.csv\")\n",
    "\n",
    "# for will local run\n",
    "# pubg_raw = pd.read_csv(r\"C:\\Users\\sherm\\OneDrive\\Documents\\Grad School - Classes\\MSDS - 7331 - Machine Learning I\\Lab 1\\pubg-finish-placement-prediction\\train_V2.csv\")"
   ]
  },
  {
   "cell_type": "code",
   "execution_count": 3,
   "metadata": {
    "id": "kPIwruXtrKSR"
   },
   "outputs": [],
   "source": [
    "# this logic iterates through the DF to reduce memory usage\n",
    "# code adapted from https://www.kaggle.com/yansun1996/gbr-ipynb\n",
    "# additional reference: https://www.kaggle.com/gemartin/load-data-reduce-memory-usage\n",
    "\n",
    "def reduce_mem_usage(df):\n",
    "    '''\n",
    "    iterate through all the columns of a dataframe and modify the data type\n",
    "    to reduce memory usage.        \n",
    "    '''\n",
    "    start_mem = df.memory_usage().sum() / 1024**2\n",
    "    print('Memory usage of dataframe is {:.2f} MB'.format(start_mem))\n",
    "    for col in df.columns:\n",
    "        col_type = df[col].dtype\n",
    "        if col_type != object:\n",
    "            c_min = df[col].min()\n",
    "            c_max = df[col].max()\n",
    "            if str(col_type)[:3] == 'int':\n",
    "                if c_min > np.iinfo(np.int8).min and c_max < np.iinfo(np.int8).max:\n",
    "                    df[col] = df[col].astype(np.int8)\n",
    "                elif c_min > np.iinfo(np.int16).min and c_max < np.iinfo(np.int16).max:\n",
    "                    df[col] = df[col].astype(np.int16)\n",
    "                elif c_min > np.iinfo(np.int32).min and c_max < np.iinfo(np.int32).max:\n",
    "                    df[col] = df[col].astype(np.int32)\n",
    "                elif c_min > np.iinfo(np.int64).min and c_max < np.iinfo(np.int64).max:\n",
    "                    df[col] = df[col].astype(np.int64)  \n",
    "            else:\n",
    "                if c_min > np.finfo(np.float16).min and c_max < np.finfo(np.float16).max:\n",
    "                    df[col] = df[col].astype(np.float16)\n",
    "                elif c_min > np.finfo(np.float32).min and c_max < np.finfo(np.float32).max:\n",
    "                    df[col] = df[col].astype(np.float32)\n",
    "                else:\n",
    "                    df[col] = df[col].astype(np.float64)\n",
    "    end_mem = df.memory_usage().sum() / 1024**2\n",
    "    print('Memory usage after optimization is: {:.2f} MB'.format(end_mem))\n",
    "    print('Decreased by {:.1f}%'.format(100 * (start_mem - end_mem) / start_mem))\n",
    "    return df"
   ]
  },
  {
   "cell_type": "code",
   "execution_count": 4,
   "metadata": {
    "id": "_Gz-RXUIrMZt"
   },
   "outputs": [
    {
     "name": "stdout",
     "output_type": "stream",
     "text": [
      "Memory usage of dataframe is 983.90 MB\n",
      "Memory usage after optimization is: 288.39 MB\n",
      "Decreased by 70.7%\n"
     ]
    }
   ],
   "source": [
    "pubg_raw = reduce_mem_usage(pubg_raw)"
   ]
  },
  {
   "cell_type": "markdown",
   "metadata": {
    "id": "1XuiVKIWr4tJ"
   },
   "source": [
    "## Data definitions"
   ]
  },
  {
   "cell_type": "markdown",
   "metadata": {
    "id": "_WeXLGEhKTVk"
   },
   "source": [
    "The variables of type integer are *assists*, *boosts*, *DBNO*s, *headshotKills*, *heals*, *killPlace*, *killPoints*, *kills*, *killStreaks*, *matchDuration*, *maxPlace*, *numGroups*, *rankPoints*, *revives*, *roadKills*, *teamKills*, *vehicleDestroys*, *weaponsAcquired*, and *winPoints*.\n",
    "\n",
    "·       DBNOs - Number of enemy players knocked. DBNO means “down but not out.” Essentially, “knocked” means to be knocked out. When a player is knocked, they lose their ability to shoot, move quickly, and to hold a gun. Players do not die instantly when knocked, when playing in a group (on a team) - other members of the team can revive a knocked player. (do we need this last line?)\n",
    "\n",
    "·       assists - Number of enemy players this player damaged that were killed by teammates.\n",
    "\n",
    "·       boosts - Number of boost items used. Boost items are things that improve a player’s health, examples are energy drinks, painkillers, and adrenaline syringes.\n",
    "\n",
    "·       damageDealt - Total damage dealt. Note: Self inflicted damage is subtracted.\n",
    "\n",
    "·       headshotKills - Number of enemy players killed with headshots. \n",
    "\n",
    "·       heals - Number of healing items used.\n",
    "·       Id - Player’s Id\n",
    "\n",
    "·       killPlace - Ranking in match of number of enemy players killed.\n",
    "\n",
    "·       killPoints - Kills-based external ranking of player. (Think of this as an Elo ranking where only kills matter.) If there is a value other than -1 in rankPoints, then any 0 in killPoints should be treated as a “None”.\n",
    "\n",
    "·       killStreaks - Max number of enemy players killed in a short amount of time.\n",
    "\n",
    "·       kills - Number of enemy players killed.\n",
    "\n",
    "·       longestKill - Longest distance between player and player killed at time of death. This may be misleading, as downing a player and driving away may lead to a large longestKill stat.\n",
    "\n",
    "·       matchDuration - Duration of match in seconds.\n",
    "\n",
    "·       matchId - ID to identify match. There are no matches that are in both the training and testing set.\n",
    "\n",
    "·       matchType - String identifying the game mode that the data comes from. The standard modes are “solo”, “duo”, “squad”, “solo-fpp”, “duo-fpp”, and “squad-fpp”; other modes are from events or custom matches.\n",
    "\n",
    "·       rankPoints - Elo-like ranking of player. This ranking is inconsistent and is being deprecated in the API’s next version, so use with caution. Value of -1 takes place of “None”.\n",
    "\n",
    "·       revives - Number of times this player revived teammates.\n",
    "\n",
    "·       rideDistance - Total distance traveled in vehicles measured in meters.\n",
    "\n",
    "·       roadKills - Number of kills while in a vehicle.\n",
    "·       swimDistance - Total distance traveled by swimming measured in meters.\n",
    "\n",
    "·       teamKills - Number of times this player killed a teammate.\n",
    "\n",
    "·       vehicleDestroys - Number of vehicles destroyed.\n",
    "\n",
    "·       walkDistance - Total distance traveled on foot measured in meters.\n",
    "\n",
    "·       weaponsAcquired - Number of weapons picked up.\n",
    "\n",
    "·       winPoints - Win-based external ranking of player. (Think of this as an Elo ranking where only winning matters.) If there is a value other than -1 in rankPoints, then any 0 in winPoints should be treated as a “None”.\n",
    "\n",
    "·       groupId - ID to identify a group within a match. If the same group of players plays in different matches, they will have a different groupId each time.\n",
    "\n",
    "·       numGroups - Number of groups we have data for in the match.\n",
    "\n",
    "·       maxPlace - Worst placement we have data for in the match. This may not match with numGroups, as sometimes the data skips over placements.\n",
    "\n",
    "·       winPlacePerc - The target of the regression. This is a continuous value of percentile winning placement, where 1 corresponds to 1st place, and 0 corresponds to last place in the match. It is calculated off of maxPlace, not numGroups, so it is possible to have missing chunks in a match. (Higher is better.)\n",
    "\n",
    "·       quart_binary - The target of the classification. This is a binary analysis of players who placed in the top 25% are given value of 1; the bottom 75% are given value of 0. This feature was created from winPlacePerc.\n",
    "\n",
    "*Definitions pulled from Kaggle*: https://www.kaggle.com/c/pubg-finish-placement-prediction/data\n",
    "\n",
    "*Additional details added to elaborate on/clarify some of the variables.*"
   ]
  },
  {
   "cell_type": "markdown",
   "metadata": {
    "id": "a9Fve7FtaDrX"
   },
   "source": [
    "## Data preparation\n",
    "\n",
    "In the below section we will handle records with missing values (chosen methos = drop from data), create new variables for our classification task, remove unuseful object-datatype variables, and remove features that introduce convergence issues in our models."
   ]
  },
  {
   "cell_type": "code",
   "execution_count": 5,
   "metadata": {
    "id": "EZiNlFmdraVq"
   },
   "outputs": [
    {
     "data": {
      "text/html": [
       "<div>\n",
       "<style scoped>\n",
       "    .dataframe tbody tr th:only-of-type {\n",
       "        vertical-align: middle;\n",
       "    }\n",
       "\n",
       "    .dataframe tbody tr th {\n",
       "        vertical-align: top;\n",
       "    }\n",
       "\n",
       "    .dataframe thead th {\n",
       "        text-align: right;\n",
       "    }\n",
       "</style>\n",
       "<table border=\"1\" class=\"dataframe\">\n",
       "  <thead>\n",
       "    <tr style=\"text-align: right;\">\n",
       "      <th></th>\n",
       "      <th>Id</th>\n",
       "      <th>groupId</th>\n",
       "      <th>matchId</th>\n",
       "      <th>assists</th>\n",
       "      <th>boosts</th>\n",
       "      <th>damageDealt</th>\n",
       "      <th>DBNOs</th>\n",
       "      <th>headshotKills</th>\n",
       "      <th>heals</th>\n",
       "      <th>killPlace</th>\n",
       "      <th>...</th>\n",
       "      <th>revives</th>\n",
       "      <th>rideDistance</th>\n",
       "      <th>roadKills</th>\n",
       "      <th>swimDistance</th>\n",
       "      <th>teamKills</th>\n",
       "      <th>vehicleDestroys</th>\n",
       "      <th>walkDistance</th>\n",
       "      <th>weaponsAcquired</th>\n",
       "      <th>winPoints</th>\n",
       "      <th>winPlacePerc</th>\n",
       "    </tr>\n",
       "  </thead>\n",
       "  <tbody>\n",
       "    <tr>\n",
       "      <th>0</th>\n",
       "      <td>7f96b2f878858a</td>\n",
       "      <td>4d4b580de459be</td>\n",
       "      <td>a10357fd1a4a91</td>\n",
       "      <td>0</td>\n",
       "      <td>0</td>\n",
       "      <td>0.00000</td>\n",
       "      <td>0</td>\n",
       "      <td>0</td>\n",
       "      <td>0</td>\n",
       "      <td>60</td>\n",
       "      <td>...</td>\n",
       "      <td>0</td>\n",
       "      <td>0.000000</td>\n",
       "      <td>0</td>\n",
       "      <td>0.000000</td>\n",
       "      <td>0</td>\n",
       "      <td>0</td>\n",
       "      <td>244.75</td>\n",
       "      <td>1</td>\n",
       "      <td>1466</td>\n",
       "      <td>0.444336</td>\n",
       "    </tr>\n",
       "    <tr>\n",
       "      <th>1</th>\n",
       "      <td>eef90569b9d03c</td>\n",
       "      <td>684d5656442f9e</td>\n",
       "      <td>aeb375fc57110c</td>\n",
       "      <td>0</td>\n",
       "      <td>0</td>\n",
       "      <td>91.50000</td>\n",
       "      <td>0</td>\n",
       "      <td>0</td>\n",
       "      <td>0</td>\n",
       "      <td>57</td>\n",
       "      <td>...</td>\n",
       "      <td>0</td>\n",
       "      <td>0.004501</td>\n",
       "      <td>0</td>\n",
       "      <td>11.039062</td>\n",
       "      <td>0</td>\n",
       "      <td>0</td>\n",
       "      <td>1434.00</td>\n",
       "      <td>5</td>\n",
       "      <td>0</td>\n",
       "      <td>0.640137</td>\n",
       "    </tr>\n",
       "    <tr>\n",
       "      <th>2</th>\n",
       "      <td>1eaf90ac73de72</td>\n",
       "      <td>6a4a42c3245a74</td>\n",
       "      <td>110163d8bb94ae</td>\n",
       "      <td>1</td>\n",
       "      <td>0</td>\n",
       "      <td>68.00000</td>\n",
       "      <td>0</td>\n",
       "      <td>0</td>\n",
       "      <td>0</td>\n",
       "      <td>47</td>\n",
       "      <td>...</td>\n",
       "      <td>0</td>\n",
       "      <td>0.000000</td>\n",
       "      <td>0</td>\n",
       "      <td>0.000000</td>\n",
       "      <td>0</td>\n",
       "      <td>0</td>\n",
       "      <td>161.75</td>\n",
       "      <td>2</td>\n",
       "      <td>0</td>\n",
       "      <td>0.775391</td>\n",
       "    </tr>\n",
       "    <tr>\n",
       "      <th>3</th>\n",
       "      <td>4616d365dd2853</td>\n",
       "      <td>a930a9c79cd721</td>\n",
       "      <td>f1f1f4ef412d7e</td>\n",
       "      <td>0</td>\n",
       "      <td>0</td>\n",
       "      <td>32.90625</td>\n",
       "      <td>0</td>\n",
       "      <td>0</td>\n",
       "      <td>0</td>\n",
       "      <td>75</td>\n",
       "      <td>...</td>\n",
       "      <td>0</td>\n",
       "      <td>0.000000</td>\n",
       "      <td>0</td>\n",
       "      <td>0.000000</td>\n",
       "      <td>0</td>\n",
       "      <td>0</td>\n",
       "      <td>202.75</td>\n",
       "      <td>3</td>\n",
       "      <td>0</td>\n",
       "      <td>0.166748</td>\n",
       "    </tr>\n",
       "    <tr>\n",
       "      <th>4</th>\n",
       "      <td>315c96c26c9aac</td>\n",
       "      <td>de04010b3458dd</td>\n",
       "      <td>6dc8ff871e21e6</td>\n",
       "      <td>0</td>\n",
       "      <td>0</td>\n",
       "      <td>100.00000</td>\n",
       "      <td>0</td>\n",
       "      <td>0</td>\n",
       "      <td>0</td>\n",
       "      <td>45</td>\n",
       "      <td>...</td>\n",
       "      <td>0</td>\n",
       "      <td>0.000000</td>\n",
       "      <td>0</td>\n",
       "      <td>0.000000</td>\n",
       "      <td>0</td>\n",
       "      <td>0</td>\n",
       "      <td>49.75</td>\n",
       "      <td>2</td>\n",
       "      <td>0</td>\n",
       "      <td>0.187500</td>\n",
       "    </tr>\n",
       "  </tbody>\n",
       "</table>\n",
       "<p>5 rows × 29 columns</p>\n",
       "</div>"
      ],
      "text/plain": [
       "               Id         groupId         matchId  assists  boosts  \\\n",
       "0  7f96b2f878858a  4d4b580de459be  a10357fd1a4a91        0       0   \n",
       "1  eef90569b9d03c  684d5656442f9e  aeb375fc57110c        0       0   \n",
       "2  1eaf90ac73de72  6a4a42c3245a74  110163d8bb94ae        1       0   \n",
       "3  4616d365dd2853  a930a9c79cd721  f1f1f4ef412d7e        0       0   \n",
       "4  315c96c26c9aac  de04010b3458dd  6dc8ff871e21e6        0       0   \n",
       "\n",
       "   damageDealt  DBNOs  headshotKills  heals  killPlace  ...  revives  \\\n",
       "0      0.00000      0              0      0         60  ...        0   \n",
       "1     91.50000      0              0      0         57  ...        0   \n",
       "2     68.00000      0              0      0         47  ...        0   \n",
       "3     32.90625      0              0      0         75  ...        0   \n",
       "4    100.00000      0              0      0         45  ...        0   \n",
       "\n",
       "   rideDistance  roadKills  swimDistance  teamKills vehicleDestroys  \\\n",
       "0      0.000000          0      0.000000          0               0   \n",
       "1      0.004501          0     11.039062          0               0   \n",
       "2      0.000000          0      0.000000          0               0   \n",
       "3      0.000000          0      0.000000          0               0   \n",
       "4      0.000000          0      0.000000          0               0   \n",
       "\n",
       "   walkDistance  weaponsAcquired  winPoints  winPlacePerc  \n",
       "0        244.75                1       1466      0.444336  \n",
       "1       1434.00                5          0      0.640137  \n",
       "2        161.75                2          0      0.775391  \n",
       "3        202.75                3          0      0.166748  \n",
       "4         49.75                2          0      0.187500  \n",
       "\n",
       "[5 rows x 29 columns]"
      ]
     },
     "execution_count": 5,
     "metadata": {},
     "output_type": "execute_result"
    }
   ],
   "source": [
    "pubg_raw.head()"
   ]
  },
  {
   "cell_type": "code",
   "execution_count": 6,
   "metadata": {
    "id": "bbXPcGvTrcZK"
   },
   "outputs": [
    {
     "data": {
      "image/png": "[encoded data removed]",
      "text/plain": [
       "<Figure size 1080x720 with 2 Axes>"
      ]
     },
     "metadata": {
      "needs_background": "light"
     },
     "output_type": "display_data"
    }
   ],
   "source": [
    "cmap = sns.diverging_palette(220, 10, as_cmap=True)\n",
    "fig, ax = plt.subplots(figsize = (15, 10))\n",
    "corrMatrix = pubg_raw.corr()\n",
    "heatPlot = sns.heatmap(corrMatrix, ax=ax, annot=True, fmt=\".1f\", cmap=cmap,\n",
    "                       mask=np.tril(np.ones_like(corrMatrix, dtype=bool)))\n",
    "plt.show()"
   ]
  },
  {
   "cell_type": "markdown",
   "metadata": {
    "id": "z279KuIzvf7j"
   },
   "source": [
    "Based on our analysis, we dropped the single missing value for a match that had only 1 individual (above).\n",
    "\n",
    "We also identified *unranked* matches as creating significant issues in prediction capabilities (below). We resolved to remove these from our model. Therefore, our model should only be applied to **ranked** matches. "
   ]
  },
  {
   "cell_type": "markdown",
   "metadata": {
    "id": "Pd31uEnssoU-"
   },
   "source": [
    "### Check for missing values"
   ]
  },
  {
   "cell_type": "code",
   "execution_count": 7,
   "metadata": {
    "id": "2GheE241s-2t"
   },
   "outputs": [
    {
     "name": "stdout",
     "output_type": "stream",
     "text": [
      "Column 'Id' has 0 NAs\n",
      "Column 'groupId' has 0 NAs\n",
      "Column 'matchId' has 0 NAs\n",
      "Column 'assists' has 0 NAs\n",
      "Column 'boosts' has 0 NAs\n",
      "Column 'damageDealt' has 0 NAs\n",
      "Column 'DBNOs' has 0 NAs\n",
      "Column 'headshotKills' has 0 NAs\n",
      "Column 'heals' has 0 NAs\n",
      "Column 'killPlace' has 0 NAs\n",
      "Column 'killPoints' has 0 NAs\n",
      "Column 'kills' has 0 NAs\n",
      "Column 'killStreaks' has 0 NAs\n",
      "Column 'longestKill' has 0 NAs\n",
      "Column 'matchDuration' has 0 NAs\n",
      "Column 'matchType' has 0 NAs\n",
      "Column 'maxPlace' has 0 NAs\n",
      "Column 'numGroups' has 0 NAs\n",
      "Column 'rankPoints' has 0 NAs\n",
      "Column 'revives' has 0 NAs\n",
      "Column 'rideDistance' has 0 NAs\n",
      "Column 'roadKills' has 0 NAs\n",
      "Column 'swimDistance' has 0 NAs\n",
      "Column 'teamKills' has 0 NAs\n",
      "Column 'vehicleDestroys' has 0 NAs\n",
      "Column 'walkDistance' has 0 NAs\n",
      "Column 'weaponsAcquired' has 0 NAs\n",
      "Column 'winPoints' has 0 NAs\n",
      "Column 'winPlacePerc' has 1 NAs\n"
     ]
    }
   ],
   "source": [
    "# check for misssing values\n",
    "colname = list(pubg_raw.columns)\n",
    "\n",
    "for i in range(len(pubg_raw.columns)):\n",
    "  count = pubg_raw[pubg_raw.columns[i]].isna().sum()\n",
    "  print(\"Column '{col}' has {ct} NAs\".format(col = colname[i], ct = count))"
   ]
  },
  {
   "cell_type": "code",
   "execution_count": 8,
   "metadata": {
    "id": "UM7JR33NtB2O"
   },
   "outputs": [
    {
     "data": {
      "text/html": [
       "<div>\n",
       "<style scoped>\n",
       "    .dataframe tbody tr th:only-of-type {\n",
       "        vertical-align: middle;\n",
       "    }\n",
       "\n",
       "    .dataframe tbody tr th {\n",
       "        vertical-align: top;\n",
       "    }\n",
       "\n",
       "    .dataframe thead th {\n",
       "        text-align: right;\n",
       "    }\n",
       "</style>\n",
       "<table border=\"1\" class=\"dataframe\">\n",
       "  <thead>\n",
       "    <tr style=\"text-align: right;\">\n",
       "      <th></th>\n",
       "      <th>Id</th>\n",
       "      <th>groupId</th>\n",
       "      <th>matchId</th>\n",
       "      <th>assists</th>\n",
       "      <th>boosts</th>\n",
       "      <th>damageDealt</th>\n",
       "      <th>DBNOs</th>\n",
       "      <th>headshotKills</th>\n",
       "      <th>heals</th>\n",
       "      <th>killPlace</th>\n",
       "      <th>...</th>\n",
       "      <th>revives</th>\n",
       "      <th>rideDistance</th>\n",
       "      <th>roadKills</th>\n",
       "      <th>swimDistance</th>\n",
       "      <th>teamKills</th>\n",
       "      <th>vehicleDestroys</th>\n",
       "      <th>walkDistance</th>\n",
       "      <th>weaponsAcquired</th>\n",
       "      <th>winPoints</th>\n",
       "      <th>winPlacePerc</th>\n",
       "    </tr>\n",
       "  </thead>\n",
       "  <tbody>\n",
       "    <tr>\n",
       "      <th>2744604</th>\n",
       "      <td>f70c74418bb064</td>\n",
       "      <td>12dfbede33f92b</td>\n",
       "      <td>224a123c53e008</td>\n",
       "      <td>0</td>\n",
       "      <td>0</td>\n",
       "      <td>0.0</td>\n",
       "      <td>0</td>\n",
       "      <td>0</td>\n",
       "      <td>0</td>\n",
       "      <td>1</td>\n",
       "      <td>...</td>\n",
       "      <td>0</td>\n",
       "      <td>0.0</td>\n",
       "      <td>0</td>\n",
       "      <td>0.0</td>\n",
       "      <td>0</td>\n",
       "      <td>0</td>\n",
       "      <td>0.0</td>\n",
       "      <td>0</td>\n",
       "      <td>0</td>\n",
       "      <td>NaN</td>\n",
       "    </tr>\n",
       "  </tbody>\n",
       "</table>\n",
       "<p>1 rows × 29 columns</p>\n",
       "</div>"
      ],
      "text/plain": [
       "                     Id         groupId         matchId  assists  boosts  \\\n",
       "2744604  f70c74418bb064  12dfbede33f92b  224a123c53e008        0       0   \n",
       "\n",
       "         damageDealt  DBNOs  headshotKills  heals  killPlace  ...  revives  \\\n",
       "2744604          0.0      0              0      0          1  ...        0   \n",
       "\n",
       "         rideDistance  roadKills  swimDistance  teamKills vehicleDestroys  \\\n",
       "2744604           0.0          0           0.0          0               0   \n",
       "\n",
       "         walkDistance  weaponsAcquired  winPoints  winPlacePerc  \n",
       "2744604           0.0                0          0           NaN  \n",
       "\n",
       "[1 rows x 29 columns]"
      ]
     },
     "execution_count": 8,
     "metadata": {},
     "output_type": "execute_result"
    }
   ],
   "source": [
    "# look at records with null values\n",
    "pubg_raw[pubg_raw.isna().any(axis = 1)]"
   ]
  },
  {
   "cell_type": "code",
   "execution_count": 9,
   "metadata": {
    "id": "pM7dij_ytDtP"
   },
   "outputs": [
    {
     "data": {
      "text/plain": [
       "False"
      ]
     },
     "execution_count": 9,
     "metadata": {},
     "output_type": "execute_result"
    }
   ],
   "source": [
    "# CREATE PUBG_DF_STG TO INCLUDE OUR UPDATES\n",
    "# drop records with missing values (there is only one)\n",
    "pubg_df_stg = pubg_raw.dropna()\n",
    "pubg_df_stg.isnull().values.any()"
   ]
  },
  {
   "cell_type": "code",
   "execution_count": 10,
   "metadata": {
    "id": "q86EPFCztF6y"
   },
   "outputs": [
    {
     "name": "stdout",
     "output_type": "stream",
     "text": [
      "1701810\n",
      "0\n",
      "0\n",
      "2745155\n"
     ]
    }
   ],
   "source": [
    "# we have some records with -1 values = these take the place of NULL\n",
    "\n",
    "x = pubg_df_stg['rankPoints']\n",
    "y = pubg_df_stg['winPoints']\n",
    "z = pubg_df_stg['killPoints']\n",
    "\n",
    "print(x[x==-1].count())\n",
    "print(y[y==-1].count())\n",
    "print(z[z==-1].count())\n",
    "print(pubg_df_stg.shape[0]-x[x==-1].count())"
   ]
  },
  {
   "cell_type": "code",
   "execution_count": 11,
   "metadata": {
    "id": "4EZXcje4tizW"
   },
   "outputs": [
    {
     "data": {
      "text/html": [
       "<div>\n",
       "<style scoped>\n",
       "    .dataframe tbody tr th:only-of-type {\n",
       "        vertical-align: middle;\n",
       "    }\n",
       "\n",
       "    .dataframe tbody tr th {\n",
       "        vertical-align: top;\n",
       "    }\n",
       "\n",
       "    .dataframe thead th {\n",
       "        text-align: right;\n",
       "    }\n",
       "</style>\n",
       "<table border=\"1\" class=\"dataframe\">\n",
       "  <thead>\n",
       "    <tr style=\"text-align: right;\">\n",
       "      <th></th>\n",
       "      <th>Id</th>\n",
       "      <th>groupId</th>\n",
       "      <th>matchId</th>\n",
       "      <th>assists</th>\n",
       "      <th>boosts</th>\n",
       "      <th>damageDealt</th>\n",
       "      <th>DBNOs</th>\n",
       "      <th>headshotKills</th>\n",
       "      <th>heals</th>\n",
       "      <th>killPlace</th>\n",
       "      <th>...</th>\n",
       "      <th>revives</th>\n",
       "      <th>rideDistance</th>\n",
       "      <th>roadKills</th>\n",
       "      <th>swimDistance</th>\n",
       "      <th>teamKills</th>\n",
       "      <th>vehicleDestroys</th>\n",
       "      <th>walkDistance</th>\n",
       "      <th>weaponsAcquired</th>\n",
       "      <th>winPoints</th>\n",
       "      <th>winPlacePerc</th>\n",
       "    </tr>\n",
       "  </thead>\n",
       "  <tbody>\n",
       "    <tr>\n",
       "      <th>1</th>\n",
       "      <td>eef90569b9d03c</td>\n",
       "      <td>684d5656442f9e</td>\n",
       "      <td>aeb375fc57110c</td>\n",
       "      <td>0</td>\n",
       "      <td>0</td>\n",
       "      <td>91.50000</td>\n",
       "      <td>0</td>\n",
       "      <td>0</td>\n",
       "      <td>0</td>\n",
       "      <td>57</td>\n",
       "      <td>...</td>\n",
       "      <td>0</td>\n",
       "      <td>0.004501</td>\n",
       "      <td>0</td>\n",
       "      <td>11.039062</td>\n",
       "      <td>0</td>\n",
       "      <td>0</td>\n",
       "      <td>1434.0000</td>\n",
       "      <td>5</td>\n",
       "      <td>0</td>\n",
       "      <td>0.640137</td>\n",
       "    </tr>\n",
       "    <tr>\n",
       "      <th>2</th>\n",
       "      <td>1eaf90ac73de72</td>\n",
       "      <td>6a4a42c3245a74</td>\n",
       "      <td>110163d8bb94ae</td>\n",
       "      <td>1</td>\n",
       "      <td>0</td>\n",
       "      <td>68.00000</td>\n",
       "      <td>0</td>\n",
       "      <td>0</td>\n",
       "      <td>0</td>\n",
       "      <td>47</td>\n",
       "      <td>...</td>\n",
       "      <td>0</td>\n",
       "      <td>0.000000</td>\n",
       "      <td>0</td>\n",
       "      <td>0.000000</td>\n",
       "      <td>0</td>\n",
       "      <td>0</td>\n",
       "      <td>161.7500</td>\n",
       "      <td>2</td>\n",
       "      <td>0</td>\n",
       "      <td>0.775391</td>\n",
       "    </tr>\n",
       "    <tr>\n",
       "      <th>3</th>\n",
       "      <td>4616d365dd2853</td>\n",
       "      <td>a930a9c79cd721</td>\n",
       "      <td>f1f1f4ef412d7e</td>\n",
       "      <td>0</td>\n",
       "      <td>0</td>\n",
       "      <td>32.90625</td>\n",
       "      <td>0</td>\n",
       "      <td>0</td>\n",
       "      <td>0</td>\n",
       "      <td>75</td>\n",
       "      <td>...</td>\n",
       "      <td>0</td>\n",
       "      <td>0.000000</td>\n",
       "      <td>0</td>\n",
       "      <td>0.000000</td>\n",
       "      <td>0</td>\n",
       "      <td>0</td>\n",
       "      <td>202.7500</td>\n",
       "      <td>3</td>\n",
       "      <td>0</td>\n",
       "      <td>0.166748</td>\n",
       "    </tr>\n",
       "    <tr>\n",
       "      <th>4</th>\n",
       "      <td>315c96c26c9aac</td>\n",
       "      <td>de04010b3458dd</td>\n",
       "      <td>6dc8ff871e21e6</td>\n",
       "      <td>0</td>\n",
       "      <td>0</td>\n",
       "      <td>100.00000</td>\n",
       "      <td>0</td>\n",
       "      <td>0</td>\n",
       "      <td>0</td>\n",
       "      <td>45</td>\n",
       "      <td>...</td>\n",
       "      <td>0</td>\n",
       "      <td>0.000000</td>\n",
       "      <td>0</td>\n",
       "      <td>0.000000</td>\n",
       "      <td>0</td>\n",
       "      <td>0</td>\n",
       "      <td>49.7500</td>\n",
       "      <td>2</td>\n",
       "      <td>0</td>\n",
       "      <td>0.187500</td>\n",
       "    </tr>\n",
       "    <tr>\n",
       "      <th>5</th>\n",
       "      <td>ff79c12f326506</td>\n",
       "      <td>289a6836a88d27</td>\n",
       "      <td>bac52627a12114</td>\n",
       "      <td>0</td>\n",
       "      <td>0</td>\n",
       "      <td>100.00000</td>\n",
       "      <td>1</td>\n",
       "      <td>1</td>\n",
       "      <td>0</td>\n",
       "      <td>44</td>\n",
       "      <td>...</td>\n",
       "      <td>0</td>\n",
       "      <td>0.000000</td>\n",
       "      <td>0</td>\n",
       "      <td>0.000000</td>\n",
       "      <td>0</td>\n",
       "      <td>0</td>\n",
       "      <td>34.6875</td>\n",
       "      <td>1</td>\n",
       "      <td>0</td>\n",
       "      <td>0.036987</td>\n",
       "    </tr>\n",
       "  </tbody>\n",
       "</table>\n",
       "<p>5 rows × 29 columns</p>\n",
       "</div>"
      ],
      "text/plain": [
       "               Id         groupId         matchId  assists  boosts  \\\n",
       "1  eef90569b9d03c  684d5656442f9e  aeb375fc57110c        0       0   \n",
       "2  1eaf90ac73de72  6a4a42c3245a74  110163d8bb94ae        1       0   \n",
       "3  4616d365dd2853  a930a9c79cd721  f1f1f4ef412d7e        0       0   \n",
       "4  315c96c26c9aac  de04010b3458dd  6dc8ff871e21e6        0       0   \n",
       "5  ff79c12f326506  289a6836a88d27  bac52627a12114        0       0   \n",
       "\n",
       "   damageDealt  DBNOs  headshotKills  heals  killPlace  ...  revives  \\\n",
       "1     91.50000      0              0      0         57  ...        0   \n",
       "2     68.00000      0              0      0         47  ...        0   \n",
       "3     32.90625      0              0      0         75  ...        0   \n",
       "4    100.00000      0              0      0         45  ...        0   \n",
       "5    100.00000      1              1      0         44  ...        0   \n",
       "\n",
       "   rideDistance  roadKills  swimDistance  teamKills vehicleDestroys  \\\n",
       "1      0.004501          0     11.039062          0               0   \n",
       "2      0.000000          0      0.000000          0               0   \n",
       "3      0.000000          0      0.000000          0               0   \n",
       "4      0.000000          0      0.000000          0               0   \n",
       "5      0.000000          0      0.000000          0               0   \n",
       "\n",
       "   walkDistance  weaponsAcquired  winPoints  winPlacePerc  \n",
       "1     1434.0000                5          0      0.640137  \n",
       "2      161.7500                2          0      0.775391  \n",
       "3      202.7500                3          0      0.166748  \n",
       "4       49.7500                2          0      0.187500  \n",
       "5       34.6875                1          0      0.036987  \n",
       "\n",
       "[5 rows x 29 columns]"
      ]
     },
     "execution_count": 11,
     "metadata": {},
     "output_type": "execute_result"
    }
   ],
   "source": [
    "# SUBSET OUR DATA TO ONLY RETAIN RANKED MATCHES\n",
    "# we have some records with -1 values = take the place of NULL\n",
    "## dropping these to subset our dataset & because they represent non-ranked matches\n",
    "\n",
    "pubg_df = pubg_df_stg[(pubg_df_stg.iloc[:,:] != -1).all(axis=1)]\n",
    "pubg_df.head()"
   ]
  },
  {
   "cell_type": "markdown",
   "metadata": {
    "id": "JR4TjCjgtnWb"
   },
   "source": [
    "### Check for duplicate values"
   ]
  },
  {
   "cell_type": "code",
   "execution_count": 12,
   "metadata": {
    "id": "gpv_VcJitu8w"
   },
   "outputs": [
    {
     "data": {
      "text/plain": [
       "False"
      ]
     },
     "execution_count": 12,
     "metadata": {},
     "output_type": "execute_result"
    }
   ],
   "source": [
    "# check for duplicate records\n",
    "pubg_df.duplicated().any()"
   ]
  },
  {
   "cell_type": "markdown",
   "metadata": {
    "id": "u1PlwdO_tzuZ"
   },
   "source": [
    "### Create new quartile variables"
   ]
  },
  {
   "cell_type": "code",
   "execution_count": 13,
   "metadata": {
    "id": "rCQBpDmOvM78"
   },
   "outputs": [
    {
     "name": "stdout",
     "output_type": "stream",
     "text": [
      "Quartile 1 threshold: 0.20\n",
      "Quartile 2 threshold: 0.46\n",
      "Quartile 3 threshold: 0.74\n"
     ]
    }
   ],
   "source": [
    "# GATHER THRESHOLDS FOR US TO SET OUR QARTILES \n",
    "# pull out the winPlacePerc column\n",
    "winPlace = pubg_df.loc[:,'winPlacePerc']\n",
    "\n",
    "# get quartile thresholds for equal allocation |\n",
    "print('Quartile 1 threshold: {:.2f}'.format(winPlace.quantile(0.25)))\n",
    "print('Quartile 2 threshold: {:.2f}'.format(winPlace.quantile(0.5)))\n",
    "print('Quartile 3 threshold: {:.2f}'.format(winPlace.quantile(0.75)))"
   ]
  },
  {
   "cell_type": "code",
   "execution_count": 14,
   "metadata": {
    "id": "HN6-81aLvPLv"
   },
   "outputs": [
    {
     "data": {
      "text/html": [
       "<div>\n",
       "<style scoped>\n",
       "    .dataframe tbody tr th:only-of-type {\n",
       "        vertical-align: middle;\n",
       "    }\n",
       "\n",
       "    .dataframe tbody tr th {\n",
       "        vertical-align: top;\n",
       "    }\n",
       "\n",
       "    .dataframe thead th {\n",
       "        text-align: right;\n",
       "    }\n",
       "</style>\n",
       "<table border=\"1\" class=\"dataframe\">\n",
       "  <thead>\n",
       "    <tr style=\"text-align: right;\">\n",
       "      <th></th>\n",
       "      <th>Id</th>\n",
       "      <th>groupId</th>\n",
       "      <th>matchId</th>\n",
       "      <th>assists</th>\n",
       "      <th>boosts</th>\n",
       "      <th>damageDealt</th>\n",
       "      <th>DBNOs</th>\n",
       "      <th>headshotKills</th>\n",
       "      <th>heals</th>\n",
       "      <th>killPlace</th>\n",
       "      <th>...</th>\n",
       "      <th>swimDistance</th>\n",
       "      <th>teamKills</th>\n",
       "      <th>vehicleDestroys</th>\n",
       "      <th>walkDistance</th>\n",
       "      <th>weaponsAcquired</th>\n",
       "      <th>winPoints</th>\n",
       "      <th>winPlacePerc</th>\n",
       "      <th>quartile</th>\n",
       "      <th>quart_int</th>\n",
       "      <th>quart_binary</th>\n",
       "    </tr>\n",
       "  </thead>\n",
       "  <tbody>\n",
       "    <tr>\n",
       "      <th>1</th>\n",
       "      <td>eef90569b9d03c</td>\n",
       "      <td>684d5656442f9e</td>\n",
       "      <td>aeb375fc57110c</td>\n",
       "      <td>0</td>\n",
       "      <td>0</td>\n",
       "      <td>91.50000</td>\n",
       "      <td>0</td>\n",
       "      <td>0</td>\n",
       "      <td>0</td>\n",
       "      <td>57</td>\n",
       "      <td>...</td>\n",
       "      <td>11.039062</td>\n",
       "      <td>0</td>\n",
       "      <td>0</td>\n",
       "      <td>1434.0000</td>\n",
       "      <td>5</td>\n",
       "      <td>0</td>\n",
       "      <td>0.640137</td>\n",
       "      <td>q3</td>\n",
       "      <td>3</td>\n",
       "      <td>0</td>\n",
       "    </tr>\n",
       "    <tr>\n",
       "      <th>2</th>\n",
       "      <td>1eaf90ac73de72</td>\n",
       "      <td>6a4a42c3245a74</td>\n",
       "      <td>110163d8bb94ae</td>\n",
       "      <td>1</td>\n",
       "      <td>0</td>\n",
       "      <td>68.00000</td>\n",
       "      <td>0</td>\n",
       "      <td>0</td>\n",
       "      <td>0</td>\n",
       "      <td>47</td>\n",
       "      <td>...</td>\n",
       "      <td>0.000000</td>\n",
       "      <td>0</td>\n",
       "      <td>0</td>\n",
       "      <td>161.7500</td>\n",
       "      <td>2</td>\n",
       "      <td>0</td>\n",
       "      <td>0.775391</td>\n",
       "      <td>q4</td>\n",
       "      <td>4</td>\n",
       "      <td>1</td>\n",
       "    </tr>\n",
       "    <tr>\n",
       "      <th>3</th>\n",
       "      <td>4616d365dd2853</td>\n",
       "      <td>a930a9c79cd721</td>\n",
       "      <td>f1f1f4ef412d7e</td>\n",
       "      <td>0</td>\n",
       "      <td>0</td>\n",
       "      <td>32.90625</td>\n",
       "      <td>0</td>\n",
       "      <td>0</td>\n",
       "      <td>0</td>\n",
       "      <td>75</td>\n",
       "      <td>...</td>\n",
       "      <td>0.000000</td>\n",
       "      <td>0</td>\n",
       "      <td>0</td>\n",
       "      <td>202.7500</td>\n",
       "      <td>3</td>\n",
       "      <td>0</td>\n",
       "      <td>0.166748</td>\n",
       "      <td>q1</td>\n",
       "      <td>1</td>\n",
       "      <td>0</td>\n",
       "    </tr>\n",
       "    <tr>\n",
       "      <th>4</th>\n",
       "      <td>315c96c26c9aac</td>\n",
       "      <td>de04010b3458dd</td>\n",
       "      <td>6dc8ff871e21e6</td>\n",
       "      <td>0</td>\n",
       "      <td>0</td>\n",
       "      <td>100.00000</td>\n",
       "      <td>0</td>\n",
       "      <td>0</td>\n",
       "      <td>0</td>\n",
       "      <td>45</td>\n",
       "      <td>...</td>\n",
       "      <td>0.000000</td>\n",
       "      <td>0</td>\n",
       "      <td>0</td>\n",
       "      <td>49.7500</td>\n",
       "      <td>2</td>\n",
       "      <td>0</td>\n",
       "      <td>0.187500</td>\n",
       "      <td>q1</td>\n",
       "      <td>1</td>\n",
       "      <td>0</td>\n",
       "    </tr>\n",
       "    <tr>\n",
       "      <th>5</th>\n",
       "      <td>ff79c12f326506</td>\n",
       "      <td>289a6836a88d27</td>\n",
       "      <td>bac52627a12114</td>\n",
       "      <td>0</td>\n",
       "      <td>0</td>\n",
       "      <td>100.00000</td>\n",
       "      <td>1</td>\n",
       "      <td>1</td>\n",
       "      <td>0</td>\n",
       "      <td>44</td>\n",
       "      <td>...</td>\n",
       "      <td>0.000000</td>\n",
       "      <td>0</td>\n",
       "      <td>0</td>\n",
       "      <td>34.6875</td>\n",
       "      <td>1</td>\n",
       "      <td>0</td>\n",
       "      <td>0.036987</td>\n",
       "      <td>q1</td>\n",
       "      <td>1</td>\n",
       "      <td>0</td>\n",
       "    </tr>\n",
       "  </tbody>\n",
       "</table>\n",
       "<p>5 rows × 32 columns</p>\n",
       "</div>"
      ],
      "text/plain": [
       "               Id         groupId         matchId  assists  boosts  \\\n",
       "1  eef90569b9d03c  684d5656442f9e  aeb375fc57110c        0       0   \n",
       "2  1eaf90ac73de72  6a4a42c3245a74  110163d8bb94ae        1       0   \n",
       "3  4616d365dd2853  a930a9c79cd721  f1f1f4ef412d7e        0       0   \n",
       "4  315c96c26c9aac  de04010b3458dd  6dc8ff871e21e6        0       0   \n",
       "5  ff79c12f326506  289a6836a88d27  bac52627a12114        0       0   \n",
       "\n",
       "   damageDealt  DBNOs  headshotKills  heals  killPlace  ...  swimDistance  \\\n",
       "1     91.50000      0              0      0         57  ...     11.039062   \n",
       "2     68.00000      0              0      0         47  ...      0.000000   \n",
       "3     32.90625      0              0      0         75  ...      0.000000   \n",
       "4    100.00000      0              0      0         45  ...      0.000000   \n",
       "5    100.00000      1              1      0         44  ...      0.000000   \n",
       "\n",
       "   teamKills  vehicleDestroys  walkDistance  weaponsAcquired winPoints  \\\n",
       "1          0                0     1434.0000                5         0   \n",
       "2          0                0      161.7500                2         0   \n",
       "3          0                0      202.7500                3         0   \n",
       "4          0                0       49.7500                2         0   \n",
       "5          0                0       34.6875                1         0   \n",
       "\n",
       "   winPlacePerc  quartile  quart_int  quart_binary  \n",
       "1      0.640137        q3          3             0  \n",
       "2      0.775391        q4          4             1  \n",
       "3      0.166748        q1          1             0  \n",
       "4      0.187500        q1          1             0  \n",
       "5      0.036987        q1          1             0  \n",
       "\n",
       "[5 rows x 32 columns]"
      ]
     },
     "execution_count": 14,
     "metadata": {},
     "output_type": "execute_result"
    }
   ],
   "source": [
    "# create new variable fields to use for our predictions (quartile, quart_int, quart_binary)\n",
    "# we will use quart_binary for our classification task in this mini-lab\n",
    "\n",
    "pubg_df['quartile'] = np.where(pubg_df.winPlacePerc < 0.20, 'q1', \n",
    "                       np.where(pubg_df.winPlacePerc < 0.46, 'q2',\n",
    "                                np.where(pubg_df.winPlacePerc < 0.74, 'q3',\n",
    "                                         np.where(pubg_df.winPlacePerc >= 0.74, 'q4',\n",
    "                                                  'other'))))\n",
    "pubg_df['quart_int'] = np.where(pubg_df.winPlacePerc < 0.20, '1', \n",
    "                       np.where(pubg_df.winPlacePerc < 0.46, '2',\n",
    "                                np.where(pubg_df.winPlacePerc < 0.74, '3',\n",
    "                                         np.where(pubg_df.winPlacePerc >= 0.74, '4',\n",
    "                                                  'other'))))\n",
    "pubg_df['quart_binary'] = np.where(pubg_df.winPlacePerc < 0.74, '0',\n",
    "                                         np.where(pubg_df.winPlacePerc >= 0.74, '1',\n",
    "                                                  'other'))\n",
    "pubg_df.head()"
   ]
  },
  {
   "cell_type": "code",
   "execution_count": 15,
   "metadata": {
    "id": "IeEI3LUDvRLv"
   },
   "outputs": [
    {
     "name": "stdout",
     "output_type": "stream",
     "text": [
      "Percentage of players in Quartile 1: 24.86%\n",
      "Percentage of players in Quartile 2: 25.19%\n",
      "Percentage of players in Quartile 3: 24.55%\n",
      "Percentage of players in Quartile 4: 25.41%\n",
      "Miscategorized quartile values:   0\n"
     ]
    }
   ],
   "source": [
    "# check the spread of our quartiles\n",
    "# make sure they are balanced\n",
    "\n",
    "quartiles = np.append(sorted(pubg_df.quartile.unique()), 'other')\n",
    "e = 1\n",
    "\n",
    "for i in quartiles:\n",
    "    if e < len(quartiles):\n",
    "        count = len(pubg_df[pubg_df.quartile == i])\n",
    "        print('Percentage of players in Quartile {}: {:.2f}%'.format(e, \n",
    "                                                                 (count / (len(pubg_df.quartile))*100)))\n",
    "        e += 1\n",
    "    else:\n",
    "        count = len(pubg_df[pubg_df.quartile == i])\n",
    "        print('Miscategorized quartile values:  ', count)"
   ]
  },
  {
   "cell_type": "markdown",
   "metadata": {
    "id": "gJB_oj3pvTGj"
   },
   "source": [
    "### Remove unuseful variables"
   ]
  },
  {
   "cell_type": "code",
   "execution_count": 16,
   "metadata": {
    "id": "y86AjnzVvXiQ"
   },
   "outputs": [],
   "source": [
    "# remove some unuseful object-datatype variables \n",
    "del pubg_df['Id']\n",
    "del pubg_df['groupId']\n",
    "del pubg_df['matchId']\n",
    "del pubg_df['matchType']"
   ]
  },
  {
   "cell_type": "code",
   "execution_count": 17,
   "metadata": {
    "id": "MDffg2hSvZuM"
   },
   "outputs": [
    {
     "name": "stdout",
     "output_type": "stream",
     "text": [
      "['assists', 'boosts', 'damageDealt', 'DBNOs', 'headshotKills', 'heals', 'killPlace', 'killPoints', 'kills', 'killStreaks', 'longestKill', 'matchDuration', 'maxPlace', 'numGroups', 'rankPoints', 'revives', 'rideDistance', 'roadKills', 'swimDistance', 'teamKills', 'vehicleDestroys', 'walkDistance', 'weaponsAcquired', 'winPoints']\n"
     ]
    }
   ],
   "source": [
    "# FEATURE COLUMN NAMES \n",
    "# make a list of the columns in our df (to be used for models below)\n",
    "\n",
    "cols_df = pubg_df.columns.values.tolist()\n",
    "cols_df.remove('winPlacePerc') # remove target variable 1 (continuous)\n",
    "cols_df.remove('quartile') # remove target variable 2 (categorical)\n",
    "cols_df.remove('quart_int') # remove target variable 2 (numeric representation)\n",
    "cols_df.remove('quart_binary')\n",
    "print(cols_df)"
   ]
  },
  {
   "cell_type": "code",
   "execution_count": 18,
   "metadata": {
    "id": "YBBxyf3-vbNf"
   },
   "outputs": [
    {
     "data": {
      "text/plain": [
       "<AxesSubplot:>"
      ]
     },
     "execution_count": 18,
     "metadata": {},
     "output_type": "execute_result"
    },
    {
     "data": {
      "image/png": "[encoded data removed]",
      "text/plain": [
       "<Figure size 1080x720 with 2 Axes>"
      ]
     },
     "metadata": {
      "needs_background": "light"
     },
     "output_type": "display_data"
    }
   ],
   "source": [
    "cmap = sns.diverging_palette(220, 10, as_cmap=True)\n",
    "fig, ax = plt.subplots(figsize = (15, 10))\n",
    "corrMatrix = pubg_df.corr()\n",
    "sns.heatmap(corrMatrix, ax=ax, annot=True, fmt=\".1f\", cmap=cmap,\n",
    "            mask=np.tril(np.ones_like(corrMatrix, dtype=bool)))"
   ]
  },
  {
   "cell_type": "code",
   "execution_count": 19,
   "metadata": {
    "id": "sQEwYTfbveHX"
   },
   "outputs": [
    {
     "name": "stdout",
     "output_type": "stream",
     "text": [
      "['assists', 'boosts', 'damageDealt', 'DBNOs', 'headshotKills', 'heals', 'killPlace', 'kills', 'killStreaks', 'longestKill', 'matchDuration', 'numGroups', 'rankPoints', 'revives', 'rideDistance', 'roadKills', 'swimDistance', 'teamKills', 'vehicleDestroys', 'walkDistance', 'weaponsAcquired']\n"
     ]
    }
   ],
   "source": [
    "# remove additional variables that are causing extra noise in our model\n",
    "# (specifically, these variables are highly correlated with other variables \n",
    "# which impacts our model's convergence perfomance)\n",
    "\n",
    "cols_df.remove('winPoints') # highly correlated with rankPoints and killPoints\n",
    "cols_df.remove('killPoints') # highly correlated with rabnkPoints and winPoints\n",
    "cols_df.remove('maxPlace') # perfectly correlated with numGroups\n",
    "print(cols_df)\n",
    "\n",
    "# We maintain the rankPoints variable since we subset on this earlier to only work with 'ranked' matches"
   ]
  },
  {
   "cell_type": "markdown",
   "metadata": {
    "id": "rJyw6i3oyJ7J"
   },
   "source": [
    "### Final dataframe for models"
   ]
  },
  {
   "cell_type": "code",
   "execution_count": 20,
   "metadata": {
    "id": "EHne-W-ZyPmW"
   },
   "outputs": [
    {
     "name": "stdout",
     "output_type": "stream",
     "text": [
      "<class 'pandas.core.frame.DataFrame'>\n",
      "Int64Index: 2745155 entries, 1 to 4446965\n",
      "Data columns (total 23 columns):\n",
      " #   Column           Dtype  \n",
      "---  ------           -----  \n",
      " 0   assists          int8   \n",
      " 1   boosts           int8   \n",
      " 2   damageDealt      float16\n",
      " 3   DBNOs            int8   \n",
      " 4   headshotKills    int8   \n",
      " 5   heals            int8   \n",
      " 6   killPlace        int8   \n",
      " 7   kills            int8   \n",
      " 8   killStreaks      int8   \n",
      " 9   longestKill      float16\n",
      " 10  matchDuration    int16  \n",
      " 11  numGroups        int8   \n",
      " 12  rankPoints       int16  \n",
      " 13  revives          int8   \n",
      " 14  rideDistance     float16\n",
      " 15  roadKills        int8   \n",
      " 16  swimDistance     float16\n",
      " 17  teamKills        int8   \n",
      " 18  vehicleDestroys  int8   \n",
      " 19  walkDistance     float16\n",
      " 20  weaponsAcquired  int16  \n",
      " 21  winPlacePerc     float16\n",
      " 22  quart_binary     object \n",
      "dtypes: float16(6), int16(3), int8(13), object(1)\n",
      "memory usage: 123.0+ MB\n"
     ]
    }
   ],
   "source": [
    "temp = pubg_df[cols_df]\n",
    "temp['winPlacePerc'] = pubg_df['winPlacePerc']\n",
    "temp['quart_binary'] = pubg_df['quart_binary']\n",
    "finalDF = temp\n",
    "finalDF.info()"
   ]
  },
  {
   "cell_type": "markdown",
   "metadata": {
    "id": "IhoU01FHX7dr"
   },
   "source": [
    "The above df.info() confirms that we have at least 30k records and 15 columns in data. We have 2,745,155 records and 21 feature columns—2 response vectors."
   ]
  },
  {
   "cell_type": "markdown",
   "metadata": {
    "id": "_NcpvFMTfnfp"
   },
   "source": [
    "# **METRIC SELECTION & DATA SPLIT**"
   ]
  },
  {
   "cell_type": "markdown",
   "metadata": {
    "id": "z7EuAijyQIBS"
   },
   "source": [
    "## Performance metrics\n",
    "*Choose and explain the metrics you will use to evaluate model performance.\n",
    "Need to be sure that we use regression metric for regression task, and classification metric for classification task.*\n",
    "\n",
    "1. Classification task (quart_binary): We will use accuracy to measure model performance. We chose accuracy since online gambling is primarily concerned with increasing correct bets: both the true-positive and the true-negative rates. This would correspond with accuracy as a prediction metric—a future model could **also** evaluate F1-score to evaluate \"unsafe\" bets.\n",
    "\n",
    "2. Regression task (winPlacePerc): We will use mean absolute error (MAE) requiring a regression model with 10-fold cross-validation. Consequently, this was the same metric for the kaggle competition's QOI. The reason for MAE evaluation is that we are identifying how far each prediction is from reality.\n",
    "useful reference: https://www.analyticsvidhya.com/blog/2021/05/know-the-best-evaluation-metrics-for-your-regression-model/\n"
   ]
  },
  {
   "cell_type": "markdown",
   "metadata": {
    "id": "6oD4D2uyYjSK"
   },
   "source": [
    "*Be sure to explain why we chose the metric in each instance. \"We chose xx as evaluation metric for classification task because....\"*"
   ]
  },
  {
   "cell_type": "markdown",
   "metadata": {
    "id": "nJMILZV-ZAfb"
   },
   "source": [
    "## Tran/test split logic"
   ]
  },
  {
   "cell_type": "markdown",
   "metadata": {
    "id": "b98fUd983qTZ"
   },
   "source": [
    "Our chosen method for splitting the data is the holdout method (train, test, validation split).\n",
    "\n",
    "We have chosen to split our data into 3 parts: a train set, a test set, and a validation set. \n",
    "We will use them as folows:\n",
    "- **train set:** to fit the different models\n",
    "- **validation set:** to assess model performance and for model selection\n",
    "- **test set:** to assess how well our model generalizes to unseen data \n",
    "\n",
    "Why did we decide to split into 3 groups? \n",
    "When we only split into training/testing sets, and continue to assess model performance on the test data, that test data essentially becomes part of our training data, which means that it does not do as good a job of giving us insight into how well our model will generalize to unseen data.\n",
    "\n",
    "\"One disadvatage of the holdout method is that the performance estimate is sensitive to how we partition the training set into the training and validation subsets; the estimate will vary for different samples of the data.\"\n",
    "\n",
    "\n",
    "*Reference: Python Machine Learning - Raschka (p.174)*"
   ]
  },
  {
   "cell_type": "markdown",
   "metadata": {
    "id": "BU9Tela9ZlBd"
   },
   "source": [
    "**Breakdown:** 70% train, 20% validate, 10% test.\n",
    "\n"
   ]
  },
  {
   "cell_type": "markdown",
   "metadata": {
    "id": "Iqu_WzZPsyLG"
   },
   "source": [
    "**Hyperparameter Data:** 10% sample size randomly taken from training data."
   ]
  },
  {
   "cell_type": "code",
   "execution_count": 21,
   "metadata": {
    "id": "Mg5SlMgIytzk"
   },
   "outputs": [
    {
     "name": "stdout",
     "output_type": "stream",
     "text": [
      "Training Data shape:    (1921608, 21)\n",
      "Validating Data shape:  (549031, 21)\n",
      "Test Data shape:        (274516, 21)\n"
     ]
    }
   ],
   "source": [
    "# TRAIN TEST SPLIT\n",
    "# reference: https://datascience.stackexchange.com/questions/15135/train-test-validation-set-splitting-in-sklearn\n",
    "\n",
    "train_ratio = 0.70\n",
    "validation_ratio = 0.20\n",
    "test_ratio = 0.10\n",
    "\n",
    "# creation of feature-space and response-vectors\n",
    "dataX = finalDF.loc[:, cols_df]\n",
    "dataY = finalDF.loc[:, ('winPlacePerc','quart_binary')]\n",
    "\n",
    "# train is now 70% of the entire data set\n",
    "x_train, x_test, y_train, y_test = train_test_split(dataX, dataY, test_size=(1-train_ratio))\n",
    "\n",
    "# test is now 10% of the initial data set\n",
    "# validation is now 20% of the initial data set \n",
    "x_val, x_test, y_val, y_test = train_test_split(x_test, y_test, test_size=test_ratio/(test_ratio + validation_ratio)) \n",
    "\n",
    "print(\"Training Data shape:   \", x_train.shape)\n",
    "print(\"Validating Data shape: \", x_val.shape)\n",
    "print(\"Test Data shape:       \", x_test.shape)"
   ]
  },
  {
   "cell_type": "code",
   "execution_count": 22,
   "metadata": {
    "id": "JzyrNhvdzzgI"
   },
   "outputs": [
    {
     "name": "stdout",
     "output_type": "stream",
     "text": [
      "Tuning Data shape:  (50000, 21)\n",
      "(697494, 2)\n",
      "(2047661, 2)\n",
      "(12751, 2)\n",
      "(37249, 2)\n"
     ]
    }
   ],
   "source": [
    "indices = x_train.sample(n=50000, replace=False, random_state=17).index\n",
    "x_tune = x_train.loc[indices, :]\n",
    "y_tune = y_train.loc[indices, :]\n",
    "\n",
    "print(\"Tuning Data shape: \", x_tune.shape)\n",
    "print(dataY[dataY.quart_binary=='1'].shape)\n",
    "print(dataY[dataY.quart_binary=='0'].shape)\n",
    "print(y_tune[y_tune.quart_binary=='1'].shape)\n",
    "print(y_tune[y_tune.quart_binary=='0'].shape)"
   ]
  },
  {
   "cell_type": "markdown",
   "metadata": {
    "id": "eTct0S9J5U4R"
   },
   "source": [
    "This distribution between our training data and our tuning data appear fairly symmetric. The tuning data will be used for hyperparameter tuning."
   ]
  },
  {
   "cell_type": "markdown",
   "metadata": {
    "id": "NBFd-3h9QLUL"
   },
   "source": [
    "Side note: We could have used stratified shuffle split, but chose not to. Stratified shuffle split is useful when you have unbalanced data representation across the classes you are attempting to predict. Stratified shuffle split will lock in the class distribution for the train/test split. The only place this might be useful for our analysis would be in predicting the binary classification metric quart_binary, since we have 75% of our data = no, and 25% = yes.\n",
    "\n",
    "*Reference:https://towardsdatascience.com/3-things-you-need-to-know-before-you-train-test-split-869dfabb7e50*"
   ]
  },
  {
   "cell_type": "markdown",
   "metadata": {
    "id": "uMvg9mKuZR2N"
   },
   "source": [
    "# **BUILD MODELS + MODEL ANALYSIS**\n"
   ]
  },
  {
   "cell_type": "markdown",
   "metadata": {
    "id": "GGuFIOhg0Swk"
   },
   "source": [
    "## Task 1: Classification models"
   ]
  },
  {
   "cell_type": "markdown",
   "metadata": {
    "id": "3Pcorqy15YUI"
   },
   "source": [
    "### Hyperparameter tuning: Classification models"
   ]
  },
  {
   "cell_type": "code",
   "execution_count": 23,
   "metadata": {
    "id": "FXEPY9mP5N0X"
   },
   "outputs": [],
   "source": [
    "from sklearn. neighbors import KNeighborsClassifier\n",
    "from sklearn.naive_bayes import GaussianNB\n",
    "\n",
    "\n",
    "pipe = Pipeline([(\"scaler\", StandardScaler()),\n",
    "                (\"classifier\", RandomForestClassifier())])\n",
    "\n",
    "grid_param = [\n",
    "    {\"classifier\": [RandomForestClassifier(random_state=17)],\n",
    "    \"classifier__n_estimators\": [50,100,200],\n",
    "    \"classifier__criterion\":[\"gini\", \"entropy\"],\n",
    "    \"classifier__max_features\": ['auto','sqrt','log2'],\n",
    "    \"classifier__max_depth\": [4,5,6,7,8,9]\n",
    "    },\n",
    "    {\"classifier\": [LogisticRegression(random_state=17)],\n",
    "    \"classifier__penalty\": [\"l2\"],\n",
    "    \"classifier__C\": np.logspace(-1, 4, 8),\n",
    "    \"classifier__solver\":[\"newton-cg\", \"saga\", \"sag\", \"liblinear\"],\n",
    "    \"classifier__max_iter\": [10, 100, 1000]\n",
    "    },\n",
    "    # {\"classifier\": [SVC(random_state=17)],\n",
    "    # \"classifier__kernel\": [\"linear\",\"rbf\",\"sigmoid\"],\n",
    "    # \"classifier__max_iter\": np.logspace(0,3,4),\n",
    "    # \"classifier__C\": np.logspace(-1,4,6),\n",
    "    # \"classifier__gamma\": ['scale','auto']\n",
    "    # },\n",
    "    # {\"classifier\": [KNeighborsClassifier()],\n",
    "    # \"classifier__n_neighbors\": [1, 3, 5],\n",
    "    # \"classifier__weights\": [\"uniform\", \"distance\"],\n",
    "    # \"classifier__algorithm\": [\"auto\", \"brute\"],\n",
    "    # \"classifier__leaf_size\": [0, 10, 20, 30]\n",
    "    # },\n",
    "    {\"classifier\": [GaussianNB()],\n",
    "    \"classifier__var_smoothing\": np.logspace(-11,-4,8)\n",
    "    }\n",
    "]"
   ]
  },
  {
   "cell_type": "markdown",
   "metadata": {
    "id": "2Qp6y8s35ntm"
   },
   "source": [
    "Pick best classifier parameters using gridsearch. \n",
    "We will fit the model on the TUNE data."
   ]
  },
  {
   "cell_type": "code",
   "execution_count": 24,
   "metadata": {
    "id": "Yich6Rtn5jqA"
   },
   "outputs": [],
   "source": [
    "gridsearch = GridSearchCV(pipe, grid_param, cv = 5, verbose = 0, n_jobs = -1)\n",
    "best_model = gridsearch.fit(x_tune, y_tune['quart_binary'])"
   ]
  },
  {
   "cell_type": "markdown",
   "metadata": {
    "id": "OFKNM5QX6DC_"
   },
   "source": [
    "**Best model for classification task.**"
   ]
  },
  {
   "cell_type": "code",
   "execution_count": 25,
   "metadata": {
    "id": "lLAEwbof6Cac"
   },
   "outputs": [
    {
     "name": "stdout",
     "output_type": "stream",
     "text": [
      "Pipeline(steps=[('scaler', StandardScaler()),\n",
      "                ('classifier',\n",
      "                 RandomForestClassifier(criterion='entropy', max_depth=9,\n",
      "                                        n_estimators=200, random_state=17))])\n",
      "The mean accuracy of the model is: 0.9205\n"
     ]
    }
   ],
   "source": [
    "print(best_model.best_estimator_)\n",
    "print(\"The mean accuracy of the model is:\",best_model.score(x_tune, y_tune['quart_binary']))"
   ]
  },
  {
   "cell_type": "code",
   "execution_count": 26,
   "metadata": {
    "id": "QS1WZNAf6Il1"
   },
   "outputs": [
    {
     "data": {
      "text/html": [
       "<div>\n",
       "<style scoped>\n",
       "    .dataframe tbody tr th:only-of-type {\n",
       "        vertical-align: middle;\n",
       "    }\n",
       "\n",
       "    .dataframe tbody tr th {\n",
       "        vertical-align: top;\n",
       "    }\n",
       "\n",
       "    .dataframe thead th {\n",
       "        text-align: right;\n",
       "    }\n",
       "</style>\n",
       "<table border=\"1\" class=\"dataframe\">\n",
       "  <thead>\n",
       "    <tr style=\"text-align: right;\">\n",
       "      <th></th>\n",
       "      <th>mean_fit_time</th>\n",
       "      <th>std_fit_time</th>\n",
       "      <th>mean_score_time</th>\n",
       "      <th>std_score_time</th>\n",
       "      <th>param_classifier</th>\n",
       "      <th>param_classifier__criterion</th>\n",
       "      <th>param_classifier__max_depth</th>\n",
       "      <th>param_classifier__max_features</th>\n",
       "      <th>param_classifier__n_estimators</th>\n",
       "      <th>param_classifier__C</th>\n",
       "      <th>...</th>\n",
       "      <th>param_classifier__solver</th>\n",
       "      <th>params</th>\n",
       "      <th>split0_test_score</th>\n",
       "      <th>split1_test_score</th>\n",
       "      <th>split2_test_score</th>\n",
       "      <th>split3_test_score</th>\n",
       "      <th>split4_test_score</th>\n",
       "      <th>mean_test_score</th>\n",
       "      <th>std_test_score</th>\n",
       "      <th>rank_test_score</th>\n",
       "    </tr>\n",
       "  </thead>\n",
       "  <tbody>\n",
       "    <tr>\n",
       "      <th>0</th>\n",
       "      <td>1.947977</td>\n",
       "      <td>0.031863</td>\n",
       "      <td>0.109706</td>\n",
       "      <td>0.006181</td>\n",
       "      <td>RandomForestClassifier(criterion='entropy', ma...</td>\n",
       "      <td>gini</td>\n",
       "      <td>4</td>\n",
       "      <td>auto</td>\n",
       "      <td>50</td>\n",
       "      <td>NaN</td>\n",
       "      <td>...</td>\n",
       "      <td>NaN</td>\n",
       "      <td>{'classifier': RandomForestClassifier(criterio...</td>\n",
       "      <td>0.8978</td>\n",
       "      <td>0.8929</td>\n",
       "      <td>0.8888</td>\n",
       "      <td>0.8953</td>\n",
       "      <td>0.8974</td>\n",
       "      <td>0.89444</td>\n",
       "      <td>0.003316</td>\n",
       "      <td>187</td>\n",
       "    </tr>\n",
       "    <tr>\n",
       "      <th>1</th>\n",
       "      <td>3.782671</td>\n",
       "      <td>0.041050</td>\n",
       "      <td>0.173536</td>\n",
       "      <td>0.005536</td>\n",
       "      <td>RandomForestClassifier(criterion='entropy', ma...</td>\n",
       "      <td>gini</td>\n",
       "      <td>4</td>\n",
       "      <td>auto</td>\n",
       "      <td>100</td>\n",
       "      <td>NaN</td>\n",
       "      <td>...</td>\n",
       "      <td>NaN</td>\n",
       "      <td>{'classifier': RandomForestClassifier(criterio...</td>\n",
       "      <td>0.8965</td>\n",
       "      <td>0.8919</td>\n",
       "      <td>0.8881</td>\n",
       "      <td>0.8950</td>\n",
       "      <td>0.8969</td>\n",
       "      <td>0.89368</td>\n",
       "      <td>0.003298</td>\n",
       "      <td>193</td>\n",
       "    </tr>\n",
       "    <tr>\n",
       "      <th>2</th>\n",
       "      <td>8.111941</td>\n",
       "      <td>0.437317</td>\n",
       "      <td>0.374998</td>\n",
       "      <td>0.036328</td>\n",
       "      <td>RandomForestClassifier(criterion='entropy', ma...</td>\n",
       "      <td>gini</td>\n",
       "      <td>4</td>\n",
       "      <td>auto</td>\n",
       "      <td>200</td>\n",
       "      <td>NaN</td>\n",
       "      <td>...</td>\n",
       "      <td>NaN</td>\n",
       "      <td>{'classifier': RandomForestClassifier(criterio...</td>\n",
       "      <td>0.8967</td>\n",
       "      <td>0.8918</td>\n",
       "      <td>0.8887</td>\n",
       "      <td>0.8950</td>\n",
       "      <td>0.8963</td>\n",
       "      <td>0.89370</td>\n",
       "      <td>0.003035</td>\n",
       "      <td>190</td>\n",
       "    </tr>\n",
       "    <tr>\n",
       "      <th>3</th>\n",
       "      <td>2.035756</td>\n",
       "      <td>0.044168</td>\n",
       "      <td>0.111503</td>\n",
       "      <td>0.006686</td>\n",
       "      <td>RandomForestClassifier(criterion='entropy', ma...</td>\n",
       "      <td>gini</td>\n",
       "      <td>4</td>\n",
       "      <td>sqrt</td>\n",
       "      <td>50</td>\n",
       "      <td>NaN</td>\n",
       "      <td>...</td>\n",
       "      <td>NaN</td>\n",
       "      <td>{'classifier': RandomForestClassifier(criterio...</td>\n",
       "      <td>0.8978</td>\n",
       "      <td>0.8929</td>\n",
       "      <td>0.8888</td>\n",
       "      <td>0.8953</td>\n",
       "      <td>0.8974</td>\n",
       "      <td>0.89444</td>\n",
       "      <td>0.003316</td>\n",
       "      <td>187</td>\n",
       "    </tr>\n",
       "    <tr>\n",
       "      <th>4</th>\n",
       "      <td>4.280953</td>\n",
       "      <td>0.207046</td>\n",
       "      <td>0.186103</td>\n",
       "      <td>0.021932</td>\n",
       "      <td>RandomForestClassifier(criterion='entropy', ma...</td>\n",
       "      <td>gini</td>\n",
       "      <td>4</td>\n",
       "      <td>sqrt</td>\n",
       "      <td>100</td>\n",
       "      <td>NaN</td>\n",
       "      <td>...</td>\n",
       "      <td>NaN</td>\n",
       "      <td>{'classifier': RandomForestClassifier(criterio...</td>\n",
       "      <td>0.8965</td>\n",
       "      <td>0.8919</td>\n",
       "      <td>0.8881</td>\n",
       "      <td>0.8950</td>\n",
       "      <td>0.8969</td>\n",
       "      <td>0.89368</td>\n",
       "      <td>0.003298</td>\n",
       "      <td>193</td>\n",
       "    </tr>\n",
       "    <tr>\n",
       "      <th>...</th>\n",
       "      <td>...</td>\n",
       "      <td>...</td>\n",
       "      <td>...</td>\n",
       "      <td>...</td>\n",
       "      <td>...</td>\n",
       "      <td>...</td>\n",
       "      <td>...</td>\n",
       "      <td>...</td>\n",
       "      <td>...</td>\n",
       "      <td>...</td>\n",
       "      <td>...</td>\n",
       "      <td>...</td>\n",
       "      <td>...</td>\n",
       "      <td>...</td>\n",
       "      <td>...</td>\n",
       "      <td>...</td>\n",
       "      <td>...</td>\n",
       "      <td>...</td>\n",
       "      <td>...</td>\n",
       "      <td>...</td>\n",
       "      <td>...</td>\n",
       "    </tr>\n",
       "    <tr>\n",
       "      <th>200</th>\n",
       "      <td>1.667496</td>\n",
       "      <td>0.353851</td>\n",
       "      <td>0.036103</td>\n",
       "      <td>0.001716</td>\n",
       "      <td>LogisticRegression(random_state=17)</td>\n",
       "      <td>NaN</td>\n",
       "      <td>NaN</td>\n",
       "      <td>NaN</td>\n",
       "      <td>NaN</td>\n",
       "      <td>10000.0</td>\n",
       "      <td>...</td>\n",
       "      <td>newton-cg</td>\n",
       "      <td>{'classifier': LogisticRegression(random_state...</td>\n",
       "      <td>0.9053</td>\n",
       "      <td>0.9040</td>\n",
       "      <td>0.8984</td>\n",
       "      <td>0.9002</td>\n",
       "      <td>0.9038</td>\n",
       "      <td>0.90234</td>\n",
       "      <td>0.002598</td>\n",
       "      <td>113</td>\n",
       "    </tr>\n",
       "    <tr>\n",
       "      <th>201</th>\n",
       "      <td>2.845988</td>\n",
       "      <td>0.103318</td>\n",
       "      <td>0.030120</td>\n",
       "      <td>0.008425</td>\n",
       "      <td>LogisticRegression(random_state=17)</td>\n",
       "      <td>NaN</td>\n",
       "      <td>NaN</td>\n",
       "      <td>NaN</td>\n",
       "      <td>NaN</td>\n",
       "      <td>10000.0</td>\n",
       "      <td>...</td>\n",
       "      <td>saga</td>\n",
       "      <td>{'classifier': LogisticRegression(random_state...</td>\n",
       "      <td>0.9054</td>\n",
       "      <td>0.9041</td>\n",
       "      <td>0.8990</td>\n",
       "      <td>0.8997</td>\n",
       "      <td>0.9040</td>\n",
       "      <td>0.90244</td>\n",
       "      <td>0.002580</td>\n",
       "      <td>68</td>\n",
       "    </tr>\n",
       "    <tr>\n",
       "      <th>202</th>\n",
       "      <td>1.314285</td>\n",
       "      <td>0.095480</td>\n",
       "      <td>0.041090</td>\n",
       "      <td>0.010022</td>\n",
       "      <td>LogisticRegression(random_state=17)</td>\n",
       "      <td>NaN</td>\n",
       "      <td>NaN</td>\n",
       "      <td>NaN</td>\n",
       "      <td>NaN</td>\n",
       "      <td>10000.0</td>\n",
       "      <td>...</td>\n",
       "      <td>sag</td>\n",
       "      <td>{'classifier': LogisticRegression(random_state...</td>\n",
       "      <td>0.9053</td>\n",
       "      <td>0.9039</td>\n",
       "      <td>0.8987</td>\n",
       "      <td>0.9001</td>\n",
       "      <td>0.9039</td>\n",
       "      <td>0.90238</td>\n",
       "      <td>0.002525</td>\n",
       "      <td>95</td>\n",
       "    </tr>\n",
       "    <tr>\n",
       "      <th>203</th>\n",
       "      <td>0.895006</td>\n",
       "      <td>0.095412</td>\n",
       "      <td>0.035306</td>\n",
       "      <td>0.009023</td>\n",
       "      <td>LogisticRegression(random_state=17)</td>\n",
       "      <td>NaN</td>\n",
       "      <td>NaN</td>\n",
       "      <td>NaN</td>\n",
       "      <td>NaN</td>\n",
       "      <td>10000.0</td>\n",
       "      <td>...</td>\n",
       "      <td>liblinear</td>\n",
       "      <td>{'classifier': LogisticRegression(random_state...</td>\n",
       "      <td>0.9053</td>\n",
       "      <td>0.9040</td>\n",
       "      <td>0.8984</td>\n",
       "      <td>0.9002</td>\n",
       "      <td>0.9038</td>\n",
       "      <td>0.90234</td>\n",
       "      <td>0.002598</td>\n",
       "      <td>113</td>\n",
       "    </tr>\n",
       "    <tr>\n",
       "      <th>204</th>\n",
       "      <td>0.186103</td>\n",
       "      <td>0.013134</td>\n",
       "      <td>0.051063</td>\n",
       "      <td>0.008013</td>\n",
       "      <td>GaussianNB()</td>\n",
       "      <td>NaN</td>\n",
       "      <td>NaN</td>\n",
       "      <td>NaN</td>\n",
       "      <td>NaN</td>\n",
       "      <td>NaN</td>\n",
       "      <td>...</td>\n",
       "      <td>NaN</td>\n",
       "      <td>{'classifier': GaussianNB()}</td>\n",
       "      <td>0.8362</td>\n",
       "      <td>0.8383</td>\n",
       "      <td>0.8317</td>\n",
       "      <td>0.8366</td>\n",
       "      <td>0.8288</td>\n",
       "      <td>0.83432</td>\n",
       "      <td>0.003519</td>\n",
       "      <td>205</td>\n",
       "    </tr>\n",
       "  </tbody>\n",
       "</table>\n",
       "<p>205 rows × 22 columns</p>\n",
       "</div>"
      ],
      "text/plain": [
       "     mean_fit_time  std_fit_time  mean_score_time  std_score_time  \\\n",
       "0         1.947977      0.031863         0.109706        0.006181   \n",
       "1         3.782671      0.041050         0.173536        0.005536   \n",
       "2         8.111941      0.437317         0.374998        0.036328   \n",
       "3         2.035756      0.044168         0.111503        0.006686   \n",
       "4         4.280953      0.207046         0.186103        0.021932   \n",
       "..             ...           ...              ...             ...   \n",
       "200       1.667496      0.353851         0.036103        0.001716   \n",
       "201       2.845988      0.103318         0.030120        0.008425   \n",
       "202       1.314285      0.095480         0.041090        0.010022   \n",
       "203       0.895006      0.095412         0.035306        0.009023   \n",
       "204       0.186103      0.013134         0.051063        0.008013   \n",
       "\n",
       "                                      param_classifier  \\\n",
       "0    RandomForestClassifier(criterion='entropy', ma...   \n",
       "1    RandomForestClassifier(criterion='entropy', ma...   \n",
       "2    RandomForestClassifier(criterion='entropy', ma...   \n",
       "3    RandomForestClassifier(criterion='entropy', ma...   \n",
       "4    RandomForestClassifier(criterion='entropy', ma...   \n",
       "..                                                 ...   \n",
       "200                LogisticRegression(random_state=17)   \n",
       "201                LogisticRegression(random_state=17)   \n",
       "202                LogisticRegression(random_state=17)   \n",
       "203                LogisticRegression(random_state=17)   \n",
       "204                                       GaussianNB()   \n",
       "\n",
       "    param_classifier__criterion param_classifier__max_depth  \\\n",
       "0                          gini                           4   \n",
       "1                          gini                           4   \n",
       "2                          gini                           4   \n",
       "3                          gini                           4   \n",
       "4                          gini                           4   \n",
       "..                          ...                         ...   \n",
       "200                         NaN                         NaN   \n",
       "201                         NaN                         NaN   \n",
       "202                         NaN                         NaN   \n",
       "203                         NaN                         NaN   \n",
       "204                         NaN                         NaN   \n",
       "\n",
       "    param_classifier__max_features param_classifier__n_estimators  \\\n",
       "0                             auto                             50   \n",
       "1                             auto                            100   \n",
       "2                             auto                            200   \n",
       "3                             sqrt                             50   \n",
       "4                             sqrt                            100   \n",
       "..                             ...                            ...   \n",
       "200                            NaN                            NaN   \n",
       "201                            NaN                            NaN   \n",
       "202                            NaN                            NaN   \n",
       "203                            NaN                            NaN   \n",
       "204                            NaN                            NaN   \n",
       "\n",
       "    param_classifier__C  ... param_classifier__solver  \\\n",
       "0                   NaN  ...                      NaN   \n",
       "1                   NaN  ...                      NaN   \n",
       "2                   NaN  ...                      NaN   \n",
       "3                   NaN  ...                      NaN   \n",
       "4                   NaN  ...                      NaN   \n",
       "..                  ...  ...                      ...   \n",
       "200             10000.0  ...                newton-cg   \n",
       "201             10000.0  ...                     saga   \n",
       "202             10000.0  ...                      sag   \n",
       "203             10000.0  ...                liblinear   \n",
       "204                 NaN  ...                      NaN   \n",
       "\n",
       "                                                params split0_test_score  \\\n",
       "0    {'classifier': RandomForestClassifier(criterio...            0.8978   \n",
       "1    {'classifier': RandomForestClassifier(criterio...            0.8965   \n",
       "2    {'classifier': RandomForestClassifier(criterio...            0.8967   \n",
       "3    {'classifier': RandomForestClassifier(criterio...            0.8978   \n",
       "4    {'classifier': RandomForestClassifier(criterio...            0.8965   \n",
       "..                                                 ...               ...   \n",
       "200  {'classifier': LogisticRegression(random_state...            0.9053   \n",
       "201  {'classifier': LogisticRegression(random_state...            0.9054   \n",
       "202  {'classifier': LogisticRegression(random_state...            0.9053   \n",
       "203  {'classifier': LogisticRegression(random_state...            0.9053   \n",
       "204                       {'classifier': GaussianNB()}            0.8362   \n",
       "\n",
       "    split1_test_score  split2_test_score  split3_test_score  \\\n",
       "0              0.8929             0.8888             0.8953   \n",
       "1              0.8919             0.8881             0.8950   \n",
       "2              0.8918             0.8887             0.8950   \n",
       "3              0.8929             0.8888             0.8953   \n",
       "4              0.8919             0.8881             0.8950   \n",
       "..                ...                ...                ...   \n",
       "200            0.9040             0.8984             0.9002   \n",
       "201            0.9041             0.8990             0.8997   \n",
       "202            0.9039             0.8987             0.9001   \n",
       "203            0.9040             0.8984             0.9002   \n",
       "204            0.8383             0.8317             0.8366   \n",
       "\n",
       "     split4_test_score  mean_test_score  std_test_score  rank_test_score  \n",
       "0               0.8974          0.89444        0.003316              187  \n",
       "1               0.8969          0.89368        0.003298              193  \n",
       "2               0.8963          0.89370        0.003035              190  \n",
       "3               0.8974          0.89444        0.003316              187  \n",
       "4               0.8969          0.89368        0.003298              193  \n",
       "..                 ...              ...             ...              ...  \n",
       "200             0.9038          0.90234        0.002598              113  \n",
       "201             0.9040          0.90244        0.002580               68  \n",
       "202             0.9039          0.90238        0.002525               95  \n",
       "203             0.9038          0.90234        0.002598              113  \n",
       "204             0.8288          0.83432        0.003519              205  \n",
       "\n",
       "[205 rows x 22 columns]"
      ]
     },
     "execution_count": 26,
     "metadata": {},
     "output_type": "execute_result"
    }
   ],
   "source": [
    "df = pd.DataFrame(best_model.cv_results_)\n",
    "df"
   ]
  },
  {
   "cell_type": "markdown",
   "metadata": {
    "id": "51iSpGWd6K2q"
   },
   "source": [
    "### Grab best model parameters for each of the classification models.\n",
    "\n"
   ]
  },
  {
   "cell_type": "code",
   "execution_count": 27,
   "metadata": {
    "id": "jKstiU7m6OmC"
   },
   "outputs": [
    {
     "data": {
      "text/html": [
       "<style type=\"text/css\">\n",
       "#T_85bcd_row0_col3, #T_85bcd_row1_col3, #T_85bcd_row2_col3 {\n",
       "  width: 250px;\n",
       "}\n",
       "</style>\n",
       "<table id=\"T_85bcd_\">\n",
       "  <thead>\n",
       "    <tr>\n",
       "      <th class=\"blank level0\" >&nbsp;</th>\n",
       "      <th class=\"col_heading level0 col0\" >model</th>\n",
       "      <th class=\"col_heading level0 col1\" >total_fit_time</th>\n",
       "      <th class=\"col_heading level0 col2\" >mean_fit_time</th>\n",
       "      <th class=\"col_heading level0 col3\" >params</th>\n",
       "      <th class=\"col_heading level0 col4\" >mean_test_score</th>\n",
       "    </tr>\n",
       "  </thead>\n",
       "  <tbody>\n",
       "    <tr>\n",
       "      <th id=\"T_85bcd_level0_row0\" class=\"row_heading level0 row0\" >0</th>\n",
       "      <td id=\"T_85bcd_row0_col0\" class=\"data row0 col0\" >RandomForest</td>\n",
       "      <td id=\"T_85bcd_row0_col1\" class=\"data row0 col1\" >756.652223</td>\n",
       "      <td id=\"T_85bcd_row0_col2\" class=\"data row0 col2\" >16.285305</td>\n",
       "      <td id=\"T_85bcd_row0_col3\" class=\"data row0 col3\" >{'classifier': RandomForestClassifier(criterion='entropy', max_depth=9, n_estimators=200,\n",
       "                       random_state=17), 'classifier__criterion': 'entropy', 'classifier__max_depth': 9, 'classifier__max_features': 'log2', 'classifier__n_estimators': 200}</td>\n",
       "      <td id=\"T_85bcd_row0_col4\" class=\"data row0 col4\" >0.909440</td>\n",
       "    </tr>\n",
       "    <tr>\n",
       "      <th id=\"T_85bcd_level0_row1\" class=\"row_heading level0 row1\" >1</th>\n",
       "      <td id=\"T_85bcd_row1_col0\" class=\"data row1 col0\" >LogisticRegression</td>\n",
       "      <td id=\"T_85bcd_row1_col1\" class=\"data row1 col1\" >148.926413</td>\n",
       "      <td id=\"T_85bcd_row1_col2\" class=\"data row1 col2\" >0.538761</td>\n",
       "      <td id=\"T_85bcd_row1_col3\" class=\"data row1 col3\" >{'classifier': LogisticRegression(random_state=17), 'classifier__C': 0.1, 'classifier__max_iter': 10, 'classifier__penalty': 'l2', 'classifier__solver': 'sag'}</td>\n",
       "      <td id=\"T_85bcd_row1_col4\" class=\"data row1 col4\" >0.902680</td>\n",
       "    </tr>\n",
       "    <tr>\n",
       "      <th id=\"T_85bcd_level0_row2\" class=\"row_heading level0 row2\" >2</th>\n",
       "      <td id=\"T_85bcd_row2_col0\" class=\"data row2 col0\" >Gaussian</td>\n",
       "      <td id=\"T_85bcd_row2_col1\" class=\"data row2 col1\" >0.186103</td>\n",
       "      <td id=\"T_85bcd_row2_col2\" class=\"data row2 col2\" >0.186103</td>\n",
       "      <td id=\"T_85bcd_row2_col3\" class=\"data row2 col3\" >{'classifier': GaussianNB()}</td>\n",
       "      <td id=\"T_85bcd_row2_col4\" class=\"data row2 col4\" >0.834320</td>\n",
       "    </tr>\n",
       "  </tbody>\n",
       "</table>\n"
      ],
      "text/plain": [
       "<pandas.io.formats.style.Styler at 0x2603e7dad90>"
      ]
     },
     "execution_count": 27,
     "metadata": {},
     "output_type": "execute_result"
    }
   ],
   "source": [
    "# df = df[df[\"param_classifier\"].str.contains(\"RandomForest\")].sort_values(by=\"mean_test_score\", ascending=False).head(1)]\n",
    "# testing_model = testing[testing['param_classifier'].str.contains(\"RandomForest\")].sort_values(by=\"mean_test_score\", ascending=False).head(1)\n",
    "# testing_model.params\n",
    "\n",
    "df['param_classifier'] = df['param_classifier'].astype(str)\n",
    "\n",
    "clf_result = pd.DataFrame([])\n",
    "model = [\"RandomForest\", \"LogisticRegression\", \"Gaussian\"]\n",
    "\n",
    "for i in model:\n",
    "    df_model = df[df['param_classifier'].str.contains(i)]\n",
    "    df_model[['model']] = i\n",
    "    df_model[['total_fit_time']] = np.sum(df_model[['mean_fit_time']])\n",
    "    df_model = df_model[[\"model\",\"total_fit_time\",\"mean_fit_time\",\"params\", \"mean_test_score\"]].sort_values(\n",
    "        by=\"mean_test_score\", ascending=False).head(1)\n",
    "\n",
    "    clf_result = clf_result.append(df_model, ignore_index = True)\n",
    "\n",
    "clf_result\n",
    "clf_result.style.set_properties(subset=['params'], **{'width': '250px'})"
   ]
  },
  {
   "cell_type": "markdown",
   "metadata": {
    "id": "5_io4Ndh6d8D"
   },
   "source": [
    "### Model analysis: Fit models & confusion matrices for classification models\n"
   ]
  },
  {
   "cell_type": "markdown",
   "metadata": {
    "id": "Z3u3lNWS6R-9"
   },
   "source": [
    "We now fit the models on the TRAIN data, and make predictions on VALIDATE data to generate a confusion matrix for each model.\n",
    "We shift from TUNE to TRAIN so that we can use as much data as possible to fit our model. The TUNE data was created as a subset of the TRAIN data, so that we could have better processing time when performing hyperparameter tuning. "
   ]
  },
  {
   "cell_type": "code",
   "execution_count": 28,
   "metadata": {
    "id": "UcVejIGa6WCH"
   },
   "outputs": [
    {
     "name": "stdout",
     "output_type": "stream",
     "text": [
      "Confusion matrix of Random Forest Classifier is:\n",
      "[[384567  25003]\n",
      " [ 23723 115738]]\n",
      "The score accuracy of Random Forest Classifier is 91.13%\n"
     ]
    }
   ],
   "source": [
    "from sklearn.metrics import confusion_matrix, accuracy_score\n",
    "\n",
    "classifier_rf = RandomForestClassifier(random_state=17, n_estimators=200, criterion=\"entropy\", max_features=\"log2\", max_depth=9)\n",
    "classifier_rf.fit(x_train, y_train['quart_binary'])\n",
    "rf_pred = classifier_rf.predict(x_val)\n",
    "cm_rf = confusion_matrix(y_val['quart_binary'], rf_pred)\n",
    "acc_rf = accuracy_score(y_val['quart_binary'], rf_pred) * 100\n",
    "print(\"Confusion matrix of Random Forest Classifier is:\")\n",
    "print(cm_rf)\n",
    "print(\"The score accuracy of Random Forest Classifier is {}%\".format(round(acc_rf,2)))"
   ]
  },
  {
   "cell_type": "markdown",
   "metadata": {
    "id": "yb0ecYUd6irT"
   },
   "source": [
    "Random Forest takes about 14 minutes to run. Accuracy is 91.1%."
   ]
  },
  {
   "cell_type": "code",
   "execution_count": 29,
   "metadata": {
    "id": "b_U6cTFI6j_q"
   },
   "outputs": [
    {
     "data": {
      "image/png": "[encoded data removed]",
      "text/plain": [
       "<Figure size 432x288 with 2 Axes>"
      ]
     },
     "metadata": {
      "needs_background": "light"
     },
     "output_type": "display_data"
    }
   ],
   "source": [
    "# Visualize confusion matrix as a heatmap \n",
    "import seaborn\n",
    "seaborn.heatmap(cm_rf, cmap=\"Blues\")\n",
    "plt.show()"
   ]
  },
  {
   "cell_type": "markdown",
   "metadata": {
    "id": "ZHXGRvRW7Lhg"
   },
   "source": [
    "**Logistic Regression classification model**"
   ]
  },
  {
   "cell_type": "code",
   "execution_count": 30,
   "metadata": {
    "id": "zbY7Pw7X6um8"
   },
   "outputs": [
    {
     "name": "stderr",
     "output_type": "stream",
     "text": [
      "C:\\Users\\sherm\\anaconda3\\lib\\site-packages\\sklearn\\linear_model\\_sag.py:328: ConvergenceWarning: The max_iter was reached which means the coef_ did not converge\n",
      "  warnings.warn(\"The max_iter was reached which means \"\n"
     ]
    },
    {
     "name": "stdout",
     "output_type": "stream",
     "text": [
      "Confusion matrix of Logistic Regression is:\n",
      "[[384378  25192]\n",
      " [ 31280 108181]]\n",
      "The score accuracy of Logistic Regression is 89.71%\n"
     ]
    }
   ],
   "source": [
    "classifier_lr = LogisticRegression(random_state=17, penalty=\"l2\", C=0.1, solver=\"sag\", max_iter=10)\n",
    "classifier_lr.fit(x_train, y_train['quart_binary'])\n",
    "lr_pred = classifier_lr.predict(x_val)\n",
    "cm_lr = confusion_matrix(y_val['quart_binary'], lr_pred)\n",
    "acc_lr = accuracy_score(y_val['quart_binary'], lr_pred) * 100\n",
    "print(\"Confusion matrix of Logistic Regression is:\")\n",
    "print(cm_lr)\n",
    "print(\"The score accuracy of Logistic Regression is {}%\".format(round(acc_lr,2)))"
   ]
  },
  {
   "cell_type": "markdown",
   "metadata": {
    "id": "KcHeXoiW6xfp"
   },
   "source": [
    "Logistic Regression takes about 20 seconds to run. Accuracy is 89.7%."
   ]
  },
  {
   "cell_type": "code",
   "execution_count": 31,
   "metadata": {
    "id": "E94ybxLE7FJw"
   },
   "outputs": [
    {
     "data": {
      "image/png": "[encoded data removed]",
      "text/plain": [
       "<Figure size 432x288 with 2 Axes>"
      ]
     },
     "metadata": {
      "needs_background": "light"
     },
     "output_type": "display_data"
    }
   ],
   "source": [
    "# Visualize confusion matrix as a heatmap \n",
    "import seaborn\n",
    "seaborn.heatmap(cm_lr, cmap=\"Blues\")\n",
    "plt.show()"
   ]
  },
  {
   "cell_type": "markdown",
   "metadata": {
    "id": "UX-Pj2MT7HyA"
   },
   "source": [
    "**Naive Bayes classification model**"
   ]
  },
  {
   "cell_type": "code",
   "execution_count": 32,
   "metadata": {
    "id": "xK_u59Ty7HCq"
   },
   "outputs": [
    {
     "name": "stdout",
     "output_type": "stream",
     "text": [
      "Confusion matrix of Naive Bayes is:\n",
      "[[364182  45388]\n",
      " [ 42877  96584]]\n",
      "The score accuracy of Naive Bayes is 83.92%\n"
     ]
    }
   ],
   "source": [
    "classifier_gnb = GaussianNB()\n",
    "classifier_gnb.fit(x_train, y_train['quart_binary'])\n",
    "gnb_pred = classifier_gnb.predict(x_val)\n",
    "cm_gnb = confusion_matrix(y_val['quart_binary'], gnb_pred)\n",
    "acc_gnb = accuracy_score(y_val['quart_binary'], gnb_pred) * 100\n",
    "print(\"Confusion matrix of Naive Bayes is:\")\n",
    "print(cm_gnb)\n",
    "print(\"The score accuracy of Naive Bayes is {}%\".format(round(acc_gnb,2)))"
   ]
  },
  {
   "cell_type": "markdown",
   "metadata": {
    "id": "DuWdVCEs7oPX"
   },
   "source": [
    "Naive Bayes takes about 6 seconds to run. Accuracy is 83.9%."
   ]
  },
  {
   "cell_type": "markdown",
   "metadata": {
    "id": "uib9iXLO8DWg"
   },
   "source": [
    "### Model analysis: ROC Curves for classification models"
   ]
  },
  {
   "cell_type": "markdown",
   "metadata": {
    "id": "UWS0eNnA8JE8"
   },
   "source": [
    "**ROC Curve: Random Forest**"
   ]
  },
  {
   "cell_type": "code",
   "execution_count": 33,
   "metadata": {
    "id": "HNmSTcbp8Ggy"
   },
   "outputs": [
    {
     "data": {
      "image/png": "[encoded data removed]",
      "text/plain": [
       "<Figure size 432x288 with 1 Axes>"
      ]
     },
     "metadata": {
      "needs_background": "light"
     },
     "output_type": "display_data"
    }
   ],
   "source": [
    "# ROC CURVE\n",
    "\n",
    "import matplotlib.pyplot as plt\n",
    "import numpy as np\n",
    "from numpy import array \n",
    "from sklearn import metrics\n",
    "\n",
    "# Labels are the values we want to predict\n",
    "rf_labels = np.array(y_val['quart_binary'])\n",
    "\n",
    "# this is a little repetitive (we already fit above)\n",
    "# keeping logic for future reference\n",
    "\n",
    "# # commenting out - we already ran above\n",
    "# # Instantiate model using values from our gridsearch best model\n",
    "# classifier_rf = RandomForestClassifier(random_state=17, n_estimators=200, criterion=\"entropy\", max_features=\"log2\", max_depth=9)\n",
    "\n",
    "# # commenting out - we already ran above\n",
    "# # Fit the model on training data \n",
    "# classifier_rf.fit(x_train, y_train['quart_binary'])\n",
    "\n",
    "# Use the forest's predict method on the validate data\n",
    "# store as an array so we can plot on ROC curve \n",
    "# rf_pred_stg = np.array(rf_pred.predict(x_val))\n",
    "\n",
    "# need to store our predictions in different format so that the ROC curve will plot \n",
    "rf_predictions = np.stack(rf_pred).astype(None)\n",
    "\n",
    "rf_fpr, rf_tpr, rf_thresholds = metrics.roc_curve(rf_labels, rf_predictions, pos_label='1')\n",
    "\n",
    "rf_roc_auc = metrics.auc(rf_fpr, rf_tpr)\n",
    "rf_display = metrics.RocCurveDisplay(fpr=rf_fpr, tpr=rf_tpr, roc_auc=rf_roc_auc,\n",
    "                                   estimator_name='example estimator')\n",
    "rf_display.plot()\n",
    "\n",
    "plt.show()"
   ]
  },
  {
   "cell_type": "markdown",
   "metadata": {
    "id": "AC-cOWUV8PSl"
   },
   "source": [
    "**ROC Curve: Logistic Regression**"
   ]
  },
  {
   "cell_type": "code",
   "execution_count": 34,
   "metadata": {
    "id": "TC0HX-ep8UD8"
   },
   "outputs": [],
   "source": [
    "# get parameters for best performing models into a list\n",
    "df_classifier = df.join(pd.DataFrame(df.pop('params').tolist()).fillna(0))\n",
    "df_classifier['classifier'] = df_classifier['classifier'].astype(str)"
   ]
  },
  {
   "cell_type": "code",
   "execution_count": 35,
   "metadata": {
    "id": "TPipaRsI8WOW"
   },
   "outputs": [
    {
     "data": {
      "text/html": [
       "<style type=\"text/css\">\n",
       "#T_828df_row0_col1 {\n",
       "  width: 300px;\n",
       "}\n",
       "</style>\n",
       "<table id=\"T_828df_\">\n",
       "  <thead>\n",
       "    <tr>\n",
       "      <th class=\"blank level0\" >&nbsp;</th>\n",
       "      <th class=\"col_heading level0 col0\" >mean_test_score</th>\n",
       "      <th class=\"col_heading level0 col1\" >param_classifier</th>\n",
       "      <th class=\"col_heading level0 col2\" >classifier__penalty</th>\n",
       "      <th class=\"col_heading level0 col3\" >classifier__C</th>\n",
       "      <th class=\"col_heading level0 col4\" >classifier__solver</th>\n",
       "      <th class=\"col_heading level0 col5\" >classifier__max_iter</th>\n",
       "    </tr>\n",
       "  </thead>\n",
       "  <tbody>\n",
       "    <tr>\n",
       "      <th id=\"T_828df_level0_row0\" class=\"row_heading level0 row0\" >110</th>\n",
       "      <td id=\"T_828df_row0_col0\" class=\"data row0 col0\" >0.902680</td>\n",
       "      <td id=\"T_828df_row0_col1\" class=\"data row0 col1\" >LogisticRegression(random_state=17)</td>\n",
       "      <td id=\"T_828df_row0_col2\" class=\"data row0 col2\" >l2</td>\n",
       "      <td id=\"T_828df_row0_col3\" class=\"data row0 col3\" >0.100000</td>\n",
       "      <td id=\"T_828df_row0_col4\" class=\"data row0 col4\" >sag</td>\n",
       "      <td id=\"T_828df_row0_col5\" class=\"data row0 col5\" >10.000000</td>\n",
       "    </tr>\n",
       "  </tbody>\n",
       "</table>\n"
      ],
      "text/plain": [
       "<pandas.io.formats.style.Styler at 0x26044c35490>"
      ]
     },
     "execution_count": 35,
     "metadata": {},
     "output_type": "execute_result"
    }
   ],
   "source": [
    "# get parameters for logistic regression model with best performance\n",
    "df_lr = df_classifier[df_classifier['classifier'].str.contains(\"LogisticRegression\")]\n",
    "df_lr = df_lr[[\"mean_test_score\",\"param_classifier\",\"classifier__penalty\",\"classifier__C\",\"classifier__solver\",\"classifier__max_iter\"]].sort_values(by=\"mean_test_score\", ascending=False).head(1)\n",
    "df_lr\n",
    "df_lr.style.set_properties(subset=['param_classifier'], **{'width': '300px'})"
   ]
  },
  {
   "cell_type": "code",
   "execution_count": 36,
   "metadata": {
    "id": "LZ3iNDDt8ZlX"
   },
   "outputs": [
    {
     "data": {
      "image/png": "[encoded data removed]",
      "text/plain": [
       "<Figure size 432x288 with 1 Axes>"
      ]
     },
     "metadata": {
      "needs_background": "light"
     },
     "output_type": "display_data"
    }
   ],
   "source": [
    "# ROC CURVE FOR LOGISTIC REGRESSION\n",
    "\n",
    "# this is a little repetitive (we already fit above)\n",
    "# keeping logic for future reference\n",
    "\n",
    "# # libraries already loaded above \n",
    "# import matplotlib.pyplot as plt\n",
    "# import numpy as np\n",
    "# from numpy import array \n",
    "# from sklearn import metrics\n",
    "\n",
    "# Labels are the values we want to predict\n",
    "logreg_labels = np.array(y_val['quart_binary'])\n",
    "\n",
    "# # Instantiate model using values from our gridsearch best model\n",
    "# logreg = LogisticRegression(random_state=17, penalty=\"l2\", C=0.1, solver=\"sag\", max_iter=10)\n",
    "\n",
    "# # commenting out - we already ran above\n",
    "# # Fit the model on training data\n",
    "# logreg.fit(x_train, y_train['quart_binary'])\n",
    "\n",
    "# # commenting out - we already ran above\n",
    "# # Predict method on the test data\n",
    "# # store as an array so we can plot on ROC curve \n",
    "# lr_pred = np.array(logreg.predict(x_val))\n",
    "\n",
    "# need to store our predictions in different format so that the ROC curve will plot \n",
    "logreg_predictions = np.stack(lr_pred).astype(None)\n",
    "\n",
    "logreg_fpr, logreg_tpr, logreg_thresholds = metrics.roc_curve(logreg_labels, logreg_predictions, pos_label='1')\n",
    "\n",
    "logreg_roc_auc = metrics.auc(logreg_fpr, logreg_tpr)\n",
    "logreg_display = metrics.RocCurveDisplay(fpr=logreg_fpr, tpr=logreg_tpr, roc_auc=logreg_roc_auc,\n",
    "                                   estimator_name='example estimator')\n",
    "logreg_display.plot()\n",
    "\n",
    "plt.show()"
   ]
  },
  {
   "cell_type": "markdown",
   "metadata": {
    "id": "8I72ch8n8b_D"
   },
   "source": [
    "**ROC Curve: Gaussian Naive Bayes**"
   ]
  },
  {
   "cell_type": "code",
   "execution_count": 37,
   "metadata": {
    "id": "5ygd2IUh8hNU"
   },
   "outputs": [
    {
     "data": {
      "text/html": [
       "<style type=\"text/css\">\n",
       "#T_a4107_row0_col4 {\n",
       "  width: 300px;\n",
       "}\n",
       "</style>\n",
       "<table id=\"T_a4107_\">\n",
       "  <thead>\n",
       "    <tr>\n",
       "      <th class=\"blank level0\" >&nbsp;</th>\n",
       "      <th class=\"col_heading level0 col0\" >mean_fit_time</th>\n",
       "      <th class=\"col_heading level0 col1\" >std_fit_time</th>\n",
       "      <th class=\"col_heading level0 col2\" >mean_score_time</th>\n",
       "      <th class=\"col_heading level0 col3\" >std_score_time</th>\n",
       "      <th class=\"col_heading level0 col4\" >param_classifier</th>\n",
       "      <th class=\"col_heading level0 col5\" >param_classifier__criterion</th>\n",
       "      <th class=\"col_heading level0 col6\" >param_classifier__max_depth</th>\n",
       "      <th class=\"col_heading level0 col7\" >param_classifier__max_features</th>\n",
       "      <th class=\"col_heading level0 col8\" >param_classifier__n_estimators</th>\n",
       "      <th class=\"col_heading level0 col9\" >param_classifier__C</th>\n",
       "      <th class=\"col_heading level0 col10\" >param_classifier__max_iter</th>\n",
       "      <th class=\"col_heading level0 col11\" >param_classifier__penalty</th>\n",
       "      <th class=\"col_heading level0 col12\" >param_classifier__solver</th>\n",
       "      <th class=\"col_heading level0 col13\" >split0_test_score</th>\n",
       "      <th class=\"col_heading level0 col14\" >split1_test_score</th>\n",
       "      <th class=\"col_heading level0 col15\" >split2_test_score</th>\n",
       "      <th class=\"col_heading level0 col16\" >split3_test_score</th>\n",
       "      <th class=\"col_heading level0 col17\" >split4_test_score</th>\n",
       "      <th class=\"col_heading level0 col18\" >mean_test_score</th>\n",
       "      <th class=\"col_heading level0 col19\" >std_test_score</th>\n",
       "      <th class=\"col_heading level0 col20\" >rank_test_score</th>\n",
       "      <th class=\"col_heading level0 col21\" >classifier</th>\n",
       "      <th class=\"col_heading level0 col22\" >classifier__criterion</th>\n",
       "      <th class=\"col_heading level0 col23\" >classifier__max_depth</th>\n",
       "      <th class=\"col_heading level0 col24\" >classifier__max_features</th>\n",
       "      <th class=\"col_heading level0 col25\" >classifier__n_estimators</th>\n",
       "      <th class=\"col_heading level0 col26\" >classifier__C</th>\n",
       "      <th class=\"col_heading level0 col27\" >classifier__max_iter</th>\n",
       "      <th class=\"col_heading level0 col28\" >classifier__penalty</th>\n",
       "      <th class=\"col_heading level0 col29\" >classifier__solver</th>\n",
       "    </tr>\n",
       "  </thead>\n",
       "  <tbody>\n",
       "    <tr>\n",
       "      <th id=\"T_a4107_level0_row0\" class=\"row_heading level0 row0\" >204</th>\n",
       "      <td id=\"T_a4107_row0_col0\" class=\"data row0 col0\" >0.186103</td>\n",
       "      <td id=\"T_a4107_row0_col1\" class=\"data row0 col1\" >0.013134</td>\n",
       "      <td id=\"T_a4107_row0_col2\" class=\"data row0 col2\" >0.051063</td>\n",
       "      <td id=\"T_a4107_row0_col3\" class=\"data row0 col3\" >0.008013</td>\n",
       "      <td id=\"T_a4107_row0_col4\" class=\"data row0 col4\" >GaussianNB()</td>\n",
       "      <td id=\"T_a4107_row0_col5\" class=\"data row0 col5\" >nan</td>\n",
       "      <td id=\"T_a4107_row0_col6\" class=\"data row0 col6\" >nan</td>\n",
       "      <td id=\"T_a4107_row0_col7\" class=\"data row0 col7\" >nan</td>\n",
       "      <td id=\"T_a4107_row0_col8\" class=\"data row0 col8\" >nan</td>\n",
       "      <td id=\"T_a4107_row0_col9\" class=\"data row0 col9\" >nan</td>\n",
       "      <td id=\"T_a4107_row0_col10\" class=\"data row0 col10\" >nan</td>\n",
       "      <td id=\"T_a4107_row0_col11\" class=\"data row0 col11\" >nan</td>\n",
       "      <td id=\"T_a4107_row0_col12\" class=\"data row0 col12\" >nan</td>\n",
       "      <td id=\"T_a4107_row0_col13\" class=\"data row0 col13\" >0.836200</td>\n",
       "      <td id=\"T_a4107_row0_col14\" class=\"data row0 col14\" >0.838300</td>\n",
       "      <td id=\"T_a4107_row0_col15\" class=\"data row0 col15\" >0.831700</td>\n",
       "      <td id=\"T_a4107_row0_col16\" class=\"data row0 col16\" >0.836600</td>\n",
       "      <td id=\"T_a4107_row0_col17\" class=\"data row0 col17\" >0.828800</td>\n",
       "      <td id=\"T_a4107_row0_col18\" class=\"data row0 col18\" >0.834320</td>\n",
       "      <td id=\"T_a4107_row0_col19\" class=\"data row0 col19\" >0.003519</td>\n",
       "      <td id=\"T_a4107_row0_col20\" class=\"data row0 col20\" >205</td>\n",
       "      <td id=\"T_a4107_row0_col21\" class=\"data row0 col21\" >GaussianNB()</td>\n",
       "      <td id=\"T_a4107_row0_col22\" class=\"data row0 col22\" >0</td>\n",
       "      <td id=\"T_a4107_row0_col23\" class=\"data row0 col23\" >0.000000</td>\n",
       "      <td id=\"T_a4107_row0_col24\" class=\"data row0 col24\" >0</td>\n",
       "      <td id=\"T_a4107_row0_col25\" class=\"data row0 col25\" >0.000000</td>\n",
       "      <td id=\"T_a4107_row0_col26\" class=\"data row0 col26\" >0.000000</td>\n",
       "      <td id=\"T_a4107_row0_col27\" class=\"data row0 col27\" >0.000000</td>\n",
       "      <td id=\"T_a4107_row0_col28\" class=\"data row0 col28\" >0</td>\n",
       "      <td id=\"T_a4107_row0_col29\" class=\"data row0 col29\" >0</td>\n",
       "    </tr>\n",
       "  </tbody>\n",
       "</table>\n"
      ],
      "text/plain": [
       "<pandas.io.formats.style.Styler at 0x260867f0730>"
      ]
     },
     "execution_count": 37,
     "metadata": {},
     "output_type": "execute_result"
    }
   ],
   "source": [
    "# get parameters for SVM(support vector machine)\n",
    "df_lr = df_classifier[df_classifier['classifier'].str.contains(\"Gaussian\")]\n",
    "df_lr = df_lr.sort_values(by=\"mean_test_score\", ascending=False).head(1)\n",
    "df_lr\n",
    "df_lr.style.set_properties(subset=['param_classifier'], **{'width': '300px'})"
   ]
  },
  {
   "cell_type": "code",
   "execution_count": 38,
   "metadata": {
    "id": "9cvNqRBV8i9q"
   },
   "outputs": [
    {
     "data": {
      "image/png": "[encoded data removed]",
      "text/plain": [
       "<Figure size 432x288 with 1 Axes>"
      ]
     },
     "metadata": {
      "needs_background": "light"
     },
     "output_type": "display_data"
    }
   ],
   "source": [
    "# ROC CURVE FOR GAUSSIAN NAIVE BAYES\n",
    "\n",
    "# this is a little repetitive (we already fit above)\n",
    "# keeping logic for future reference\n",
    "\n",
    "# # libraries already loaded above \n",
    "# import matplotlib.pyplot as plt\n",
    "# import numpy as np\n",
    "# from numpy import array \n",
    "# from sklearn import metrics\n",
    "\n",
    "# Labels are the values we want to predict\n",
    "gnb_labels = np.array(y_val['quart_binary'])\n",
    "\n",
    "# Instantiate model using values from our gridsearch best model\n",
    "# classifier_gnb = GaussianNB()\n",
    "\n",
    "# # commenting out - we already ran above\n",
    "# # Fit the model on training data\n",
    "# classifier_gnb.fit(x_train, y_train['quart_binary'])\n",
    "\n",
    "# # Predict on the validate data\n",
    "# # store as an array so we can plot on ROC curve \n",
    "# gnb_pred_stg = np.array(classifier_gnb.predict(x_val))\n",
    "\n",
    "# need to store our predictions in different format so that the ROC curve will plot \n",
    "gnb_predictions = np.stack(gnb_pred).astype(None)\n",
    "\n",
    "gnb_fpr, gnb_tpr, gnb_thresholds = metrics.roc_curve(gnb_labels, gnb_predictions, pos_label='1')\n",
    "\n",
    "gnb_roc_auc = metrics.auc(gnb_fpr, gnb_tpr)\n",
    "display = metrics.RocCurveDisplay(fpr=gnb_fpr, tpr=gnb_tpr, roc_auc=gnb_roc_auc,\n",
    "                                   estimator_name='example estimator')\n",
    "display.plot()\n",
    "\n",
    "plt.show()"
   ]
  },
  {
   "cell_type": "markdown",
   "metadata": {
    "id": "asIChxBU8nXK"
   },
   "source": [
    "### Feature importance: classification task"
   ]
  },
  {
   "cell_type": "markdown",
   "metadata": {
    "id": "kKbmn6nr8xkr"
   },
   "source": [
    "The random forest model performs best of the three classification models; we will interpret features below. \n",
    "\n",
    "Note: there are no coefficients for random forest model.\n",
    "Additional note: While radom forest has highest accuracy, it does have a much longer run-time. "
   ]
  },
  {
   "cell_type": "code",
   "execution_count": 39,
   "metadata": {
    "id": "tjr2Q_IA8zqg"
   },
   "outputs": [
    {
     "data": {
      "text/plain": [
       "array([5.84132734e-03, 1.27509045e-01, 2.06150558e-02, 4.33411373e-03,\n",
       "       3.71006511e-03, 5.10873524e-02, 2.62409668e-01, 2.49867588e-02,\n",
       "       1.68566414e-02, 4.04593116e-02, 7.83231452e-03, 7.64310653e-03,\n",
       "       2.51929364e-03, 7.83557450e-04, 1.50496105e-02, 1.11819007e-04,\n",
       "       6.00470739e-03, 5.25811471e-05, 1.93095489e-05, 3.51035521e-01,\n",
       "       5.11388397e-02])"
      ]
     },
     "execution_count": 39,
     "metadata": {},
     "output_type": "execute_result"
    }
   ],
   "source": [
    "classifier_rf.feature_importances_"
   ]
  },
  {
   "cell_type": "code",
   "execution_count": 40,
   "metadata": {
    "id": "vnFYf8GO82a8"
   },
   "outputs": [
    {
     "name": "stdout",
     "output_type": "stream",
     "text": [
      "Feature: assists          Score: 0.00584\n",
      "Feature: boosts           Score: 0.12751\n",
      "Feature: damageDealt      Score: 0.02062\n",
      "Feature: DBNOs            Score: 0.00433\n",
      "Feature: headshotKills    Score: 0.00371\n",
      "Feature: heals            Score: 0.05109\n",
      "Feature: killPlace        Score: 0.26241\n",
      "Feature: kills            Score: 0.02499\n",
      "Feature: killStreaks      Score: 0.01686\n",
      "Feature: longestKill      Score: 0.04046\n",
      "Feature: matchDuration    Score: 0.00783\n",
      "Feature: numGroups        Score: 0.00764\n",
      "Feature: rankPoints       Score: 0.00252\n",
      "Feature: revives          Score: 0.00078\n",
      "Feature: rideDistance     Score: 0.01505\n",
      "Feature: roadKills        Score: 0.00011\n",
      "Feature: swimDistance     Score: 0.00600\n",
      "Feature: teamKills        Score: 0.00005\n",
      "Feature: vehicleDestroys  Score: 0.00002\n",
      "Feature: walkDistance     Score: 0.35104\n",
      "Feature: weaponsAcquired  Score: 0.05114\n"
     ]
    },
    {
     "data": {
      "image/png": "[encoded data removed]",
      "text/plain": [
       "<Figure size 432x288 with 1 Axes>"
      ]
     },
     "metadata": {
      "needs_background": "light"
     },
     "output_type": "display_data"
    }
   ],
   "source": [
    "# code adapted from: https://machinelearningmastery.com/calculate-feature-importance-with-python/\n",
    "\n",
    "# get importance\n",
    "importance = classifier_rf.feature_importances_\n",
    "forest_importance = pd.Series(importance, cols_df[0:23])\n",
    "\n",
    "# summarize feature importance\n",
    "for name, v in forest_importance.items():\n",
    "    print('Feature: {} Score: {:.5f}'.format(name.ljust(16), v))\n",
    "\n",
    "# plot feature importance\n",
    "forest_importance.plot.bar()\n",
    "plt.show()"
   ]
  },
  {
   "cell_type": "markdown",
   "metadata": {},
   "source": [
    "The features with highest importance are *walkDistance*, *killPlace*, and *boosts*. These are similar results to our initial findings in the mini-lab.\n",
    "\n",
    "1. walkDistance: This variable represents the total distance walked by a player during the match. It makes sense that the walk distance would be an imporant factor for influencing the target variable (quart_binary); a player that places higher would be alive longer, and travel a greater distance, as compared to players that place lower (aka die early).\n",
    "\n",
    "2. killPlace: This variable represents a ranking in a given match, based on the number of enemy players killed. More enemy players killed means a better placement. It makes sense that this would be influential for our target variable, destroying a greater number of the other players means that there are fewer players to place higher than you. Additional research into analysis performed by others suggests that very few players adopt a 'passive' strategy (one in which they do not go on the offensive, attacking other players), and that even fewer manage to place highly in a given match when they have a minimal enemy kill count.\n",
    "\n",
    "3. boosts: Boosts are items that give players extra \"boosts\" of life; so if a player's health is diminished, they can use boost items to replenish their health, which in turn allows them to continue to play longer, which increases the chances that they will place higher."
   ]
  },
  {
   "cell_type": "markdown",
   "metadata": {
    "id": "GlGstxyp0Yyf"
   },
   "source": [
    "## Task 2: Regression models"
   ]
  },
  {
   "cell_type": "markdown",
   "metadata": {
    "id": "kPWQy6qv-_99"
   },
   "source": [
    "### Hyperparameter tuning: Regression model"
   ]
  },
  {
   "cell_type": "code",
   "execution_count": 41,
   "metadata": {
    "id": "dK45DWou-tGZ"
   },
   "outputs": [],
   "source": [
    "# Make new estimator compatible for use with GridSearchCV() and cross_validate()\n",
    "# -  Cap predict function for LinearRegression between 0 and 1\n",
    "from sklearn.base import BaseEstimator, RegressorMixin\n",
    "\n",
    "class CappedLinearRegression(LinearRegression):\n",
    "\n",
    "    def predict(self, X):\n",
    "        return np.clip(super(CappedLinearRegression, self).predict(X), 0, 1)\n",
    "# Credit to Dr. Drew: https://github.com/jakemdrew/DataMiningNotebooks/blob/master/07.%20Regression.ipynb"
   ]
  },
  {
   "cell_type": "code",
   "execution_count": 42,
   "metadata": {
    "id": "wgJyCdxo-xeB"
   },
   "outputs": [],
   "source": [
    "from sklearn.metrics import make_scorer, mean_absolute_error\n",
    "from sklearn.svm import SVR\n",
    "\n",
    "#Create scorers for MAE functions\n",
    "mae_scorer = make_scorer(score_func=mean_absolute_error, greater_is_better=False)"
   ]
  },
  {
   "cell_type": "code",
   "execution_count": 43,
   "metadata": {
    "id": "KKtVSYkV-0FF"
   },
   "outputs": [],
   "source": [
    "pipe_lr = Pipeline([(\"scaler\", StandardScaler()),\n",
    "                    (\"classifier\", CappedLinearRegression())])\n",
    "pipe_svr = Pipeline([(\"scaler\", StandardScaler()),\n",
    "                     (\"classifier\", SVR())])\n",
    "pipe_lasso = Pipeline([(\"scaler\", StandardScaler()),\n",
    "                       (\"classifier\", Lasso(random_state=17))])\n",
    "\n",
    "lr_param = [{\"classifier\": [CappedLinearRegression()],\n",
    "             \"classifier__fit_intercept\": [True, False],\n",
    "             \"classifier__normalize\":[True, False]\n",
    "            }\n",
    "]\n",
    "\n",
    "lasso_param = [{\"classifier\": [Lasso()],\n",
    "                \"classifier__alpha\": np.logspace(-2,2,5), #cannot set alpha=0 since that would be linear regression\n",
    "                \"classifier__fit_intercept\": [False, True],\n",
    "                \"classifier__normalize\": [False, True],\n",
    "                \"classifier__max_iter\": np.logspace(0,4,5),\n",
    "                \"classifier__selection\": ['cyclic', 'random']\n",
    "               }\n",
    "]\n",
    "\n",
    "svr_param = [{\"classifier\": [SVR()],\n",
    "              \"classifier__kernel\": [\"linear\",\"rbf\",\"sigmoid\"],\n",
    "              \"classifier__max_iter\": np.logspace(0,3,4),\n",
    "              \"classifier__C\": np.logspace(-1,4,6),\n",
    "              \"classifier__gamma\": ['scale','auto']\n",
    "             }\n",
    "]"
   ]
  },
  {
   "cell_type": "markdown",
   "metadata": {
    "id": "Ka6_epk9-4bq"
   },
   "source": [
    "**Tune Multi-Linear Regression**"
   ]
  },
  {
   "cell_type": "code",
   "execution_count": 44,
   "metadata": {
    "id": "KpqpR1ow-30G"
   },
   "outputs": [],
   "source": [
    "gridsearch = GridSearchCV(pipe_lr, lr_param, cv = 5, verbose = 0, n_jobs = -1, scoring=mae_scorer)\n",
    "bestLR_model = gridsearch.fit(x_tune, y_tune['winPlacePerc'])"
   ]
  },
  {
   "cell_type": "code",
   "execution_count": 45,
   "metadata": {
    "id": "YPPEEWc__PJ1"
   },
   "outputs": [],
   "source": [
    "gridsearch = GridSearchCV(pipe_lr, lr_param, cv = 5, verbose = 0, n_jobs = -1, scoring=mae_scorer)\n",
    "bestLR_model = gridsearch.fit(x_tune, y_tune['winPlacePerc'])"
   ]
  },
  {
   "cell_type": "code",
   "execution_count": 46,
   "metadata": {
    "id": "g_gy3BVJ_Ql2"
   },
   "outputs": [
    {
     "name": "stdout",
     "output_type": "stream",
     "text": [
      "Pipeline(steps=[('scaler', StandardScaler()),\n",
      "                ('classifier',\n",
      "                 CappedLinearRegression(fit_intercept='True',\n",
      "                                        normalize='True'))])\n",
      "The mean absolute error of the model is: -0.09125374257564545\n"
     ]
    }
   ],
   "source": [
    "print(bestLR_model.best_estimator_)\n",
    "print(\"The mean absolute error of the model is:\", bestLR_model.score(x_tune, y_tune['winPlacePerc']))"
   ]
  },
  {
   "cell_type": "markdown",
   "metadata": {
    "id": "vPUT6YUT_TdI"
   },
   "source": [
    "**Tune LASSO Regression**"
   ]
  },
  {
   "cell_type": "code",
   "execution_count": 47,
   "metadata": {
    "id": "12eEfbdV_T7p"
   },
   "outputs": [
    {
     "name": "stderr",
     "output_type": "stream",
     "text": [
      "C:\\Users\\sherm\\anaconda3\\lib\\site-packages\\sklearn\\linear_model\\_coordinate_descent.py:530: ConvergenceWarning: Objective did not converge. You might want to increase the number of iterations. Duality gap: 18.8509521484375, tolerance: 0.4727289378643036\n",
      "  model = cd_fast.enet_coordinate_descent(\n"
     ]
    }
   ],
   "source": [
    "gridsearch = GridSearchCV(pipe_lasso, lasso_param, cv = 5, verbose = 0, n_jobs = 8, scoring=mae_scorer)\n",
    "bestLASSO_model = gridsearch.fit(x_tune, y_tune['winPlacePerc'])"
   ]
  },
  {
   "cell_type": "code",
   "execution_count": 48,
   "metadata": {
    "id": "kW3L1OGp_k3-"
   },
   "outputs": [
    {
     "name": "stdout",
     "output_type": "stream",
     "text": [
      "Pipeline(steps=[('scaler', StandardScaler()),\n",
      "                ('classifier', Lasso(alpha=0.01, max_iter=10.0))])\n",
      "The mean absolute error of the model is: -0.10081980377435684\n"
     ]
    }
   ],
   "source": [
    "print(bestLASSO_model.best_estimator_)\n",
    "print(\"The mean absolute error of the model is:\",bestLASSO_model.score(x_tune, y_tune['winPlacePerc']))"
   ]
  },
  {
   "cell_type": "markdown",
   "metadata": {
    "id": "3Jm7ezpY_mco"
   },
   "source": [
    "**Tune Support Vector Regression**"
   ]
  },
  {
   "cell_type": "code",
   "execution_count": 49,
   "metadata": {
    "id": "8kI8V88C_r87"
   },
   "outputs": [
    {
     "name": "stderr",
     "output_type": "stream",
     "text": [
      "C:\\Users\\sherm\\anaconda3\\lib\\site-packages\\sklearn\\svm\\_base.py:255: ConvergenceWarning: Solver terminated early (max_iter=1000).  Consider pre-processing your data with StandardScaler or MinMaxScaler.\n",
      "  warnings.warn('Solver terminated early (max_iter=%i).'\n"
     ]
    }
   ],
   "source": [
    "gridsearch = GridSearchCV(pipe_svr, svr_param, cv = 5, verbose = 0, n_jobs = -1, scoring=mae_scorer)\n",
    "bestSVR_model = gridsearch.fit(x_tune, y_tune['winPlacePerc'])"
   ]
  },
  {
   "cell_type": "code",
   "execution_count": 50,
   "metadata": {
    "id": "D5SCKw4D_tj3"
   },
   "outputs": [
    {
     "name": "stdout",
     "output_type": "stream",
     "text": [
      "Pipeline(steps=[('scaler', StandardScaler()),\n",
      "                ('classifier', SVR(max_iter=1000.0))])\n",
      "The mean absolute error of the model is: -0.09106828169510284\n"
     ]
    }
   ],
   "source": [
    "print(bestSVR_model.best_estimator_)\n",
    "print(\"The mean absolute error of the model is:\",bestSVR_model.score(x_tune, y_tune['winPlacePerc']))"
   ]
  },
  {
   "cell_type": "code",
   "execution_count": 53,
   "metadata": {
    "id": "SZ1CgdZI_uyr"
   },
   "outputs": [],
   "source": [
    "df_reg = pd.DataFrame(bestLR_model.cv_results_)\n",
    "df_reg = df_reg.append(pd.DataFrame(bestSVR_model.cv_results_), ignore_index=True)\n",
    "df_reg = df_reg.append(pd.DataFrame(bestLASSO_model.cv_results_), ignore_index = True)"
   ]
  },
  {
   "cell_type": "code",
   "execution_count": 54,
   "metadata": {
    "id": "1l2OXfYO_wrM"
   },
   "outputs": [
    {
     "data": {
      "text/html": [
       "<style type=\"text/css\">\n",
       "#T_c966f_row0_col3, #T_c966f_row1_col3, #T_c966f_row2_col3 {\n",
       "  width: 250px;\n",
       "}\n",
       "</style>\n",
       "<table id=\"T_c966f_\">\n",
       "  <thead>\n",
       "    <tr>\n",
       "      <th class=\"blank level0\" >&nbsp;</th>\n",
       "      <th class=\"col_heading level0 col0\" >model</th>\n",
       "      <th class=\"col_heading level0 col1\" >total_fit_time</th>\n",
       "      <th class=\"col_heading level0 col2\" >mean_fit_time</th>\n",
       "      <th class=\"col_heading level0 col3\" >params</th>\n",
       "      <th class=\"col_heading level0 col4\" >mean_test_score</th>\n",
       "    </tr>\n",
       "  </thead>\n",
       "  <tbody>\n",
       "    <tr>\n",
       "      <th id=\"T_c966f_level0_row0\" class=\"row_heading level0 row0\" >0</th>\n",
       "      <td id=\"T_c966f_row0_col0\" class=\"data row0 col0\" >CappedLinearRegression</td>\n",
       "      <td id=\"T_c966f_row0_col1\" class=\"data row0 col1\" >0.364620</td>\n",
       "      <td id=\"T_c966f_row0_col2\" class=\"data row0 col2\" >0.090959</td>\n",
       "      <td id=\"T_c966f_row0_col3\" class=\"data row0 col3\" >{'classifier': CappedLinearRegression(fit_intercept='True', normalize='True'), 'classifier__fit_intercept': 'True', 'classifier__normalize': 'True'}</td>\n",
       "      <td id=\"T_c966f_row0_col4\" class=\"data row0 col4\" >-0.091298</td>\n",
       "    </tr>\n",
       "    <tr>\n",
       "      <th id=\"T_c966f_level0_row1\" class=\"row_heading level0 row1\" >1</th>\n",
       "      <td id=\"T_c966f_row1_col0\" class=\"data row1 col0\" >Lasso</td>\n",
       "      <td id=\"T_c966f_row1_col1\" class=\"data row1 col1\" >25.147403</td>\n",
       "      <td id=\"T_c966f_row1_col2\" class=\"data row1 col2\" >0.130251</td>\n",
       "      <td id=\"T_c966f_row1_col3\" class=\"data row1 col3\" >{'classifier': Lasso(alpha=0.01, max_iter=10.0), 'classifier__alpha': 0.01, 'classifier__fit_intercept': True, 'classifier__max_iter': 10.0, 'classifier__normalize': False, 'classifier__selection': 'cyclic'}</td>\n",
       "      <td id=\"T_c966f_row1_col4\" class=\"data row1 col4\" >-0.100839</td>\n",
       "    </tr>\n",
       "    <tr>\n",
       "      <th id=\"T_c966f_level0_row2\" class=\"row_heading level0 row2\" >2</th>\n",
       "      <td id=\"T_c966f_row2_col0\" class=\"data row2 col0\" >SVR</td>\n",
       "      <td id=\"T_c966f_row2_col1\" class=\"data row2 col1\" >518.355386</td>\n",
       "      <td id=\"T_c966f_row2_col2\" class=\"data row2 col2\" >17.174954</td>\n",
       "      <td id=\"T_c966f_row2_col3\" class=\"data row2 col3\" >{'classifier': SVR(max_iter=1000.0), 'classifier__C': 1.0, 'classifier__gamma': 'scale', 'classifier__kernel': 'rbf', 'classifier__max_iter': 1000.0}</td>\n",
       "      <td id=\"T_c966f_row2_col4\" class=\"data row2 col4\" >-0.109514</td>\n",
       "    </tr>\n",
       "  </tbody>\n",
       "</table>\n"
      ],
      "text/plain": [
       "<pandas.io.formats.style.Styler at 0x2603ece3a30>"
      ]
     },
     "execution_count": 54,
     "metadata": {},
     "output_type": "execute_result"
    }
   ],
   "source": [
    "df_reg['param_classifier'] = df_reg['param_classifier'].astype(str)\n",
    "\n",
    "clf_result = pd.DataFrame([])\n",
    "model = [\"CappedLinearRegression\", \"Lasso\", \"SVR\"]\n",
    "\n",
    "for i in model:\n",
    "    df_model = df_reg[df_reg['param_classifier'].str.contains(i)]\n",
    "    df_model[['model']] = i\n",
    "    df_model[['total_fit_time']] = np.sum(df_model[['mean_fit_time']])\n",
    "    df_model = df_model[[\"model\",\"total_fit_time\",\"mean_fit_time\",\"params\", \"mean_test_score\"]].sort_values(\n",
    "        by=\"mean_test_score\", ascending=False).head(1)\n",
    "\n",
    "    clf_result = clf_result.append(df_model, ignore_index = True)\n",
    "\n",
    "clf_result\n",
    "clf_result.style.set_properties(subset=['params'], **{'width': '250px'})"
   ]
  },
  {
   "cell_type": "markdown",
   "metadata": {
    "id": "Tsj8_tvcC1Fq"
   },
   "source": [
    "## Model analysis: Fit models & confusion matrices for regression models"
   ]
  },
  {
   "cell_type": "markdown",
   "metadata": {
    "id": "g8g6aU6yC67V"
   },
   "source": [
    "**Capped Linear Regression**"
   ]
  },
  {
   "cell_type": "code",
   "execution_count": 60,
   "metadata": {
    "id": "ZBm5FC6NC0SW"
   },
   "outputs": [
    {
     "name": "stdout",
     "output_type": "stream",
     "text": [
      "Mean absolute error for Capped Linear Regression is 0.09077530354261398\n"
     ]
    }
   ],
   "source": [
    "classifier_clr = CappedLinearRegression(fit_intercept=True, normalize=True)\n",
    "classifier_clr.fit(x_train, y_train['winPlacePerc'])\n",
    "clr_pred = classifier_clr.predict(x_val)\n",
    "acc_clr = mean_absolute_error(y_val['winPlacePerc'], clr_pred)\n",
    "\n",
    "print(\"Mean absolute error for Capped Linear Regression is {}\".format(acc_clr))"
   ]
  },
  {
   "cell_type": "markdown",
   "metadata": {
    "id": "rQarpsQgDGAu"
   },
   "source": [
    "**Lasso Regression**"
   ]
  },
  {
   "cell_type": "code",
   "execution_count": 61,
   "metadata": {
    "id": "CfS8xeTFDKPx"
   },
   "outputs": [
    {
     "name": "stdout",
     "output_type": "stream",
     "text": [
      "Mean absolute error for Lasso is 0.096245676279068\n"
     ]
    }
   ],
   "source": [
    "from warnings import simplefilter\n",
    "from sklearn.exceptions import ConvergenceWarning\n",
    "simplefilter(\"ignore\", category=ConvergenceWarning)\n",
    "\n",
    "classifier_las = Lasso(alpha=0.01, max_iter=10, fit_intercept=\"True\", selection=\"cyclic\")\n",
    "classifier_las.fit(x_train, y_train['winPlacePerc'])\n",
    "las_pred = classifier_las.predict(x_val)\n",
    "\n",
    "mae_las = mean_absolute_error(y_val[\"winPlacePerc\"], las_pred)\n",
    "print(\"Mean absolute error for Lasso is {}\".format(mae_las,))"
   ]
  },
  {
   "cell_type": "markdown",
   "metadata": {
    "id": "yOs3IpyMDBQD"
   },
   "source": [
    "**Support Vector Machine Regression**"
   ]
  },
  {
   "cell_type": "code",
   "execution_count": 62,
   "metadata": {
    "id": "G1v3a46lDEvq"
   },
   "outputs": [
    {
     "name": "stdout",
     "output_type": "stream",
     "text": [
      "Mean absolute error for SVR is 0.2690106262535688\n"
     ]
    }
   ],
   "source": [
    "classifier_svr = SVR(C=0.1, gamma=\"auto\", max_iter=1000, kernel=\"rbf\")\n",
    "classifier_svr.fit(x_train, y_train['winPlacePerc'])\n",
    "svr_pred = classifier_svr.predict(x_val)\n",
    "\n",
    "mae_svr = mean_absolute_error(y_val['winPlacePerc'], svr_pred)\n",
    "print(\"Mean absolute error for SVR is {}\".format(mae_svr))"
   ]
  },
  {
   "cell_type": "markdown",
   "metadata": {
    "id": "KOA9pjGzZoY7"
   },
   "source": [
    "# **MODEL ADVANTAGES**\n",
    "\n",
    "*Discuss the advantages of each model for each classification task, if any. If there are not advantages, explain why. Is any model better than another? Is the difference significant with 95% confidence? Use proper statistical comparison methods. You must use statistical comparison techniques—be sure they are appropriate for your chosen method of validation as discussed in unit 7 of the course.*"
   ]
  },
  {
   "cell_type": "markdown",
   "metadata": {
    "id": "VnavEhP9_804"
   },
   "source": [
    "1. Classification task: When we look at the ROC curves for our classification tasks, we can see that the Random Forest model has the most area under the curve, therefore we can say with statistical certainty that the Random Forest model is the best for our classification task.\n",
    "\n",
    "2. Classification task: We chose Random Forest as our best-performing model, but an argument could be made to change that assessment and choose the Logistic Regression model as the best. Why? Although Random Forest has the higher accuracy (around 91%), it takes about 15 minutes to run. Logistic Regression, on the other hand, only takes about 20 seconds to run, with an accuracy score of around 89%. The tradeoff in execution time may be worth the slight drop in accuracy.\n",
    "\n",
    "1. Regression task: The capped linear regression appeared to have the lowest mean absolute error. This is the optimal model in terms of score. The support vector regression appears unable to compete both in terms of mean absolute error & in terms of run-time. Regression tasks appear better suited to other tools such as multiple linear regression and LASSO (in this particular case)."
   ]
  },
  {
   "cell_type": "markdown",
   "metadata": {
    "id": "z9pNiSyLArlA"
   },
   "source": [
    "# **MODEL PERFORMANCE ON UNSEEN DATA (TEST)**"
   ]
  },
  {
   "cell_type": "markdown",
   "metadata": {
    "id": "hrc9U17vAx1P"
   },
   "source": [
    "In this section we will see how well our best models generalize to unseen data, by making predictions on our TEST data."
   ]
  },
  {
   "cell_type": "markdown",
   "metadata": {
    "id": "DZ7MUUspBGSS"
   },
   "source": [
    "**Classification task: Random Forest**"
   ]
  },
  {
   "cell_type": "code",
   "execution_count": 63,
   "metadata": {
    "id": "_BK3WiSnBTnh"
   },
   "outputs": [
    {
     "name": "stdout",
     "output_type": "stream",
     "text": [
      "Confusion matrix of Random Forest Classifier is:\n",
      "[[191861  12716]\n",
      " [ 12023  57916]]\n",
      "The score accuracy of Random Forest Classifier is 90.99%\n"
     ]
    }
   ],
   "source": [
    "# we already fit the model on the train data earlier \n",
    "# do not need to repeat that step here\n",
    "\n",
    "# classifier_rf = RandomForestClassifier(random_state=17, n_estimators=200, criterion=\"entropy\", max_features=\"log2\", max_depth=9)\n",
    "# classifier_rf.fit(x_train, y_train['quart_binary'])\n",
    "\n",
    "rf_pred_test = classifier_rf.predict(x_test)\n",
    "cm_rf_test = confusion_matrix(y_test['quart_binary'], rf_pred_test)\n",
    "acc_rf_test = accuracy_score(y_test['quart_binary'], rf_pred_test) * 100\n",
    "print(\"Confusion matrix of Random Forest Classifier is:\")\n",
    "print(cm_rf_test)\n",
    "print(\"The score accuracy of Random Forest Classifier is {}%\".format(round(acc_rf_test,2)))"
   ]
  },
  {
   "cell_type": "markdown",
   "metadata": {
    "id": "bheCGkIvBKrr"
   },
   "source": [
    "**Regression task: Lasso Regression**"
   ]
  },
  {
   "cell_type": "code",
   "execution_count": 65,
   "metadata": {},
   "outputs": [
    {
     "name": "stdout",
     "output_type": "stream",
     "text": [
      "Mean absolute error for Lasso is 0.09625202417373657\n"
     ]
    }
   ],
   "source": [
    "las_pred_test = classifier_las.predict(x_test)\n",
    "mae_las_test = mean_absolute_error(y_test[\"winPlacePerc\"], las_pred_test)\n",
    "print(\"Mean absolute error for Lasso is {}\".format(mae_las_test))"
   ]
  },
  {
   "cell_type": "markdown",
   "metadata": {
    "id": "64xEpuPafx26"
   },
   "source": [
    "# **DEPLOYMENT**"
   ]
  },
  {
   "cell_type": "markdown",
   "metadata": {
    "id": "ilSE72BSdU3R"
   },
   "source": [
    "**How useful is your model for interested parties (i.e., the companies or organizations that might want to use it for prediction)?** "
   ]
  },
  {
   "cell_type": "markdown",
   "metadata": {
    "id": "T2p8w8N_-O_d"
   },
   "source": [
    "Our models could be quite useful for different companies or organizations interested in putting together an e-sport betting portfolio."
   ]
  },
  {
   "cell_type": "markdown",
   "metadata": {
    "id": "Y0ru4eP-dbs8"
   },
   "source": [
    "**How would you measure the model's value if it was used by these parties?**"
   ]
  },
  {
   "cell_type": "markdown",
   "metadata": {
    "id": "dz6UgpuC-Tl3"
   },
   "source": [
    "When we look at the ROC curves for our classification tasks, we can see that the Random Forest model has the most area under the curve, therefore we can say with statistical certainty that the Random Forest model is the best for our classification task.\n",
    "\n",
    "As our prediction algorithms succeed or fail, we would be required to further tune our models. But the obvious metric from a gambling perspective would be the net gain to net loss ratio in dollars."
   ]
  },
  {
   "cell_type": "markdown",
   "metadata": {
    "id": "yT7ovqaJdeut"
   },
   "source": [
    "**How would you deploy your model for interested parties?** "
   ]
  },
  {
   "cell_type": "markdown",
   "metadata": {},
   "source": [
    "We could look to incorporate real-time information uploads to the model during tournament gameplay. Since PUBG gives out certain data via their PUBG Developer API, we should be capable to capturing the needed information and running evaluation metrics."
   ]
  },
  {
   "cell_type": "markdown",
   "metadata": {
    "id": "Dnod0I3-dh5H"
   },
   "source": [
    "**What other data should be collected?** "
   ]
  },
  {
   "cell_type": "markdown",
   "metadata": {},
   "source": [
    "One of the most pertinent pieces of information that could be included would be average survival time in-match. This would allow us to look at predicting how long a player may survive for. This could heavily influence prediction capabilities."
   ]
  },
  {
   "cell_type": "markdown",
   "metadata": {
    "id": "3Q1bTYuLdoQp"
   },
   "source": [
    "**How often would the model need to be updated, etc.?**"
   ]
  },
  {
   "cell_type": "markdown",
   "metadata": {},
   "source": [
    "The model would likely need to be updated every tournament cycle. We could look at more frequent updates or cross-platform deployment."
   ]
  },
  {
   "cell_type": "markdown",
   "metadata": {
    "id": "1oefI4CXf2Ch"
   },
   "source": [
    "# **EXCEPTIONAL WORK**"
   ]
  },
  {
   "cell_type": "markdown",
   "metadata": {
    "id": "ajq-dSqvV_MD"
   },
   "source": [
    "1. Grid search = gridsearchCV used to tune hyperparameters.\n",
    "2. Adding new features = we built new variables for our models to predict (quart_binary is a new attribute we generated for the classification task).\n",
    "3. Data pre-processing and feature selection to optimize run-times (this was huge for us—so I'm proud of our updates to the dataset).\n",
    "4. Post-hoc analysis and data manipulation for ease of display.\n",
    "5. Attempts at mlxtend for 2-sample ttest were made. Significant issues were encountered with not enough resources available to troubleshoot. It appears that pipelines cannot be passed to mlxtend.evaluate.paired_ttest_5x2cv... though this was not apparent in any github notes.\n"
   ]
  }
 ],
 "metadata": {
  "colab": {
   "collapsed_sections": [],
   "name": "ML1_proj2.ipynb",
   "provenance": [],
   "toc_visible": true
  },
  "kernelspec": {
   "display_name": "Python 3 (ipykernel)",
   "language": "python",
   "name": "python3"
  },
  "language_info": {
   "codemirror_mode": {
    "name": "ipython",
    "version": 3
   },
   "file_extension": ".py",
   "mimetype": "text/x-python",
   "name": "python",
   "nbconvert_exporter": "python",
   "pygments_lexer": "ipython3",
   "version": "3.9.7"
  }
 },
 "nbformat": 4,
 "nbformat_minor": 1
}
